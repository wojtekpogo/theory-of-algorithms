{
 "cells": [
  {
   "cell_type": "markdown",
   "id": "8ce4b5d6-a2b3-4412-8d79-cf7270dec37f",
   "metadata": {},
   "source": [
    "# Turning Machine\n",
    "***\n"
   ]
  },
  {
   "cell_type": "markdown",
   "id": "698750c1-563c-4861-b40c-cb6184309a80",
   "metadata": {},
   "source": [
    "$\\begin{array}{x{1cm}x{1cm}x{1cm}x{1cm}x{1cm}}\n",
    "    \\textrm{State} & \\textrm{Input} & \\textrm{Write} & \\textrm{Move} & \\textrm{Next} \\\\\n",
    "    \\hline\n",
    "    A & 0  & 0 & R & A \\\\\n",
    "    A & 1  & 1 & R & B \\\\\n",
    "    A & \\sqcup  & \\sqcup & L & T \\\\\n",
    "    \\hline\n",
    "    B & 0  & 0 & R & B \\\\\n",
    "    B & 0  & 0 & R & A \\\\\n",
    "    B & \\sqcup  & \\sqcup & L & F \\\\\n",
    "    \\hline\n",
    "\\end{array}$"
   ]
  },
  {
   "cell_type": "code",
   "execution_count": 1,
   "id": "d20e777e-b5bd-49a6-a2b2-2036ac53b36d",
   "metadata": {},
   "outputs": [],
   "source": [
    "# State table in Python Structure\n",
    "states = [\n",
    "    ['A','0','0','R','A'],\n",
    "    ['A','1','0','R','B'],\n",
    "    ['A','_','_','L','T'],\n",
    "    ['B','0','0','R','B'],\n",
    "    ['B','1','1','R','A'],\n",
    "    ['B','_','_','L','T'],\n",
    "]"
   ]
  },
  {
   "cell_type": "markdown",
   "id": "417a5cb8-e80b-4bad-91ce-0b29c8806347",
   "metadata": {},
   "source": [
    "***Tape has to be infinite in both directions***\n"
   ]
  },
  {
   "cell_type": "code",
   "execution_count": 2,
   "id": "b63d416c-8f2a-456d-89e5-eef577edc8fc",
   "metadata": {},
   "outputs": [],
   "source": [
    "# Single step of Turing Machine\n",
    "def step(tape,pos,state,states):\n",
    "    # Select the correct row of the table\n",
    "    for row in states:\n",
    "        if row[0] == state and row[1] == tape[pos]:\n",
    "            break\n",
    "        #row = list(filter(lambda x: x[0] == state and x[1] == tape[pos], states))[0]\n",
    "        # Override current symbol\n",
    "    tape[pos] = row[2]\n",
    "    # Move lefr=t or right\n",
    "    if row[3] == 'R':\n",
    "        pos = pos + 1\n",
    "    else:\n",
    "        pos = pos - 1\n",
    "    # Fix the tape if we go of either end\n",
    "    while pos < 0:\n",
    "        tape = ['_'] + tape\n",
    "        pos = pos+1\n",
    "    while pos >= len(tape):\n",
    "        tape = tape + ['_']\n",
    "    # Change the state\n",
    "    state = row[4]\n",
    "    \n",
    "    # Return the new configuration\n",
    "    return tape,pos, state"
   ]
  },
  {
   "cell_type": "code",
   "execution_count": 3,
   "id": "e0aa1e14-641d-4d0b-a555-78e54f6e8d44",
   "metadata": {},
   "outputs": [],
   "source": [
    "#Run the machine\n",
    "def run_machine(states,tape):\n",
    "    # Start state is top left in state table\n",
    "    state = states[0][0]\n",
    "    # Starting Position is left most cell of the tape\n",
    "    pos = 0\n",
    "    # Turn the tape into a list.\n",
    "    tape = list(tape)\n",
    "    # Run the machine until we get a terminal state\n",
    "    while state not in {'T','F'}:\n",
    "        # Display the current config\n",
    "        print(state, f'{pos:2}', ''.join(tape))\n",
    "        # Step the machine forward\n",
    "        tape, pos, state = step(tape,pos,state,states)\n",
    "    # Final config\n",
    "    print(state, f'{pos:2}', ''.join(tape))\n",
    "        "
   ]
  },
  {
   "cell_type": "code",
   "execution_count": 4,
   "id": "274c7efd-461f-451d-83ce-79eef23313cc",
   "metadata": {},
   "outputs": [
    {
     "name": "stdout",
     "output_type": "stream",
     "text": [
      "A  0 00011010\n",
      "A  1 00011010\n",
      "A  2 00011010\n",
      "A  3 00011010\n",
      "B  4 00001010\n",
      "A  5 00001010\n",
      "A  6 00001010\n",
      "B  7 00001000\n",
      "B  8 00001000_\n",
      "T  7 00001000_\n"
     ]
    }
   ],
   "source": [
    "run_machine(states, '00011010')"
   ]
  },
  {
   "cell_type": "markdown",
   "id": "f7306204-9816-48f8-aa69-256136a5d69f",
   "metadata": {},
   "source": [
    "# [Halting Problem](https://brilliant.org/wiki/halting-problem/)\n",
    "\n",
    "***\n",
    "\n",
    "Program: $p$.\n",
    "\n",
    "Encoding of $p$ in binary (i.e. $p$ as a string): $\\langle p \\rangle$.\n",
    "\n",
    "String: x.\n",
    "\n",
    "$H = \\{\\langle p,x \\rangle \\ |  \\textrm{program } p  \\textrm{ halts on input } x \\}$\n",
    "\n",
    "$A$: a Turing Machine that accepts all members of $H$ and rejects all non-members of $H$, i.e.  $A$ decides $H$.\n",
    "\n",
    "$B$: another Turing machine, takes an encoding $\\langle p \\rangle$ of a program $p$ and runs $A$ on $\\langle p, \\langle p \\rangle \\rangle$ (itself), accepts if and only if $A$ rejects, loops infinitely otherwise.\n",
    "\n",
    "**What happens when $B$ receives $\\langle B \\rangle $ as an input?**\n",
    "\n",
    "Then $A$ gets called with $\\langle B, \\langle B \\rangle \\rangle $ as input.\n",
    "\n",
    "Now, $A$ must either accept or reject this input (it's a **decider**).\n",
    "\n",
    "If $A$ ***accepts***: $B$ on input $\\langle B \\rangle $ *halts*. However, by $B$'s own definition, if $A$ accepts (which is this case), then $B$ infinitely loops with $\\langle B \\rangle $ as input. This can't happen - it's a **contradiction**.\n",
    "\n",
    "If $A$ ***rejects***: $B$ on input $\\langle B \\rangle $ *does not halt*. So, $A$ should reject $\\langle B, \\langle B \\rangle \\rangle $, so then $B$ *does halt* (by accepting) on input $\\langle B \\rangle $. So, again there's a **contradiction**.\n",
    "\n",
    "So, the Turing machine $A$ cannot exist.\n",
    "\n"
   ]
  },
  {
   "cell_type": "code",
   "execution_count": null,
   "id": "fd65ad84-66a1-4522-b66b-750c3685ee39",
   "metadata": {},
   "outputs": [],
   "source": []
  },
  {
   "cell_type": "code",
   "execution_count": null,
   "id": "defd3d77-321a-4e43-8834-2aef77a66c8a",
   "metadata": {},
   "outputs": [],
   "source": []
  },
  {
   "cell_type": "code",
   "execution_count": null,
   "id": "df68dcf1-6c48-481b-abdd-c57b90e90121",
   "metadata": {},
   "outputs": [],
   "source": []
  },
  {
   "cell_type": "code",
   "execution_count": null,
   "id": "85d9561c-fb35-49c7-a987-a7d03dd0016b",
   "metadata": {},
   "outputs": [],
   "source": []
  }
 ],
 "metadata": {
  "kernelspec": {
   "display_name": "Python 3",
   "language": "python",
   "name": "python3"
  },
  "language_info": {
   "codemirror_mode": {
    "name": "ipython",
    "version": 3
   },
   "file_extension": ".py",
   "mimetype": "text/x-python",
   "name": "python",
   "nbconvert_exporter": "python",
   "pygments_lexer": "ipython3",
   "version": "3.8.8"
  }
 },
 "nbformat": 4,
 "nbformat_minor": 5
}
