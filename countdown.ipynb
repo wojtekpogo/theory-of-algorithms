{
 "cells": [
  {
   "cell_type": "markdown",
   "id": "4609637c-4cf9-4246-9368-c05ad0f7bbda",
   "metadata": {},
   "source": [
    "# Countdown Numbers Game"
   ]
  },
  {
   "cell_type": "markdown",
   "id": "ea42a3ff-8726-4ec8-bfea-756c7f02da7f",
   "metadata": {},
   "source": [
    "![Countdown_titles_2012-removebg-preview](https://user-images.githubusercontent.com/55446533/167231820-53955fa6-a65c-4192-9462-39d728a2a819.png)\n",
    "\n",
    "###  Overview and explanation of the Countdown Numbers Game\n",
    "\n",
    "\n",
    "The Countdown Numbers Game is a popular arithmetic quiz which has been played as a two-player game on French and British television. [[6](#section6)] The contestants, who are competing against each other, select 6 numbers that are face down. There is an option of 24 numbers from which the 6 are picked from. The 24 tiles are split into 2 groups: *small numbers* and *large numbers*. The small numbers are a selection of numbers from **1** to **10**. There are 2 each of these. There are 4 large numbers, **25**, **50**, **75** and **100**. The contestants decide how many large and small numbers will be used in the 6. There is a maximum of 4 large numbers that can be used and a minimum of 0. For example, the contestant could pick 2 large numbers and 4 small numbers. The contestants then have to solve the equation.\n",
    "\n",
    "\n",
    "<div><img src=\"https://user-images.githubusercontent.com/55446533/167232436-2d6416c0-570b-41ac-8bbd-d3a798809d5e.jpg\" width=500> </div>"
   ]
  },
  {
   "cell_type": "markdown",
   "id": "09d09040-f3c1-4933-afd0-ac958bd15335",
   "metadata": {},
   "source": [
    "#### Rules [[5](#section5)]\n",
    "\n",
    "* 6 numbers are chosen at random from a set of 24 which contains all numbers from *1* to *10* (***small numbers***) twice plus *25*, *50*, *75* and *100* (***large numbers***). \n",
    "* A 3-digit target number is chosen at random\n",
    "* The contestants are given 30 seconds to get as close to the target number as possibile\n",
    "* Only the four standard operations ($+$ $−$ $×$ $÷$) can be used. As soon as two numbershave been used to make a new one, they can’t be used again, but the new number found can be used. \n",
    "* At all times, the running total must be a non-negative integer\n"
   ]
  },
  {
   "cell_type": "markdown",
   "id": "435f9bf5-719a-495e-9c8c-4f002ddd17ad",
   "metadata": {},
   "source": [
    "*Points are then awarded to each contestant based on how close they came to the target number.*"
   ]
  },
  {
   "cell_type": "markdown",
   "id": "c7729fb3-b6ee-4809-9fb0-a1a87888b324",
   "metadata": {},
   "source": [
    "### Example\n",
    "*Here's an example of the game in action. In this instance, one number was selected from the large set, and the rest from the small set.* [[1](#section1)]\n",
    "\n",
    "$ \\{ 50 , 8 , 3 , 7 , 2 , 10 \\} $\n",
    "\n",
    "*The randomly selected target was **556***.\n",
    "\n",
    "*There are multiple ways to solve this. The smallest solution requires just four numbers:*\n",
    "\n",
    "$ (50 × 10) + (8 × 7) = 556 $\n",
    "\n",
    "*More complex solutuion:*\n",
    "\n",
    "$ (((50 - 7) × 3) + 10) × 8) ÷ 2 = 556 $"
   ]
  },
  {
   "cell_type": "markdown",
   "id": "806a591e-3b18-4cc6-8555-bb77dcfa5933",
   "metadata": {},
   "source": [
    "### Discussion of the complexity of the Countdown Numbers Game"
   ]
  },
  {
   "cell_type": "markdown",
   "id": "b03019f7-c7bc-41a7-8a2f-f7a55b83a7fe",
   "metadata": {},
   "source": [
    "*During the research for this project, I was trying to find an answer for the following qustions:*\n",
    "\n",
    "* *Is it possible*\n",
    "* *What are possible ways of doing it if it can be done* \n",
    "* *If it's more than one way, can you find different ways*\n",
    "* *What is the ‘simplest’ solution to every problem (If there are multiple ways to solve any particular problem, what is the solution that requires the smallest number of donor numbers)*\n",
    "\n",
    "\n",
    "##### The essence of the problem\n",
    "\n"
   ]
  },
  {
   "cell_type": "markdown",
   "id": "230f665c-7d8d-46cd-ab45-fd1b43f05b39",
   "metadata": {},
   "source": [
    "*Given a sequence of source numbers and a single target number, attempt to construct an arithmetic expression using each of the source numbers at most once, and such that the result of evaluating the expression is the target number. The given numbers are restricted to being non-zero naturals, as are the intermediate results during evaluation of the expression, which can otherwise be freely constructed using addition, subtraction, multiplication and division.* [[7](#section7)]"
   ]
  },
  {
   "cell_type": "markdown",
   "id": "9a9461b0-fbb5-4d4c-b436-3bfde9e70e1d",
   "metadata": {},
   "source": [
    "Due to many different scenarios and variables available, the Countdown number game is extremely complex. Another way explaining the complexity of numbers game is the fact that generated *target* number sometimes creates scenarios where there is no possible way to correctly calculate it. The amount of ways in which the target number can be calculated adds on to the complexity of the game. There may not be just one correct answer but multiple ways of calculating it are possible which means thats finding all possible ways can be complex and time consuming. The player has only *30 seconds* to solve the equation which increases the difficulty. "
   ]
  },
  {
   "cell_type": "markdown",
   "id": "19a6dc8d-b239-41fd-91ed-ee67418a0292",
   "metadata": {},
   "source": [
    "# `Reverse Polish Notation`\n",
    "**RPN** - is a mathematical notation in which operators follow their operands [[2](#section2)]\n",
    "***"
   ]
  },
  {
   "cell_type": "code",
   "execution_count": 1,
   "id": "039a9d1a-147e-46c4-aee7-ac7f1e0159e1",
   "metadata": {},
   "outputs": [],
   "source": [
    "# Reverse Polish Notation\n",
    "# 3 4 5 + *"
   ]
  },
  {
   "cell_type": "code",
   "execution_count": 2,
   "id": "06beb67c-0dcc-44b5-a8df-01993a4f0ef0",
   "metadata": {},
   "outputs": [],
   "source": [
    "def evaluate_rpn(rpn):\n",
    "    # A stack\n",
    "    stack = []\n",
    "    # Loop through rpn one item at the time\n",
    "    for i in rpn:\n",
    "        # Check if i is an integer\n",
    "        if isinstance(i,int):\n",
    "            # Append to the stack\n",
    "            stack = stack + [i]\n",
    "        else:\n",
    "            # Pop from stack twice\n",
    "            right = stack[-1]\n",
    "            stack = stack[:-1]\n",
    "            left = stack[-1]\n",
    "            stack = stack[:-1]\n",
    "            # Push operator applied to stack element\n",
    "            stack = stack +[i(left,right)]\n",
    "        # Should only be 1 item on stack\n",
    "    return stack[0]         "
   ]
  },
  {
   "cell_type": "markdown",
   "id": "b2a49787-71d4-4144-8732-f8aacefc7dc6",
   "metadata": {},
   "source": [
    "## Solving the Countdown Numbers Game"
   ]
  },
  {
   "cell_type": "code",
   "execution_count": 3,
   "id": "c49757ef-5fb8-457e-b611-7838e35b40cb",
   "metadata": {},
   "outputs": [],
   "source": [
    "import random\n",
    "\n",
    "def subtract(x, y):\n",
    "    return x-y\n",
    "\n",
    "def add(x, y):\n",
    "    if x <= y:\n",
    "        return x+y\n",
    "    raise ValueError\n",
    "\n",
    "def multiply(x, y):\n",
    "    if x <= y or x == 1 or y == 1:\n",
    "        return x*y\n",
    "    raise ValueError\n",
    "\n",
    "def divide(x, y):\n",
    "    if not y or x % y or y == 1:\n",
    "        raise ValueError\n",
    "    return x/y\n",
    "\n",
    "# Represent arithmetic functions as a symbols\n",
    "add.str = '+'\n",
    "multiply.str = '*'\n",
    "subtract.str = '-'\n",
    "divide.str = '/'\n",
    "\n",
    "OPERATORS = [add, subtract, multiply, divide]"
   ]
  },
  {
   "cell_type": "code",
   "execution_count": 4,
   "id": "b24340b1-b675-46f8-8513-7baf0e9423e0",
   "metadata": {},
   "outputs": [],
   "source": [
    "def small_random():\n",
    "    # Generates 4 small numbers between 1-10 at random\n",
    "    return random.randint(1,10)"
   ]
  },
  {
   "cell_type": "code",
   "execution_count": 5,
   "id": "8a45e810-8fd9-44ff-b560-0eab78910e4e",
   "metadata": {},
   "outputs": [],
   "source": [
    "def large_random():\n",
    "    # Generates 2 large numbers from given list at random\n",
    "    return [25, 50, 75, 100][random.randint(0,2)]"
   ]
  },
  {
   "cell_type": "code",
   "execution_count": 6,
   "id": "6edacad6-772b-40ba-b841-b009bcb4221a",
   "metadata": {},
   "outputs": [],
   "source": [
    "def generate_rpn(numbers, depth=0):\n",
    "    \"\"\"Generates all permuations of RPN expression for given numbers\"\"\"\n",
    "    for i in range(len(numbers)):\n",
    "        yield ([numbers[i]], numbers[:i]+numbers[i+1:], numbers[i])\n",
    "    if len(numbers) >= 2+depth:\n",
    "        for rhs, rrs, rv in generate_rpn(numbers, depth+1):\n",
    "            for lhs, lrs, lv in generate_rpn(rrs, depth):\n",
    "                # Loop over the operators\n",
    "                for op in OPERATORS:\n",
    "                    try:\n",
    "                        yield ([lhs, rhs, op], lrs, op(lv, rv))\n",
    "                    except ValueError:\n",
    "                        pass"
   ]
  },
  {
   "cell_type": "code",
   "execution_count": 7,
   "id": "4a5ccd87-7672-494c-8735-385f4e3d2dc7",
   "metadata": {},
   "outputs": [],
   "source": [
    "def find_first_or_closest(target, numbers):\n",
    "    \"\"\"Find the first matching expression or the closest\"\"\"\n",
    "    generate = generate_rpn(numbers)\n",
    "    expression1, s, value1 = generate.__next__()\n",
    "    if value1 == target:\n",
    "        return expression1, target\n",
    "    # Closest expression & value\n",
    "    closest_v = value1\n",
    "    closest_e = expression1\n",
    "\n",
    "    for expression, s, value in generate_rpn(numbers):\n",
    "        # Target we've been looking for\n",
    "        if value == target:\n",
    "            return expression, target\n",
    "        # If no target value found, return closest to the target\n",
    "        elif abs(target - value) < abs(target - closest_v):\n",
    "            closest_v = value\n",
    "            closest_e = expression\n",
    "    return closest_e, closest_v"
   ]
  },
  {
   "cell_type": "code",
   "execution_count": 8,
   "id": "ee8a3a82-8feb-4991-8e69-da09aa6fd899",
   "metadata": {},
   "outputs": [],
   "source": [
    "def flatten_expression(expression):\n",
    "    \"\"\"The recursive approach of flattening a raw expression to a single array\n",
    "    https://miguendes.me/python-flatten-list#the-recursive-approach\"\"\"\n",
    "    if len(expression) == 3:\n",
    "        for y in flatten_expression(expression[0]):\n",
    "            yield y\n",
    "        for x in flatten_expression(expression[1]):\n",
    "            yield x\n",
    "        yield expression[2].str\n",
    "    elif len(expression) == 1:\n",
    "        yield expression[0]"
   ]
  },
  {
   "cell_type": "code",
   "execution_count": 9,
   "id": "d70cbd55-67c1-43ed-b63d-48650d7cb9c5",
   "metadata": {},
   "outputs": [],
   "source": [
    "# Idea of how to convert postifx to infix implemented from here https://codereview.stackexchange.com/questions/190533/countdown-numbers-game-solution-generator\n",
    "def postfix_to_infix(iterable):\n",
    "    \"\"\"Converts RPN to human readable infix\"\"\"\n",
    "    class Intermediate:\n",
    "        def __init__(self, expr, priority=False):\n",
    "            self.expr = expr\n",
    "            self.priority = priority\n",
    "    # Create a stack\n",
    "    stack = []\n",
    "    # Loop over the iterable\n",
    "    for token in iterable:\n",
    "        if token == \"+\" or token == \"-\":\n",
    "            right = stack.pop()\n",
    "            left = stack.pop()\n",
    "            temp = Intermediate(left.expr + token + right.expr, True)\n",
    "            stack.append(temp)\n",
    "        elif token == \"*\" or token == \"/\":\n",
    "            right = stack.pop()\n",
    "            if right.priority:\n",
    "                right = Intermediate(\"(\" + right.expr + \")\")\n",
    "            left = stack.pop()\n",
    "            if left.priority:\n",
    "                left = Intermediate(\"(\" + left.expr + \")\")\n",
    "            temp = Intermediate(left.expr + token + right.expr)\n",
    "            stack.append(temp)\n",
    "        else:\n",
    "            stack.append(Intermediate(str(token)))\n",
    "    return stack.pop().expr"
   ]
  },
  {
   "cell_type": "code",
   "execution_count": 10,
   "id": "98289c5d-e28a-43f9-857f-05e6eda76822",
   "metadata": {},
   "outputs": [],
   "source": [
    "def solve(target, numbers):\n",
    "    expression, value = find_first_or_closest(target, numbers)\n",
    "    solution = postfix_to_infix(flatten_expression(expression))\n",
    "    return solution, value"
   ]
  },
  {
   "cell_type": "code",
   "execution_count": 11,
   "id": "b16357bc-5845-40d0-976c-ff22f95cc860",
   "metadata": {},
   "outputs": [],
   "source": [
    "\"\"\" Solves the countdown game \"\"\"\n",
    "def countdown_game(target, numbers):\n",
    "        print(\"Target:\", target)\n",
    "        print(\"Numbers:\", numbers)\n",
    "        \n",
    "        solution, value = solve(target, numbers)     \n",
    "        # Find the first correct solution\n",
    "        if value == target:\n",
    "            print(\"Found solution:\", solution, \"=\", value)\n",
    "        else:\n",
    "            print(\"Found closest:\", solution, \"=\", value)"
   ]
  },
  {
   "cell_type": "code",
   "execution_count": 12,
   "id": "09e309ae-8104-4a04-947c-d58227eed7a5",
   "metadata": {},
   "outputs": [],
   "source": [
    "target = random.randint(100,1000)"
   ]
  },
  {
   "cell_type": "code",
   "execution_count": 13,
   "id": "7c4ffc69-d5af-4188-a51e-24c049bf4200",
   "metadata": {},
   "outputs": [],
   "source": [
    "numbers = [ large_random() ] + [ small_random() for i in range(5) ]"
   ]
  },
  {
   "cell_type": "code",
   "execution_count": 14,
   "id": "022b8a5a-fe9a-43db-a06a-d6ca3b083031",
   "metadata": {},
   "outputs": [
    {
     "name": "stdout",
     "output_type": "stream",
     "text": [
      "Target: 421\n",
      "Numbers: [50, 5, 5, 7, 1, 4]\n",
      "Found solution: (5*(5*7+50)-4)*1 = 421\n",
      "Took 0.8348808288574219 seconds.\n",
      "\n"
     ]
    }
   ],
   "source": [
    "countdown_game(target,numbers)"
   ]
  },
  {
   "cell_type": "markdown",
   "id": "57a87f2e-0c8b-405b-aac2-841382e0e137",
   "metadata": {},
   "source": [
    "## Explanation of the functional aspects of the code\n",
    "\n",
    "*I've broke down the countdown game problem into smaller pieces. Each function is specified to perform one thing which increases *modularity*. This type of design is easier to test and debug.*\n",
    "\n",
    "#### Iterators\n",
    "\n",
    "An iterator is an object representing a stream of data; this object returns the data one element at a time. A Python iterator supports method called `__next__()`"
   ]
  },
  {
   "cell_type": "code",
   "execution_count": 3,
   "id": "320fab94-ad92-45cc-b30a-0ccec2f97da3",
   "metadata": {},
   "outputs": [],
   "source": [
    "def find_first_or_closest(target, numbers):\n",
    "    generate = generate_rpn(numbers)\n",
    "    expression1, s, value1 = generate.__next__()"
   ]
  },
  {
   "cell_type": "markdown",
   "id": "61ef0857-149d-441f-97f9-6ee854ad46b3",
   "metadata": {},
   "source": [
    "*Iterator has been used to iterate over the generated permuations of RPN expression.*"
   ]
  },
  {
   "cell_type": "markdown",
   "id": "2d095902-762e-4018-b1c3-a52248a9d9b7",
   "metadata": {},
   "source": [
    "#### Use of built- in functions\n",
    "\n",
    "Python has a set of built-in functions. During the development of this project I took advantage of few functions, *len()*, *abs()* and *range()*.\n",
    "\n",
    "* *len()* - Returns a length of an object\n",
    "* *abs()* - Makes any negative number to positive\n",
    "* *range()* - Returns a sequence of numbers, starting from 0 by default, and increments by 1 (by default)\n",
    "\n",
    "*Example of len() function in the code, which is used to loop over all given numbers*\n",
    "\n",
    "`for i in range(len(numbers)):`"
   ]
  },
  {
   "cell_type": "markdown",
   "id": "00a2fadd-7b69-456d-9dfa-90d17c59299f",
   "metadata": {},
   "source": [
    "Another example is a use of *range()* function which was helpful with generating the 6 numbers required for the game"
   ]
  },
  {
   "cell_type": "code",
   "execution_count": 8,
   "id": "83232bb5-f617-409e-ae11-ca86918d3694",
   "metadata": {},
   "outputs": [
    {
     "ename": "NameError",
     "evalue": "name 'large_random' is not defined",
     "output_type": "error",
     "traceback": [
      "\u001b[1;31m---------------------------------------------------------------------------\u001b[0m",
      "\u001b[1;31mNameError\u001b[0m                                 Traceback (most recent call last)",
      "\u001b[1;32m<ipython-input-8-727e499e8f11>\u001b[0m in \u001b[0;36m<module>\u001b[1;34m\u001b[0m\n\u001b[1;32m----> 1\u001b[1;33m \u001b[0mnumbers\u001b[0m \u001b[1;33m=\u001b[0m \u001b[1;33m[\u001b[0m \u001b[0mlarge_random\u001b[0m\u001b[1;33m(\u001b[0m\u001b[1;33m)\u001b[0m \u001b[1;33m]\u001b[0m \u001b[1;33m+\u001b[0m \u001b[1;33m[\u001b[0m \u001b[0msmall_random\u001b[0m\u001b[1;33m(\u001b[0m\u001b[1;33m)\u001b[0m \u001b[1;32mfor\u001b[0m \u001b[0mi\u001b[0m \u001b[1;32min\u001b[0m \u001b[0mrange\u001b[0m\u001b[1;33m(\u001b[0m\u001b[1;36m5\u001b[0m\u001b[1;33m)\u001b[0m \u001b[1;33m]\u001b[0m\u001b[1;33m\u001b[0m\u001b[1;33m\u001b[0m\u001b[0m\n\u001b[0m",
      "\u001b[1;31mNameError\u001b[0m: name 'large_random' is not defined"
     ]
    }
   ],
   "source": [
    "numbers = [ large_random() ] + [ small_random() for i in range(5) ]"
   ]
  },
  {
   "cell_type": "markdown",
   "id": "36fe7d8d-052b-4d92-8507-deaaadc5e0e4",
   "metadata": {},
   "source": [
    "#### Generators\n",
    "\n",
    "*Generators are a special class of functions that simplify the task of writing iterators. Regular functions compute a value and return it, but generators return an iterator that returns a stream of values.*\n",
    "\n",
    "*Example in code*"
   ]
  },
  {
   "cell_type": "code",
   "execution_count": 9,
   "id": "f41184f3-12a2-4813-bb92-81b080c03c5b",
   "metadata": {},
   "outputs": [],
   "source": [
    "def generate_rpn(numbers, depth=0):\n",
    "    \"\"\"Generates all permuations of RPN expression for given numbers\"\"\"\n",
    "    for i in range(len(numbers)):\n",
    "        yield ([numbers[i]], numbers[:i]+numbers[i+1:], numbers[i])"
   ]
  },
  {
   "cell_type": "markdown",
   "id": "d1ce51b7-8ee3-4e31-af74-baec60fe3be5",
   "metadata": {},
   "source": [
    "*Note the `yield` keyword, any function containing this keyword is a generator function.*"
   ]
  },
  {
   "cell_type": "code",
   "execution_count": null,
   "id": "79714164-6175-4629-b59d-2ee5a196579e",
   "metadata": {},
   "outputs": [],
   "source": []
  },
  {
   "cell_type": "code",
   "execution_count": null,
   "id": "d1477e85-8fd1-45c8-9077-3d9b17611eda",
   "metadata": {},
   "outputs": [],
   "source": []
  },
  {
   "cell_type": "code",
   "execution_count": null,
   "id": "1fe824ec-8950-4141-a22d-29a93494022f",
   "metadata": {},
   "outputs": [],
   "source": []
  },
  {
   "cell_type": "code",
   "execution_count": null,
   "id": "c49a511a-01ae-479a-81da-6c213f8453d8",
   "metadata": {},
   "outputs": [],
   "source": []
  },
  {
   "cell_type": "code",
   "execution_count": null,
   "id": "c1efcc70-b00b-4e9f-8419-655f769b7cd2",
   "metadata": {},
   "outputs": [],
   "source": []
  },
  {
   "cell_type": "markdown",
   "id": "1746283e-aa03-47e5-87a5-982b35d5cbe4",
   "metadata": {},
   "source": [
    "## References\n",
    "***"
   ]
  },
  {
   "cell_type": "markdown",
   "id": "9c4c39d6-13db-4251-946f-514cc325c905",
   "metadata": {},
   "source": [
    "<a id='section1'></a>[[1] Countdown Game Example](https://datagenetics.com/blog/august32014/index.html)"
   ]
  },
  {
   "cell_type": "markdown",
   "id": "48cf9df6-c06a-411f-b038-1b9136731132",
   "metadata": {},
   "source": [
    "<a id='section2'></a>[[2] Reverse Polish Notation ](https://en.wikipedia.org/wiki/Reverse_Polish_notation)"
   ]
  },
  {
   "cell_type": "markdown",
   "id": "ef9a1fd1-f976-4364-935c-7875d2a58701",
   "metadata": {},
   "source": [
    "<a id='section3'></a>[[3] Functional Programming in Python ](https://realpython.com/python-functional-programming/)"
   ]
  },
  {
   "cell_type": "markdown",
   "id": "373b865f-81ac-4e95-8f77-7ec821d73e69",
   "metadata": {},
   "source": [
    "<a id='section4'></a>[[4] Stackoverflow: Countdown Binary Trees](https://stackoverflow.com/a/54496061)"
   ]
  },
  {
   "cell_type": "markdown",
   "id": "31f9ad88-9ade-4ee5-af8e-dcca93d9f59f",
   "metadata": {},
   "source": [
    "<a id='section5'></a>[[5] (The Final) Countdown](https://easychair.org/publications/open/2L76)"
   ]
  },
  {
   "cell_type": "markdown",
   "id": "c056b208-ca8e-403b-bb01-0c2d977fe53e",
   "metadata": {},
   "source": [
    "<a id='section6'></a>[[6] Countdown Numbers Game: Solved, Analysed, Extended](http://doc.gold.ac.uk/aisb50/AISB50-S02/AISB50-S2-Colton-paper.pdf)"
   ]
  },
  {
   "cell_type": "markdown",
   "id": "0ad00403-78ce-4c96-9122-330a696b5f12",
   "metadata": {},
   "source": [
    "<a id='section7'></a>[[7] Countdown Problem](http://www.cs.nott.ac.uk/~pszgmh/countdown.pdf)"
   ]
  },
  {
   "cell_type": "code",
   "execution_count": null,
   "id": "1cb6d725-2926-4afa-bcce-d03f7110f71e",
   "metadata": {},
   "outputs": [],
   "source": []
  },
  {
   "cell_type": "code",
   "execution_count": null,
   "id": "b8251491-aec5-4f1c-abea-200dfea6309d",
   "metadata": {},
   "outputs": [],
   "source": []
  }
 ],
 "metadata": {
  "kernelspec": {
   "display_name": "Python 3",
   "language": "python",
   "name": "python3"
  },
  "language_info": {
   "codemirror_mode": {
    "name": "ipython",
    "version": 3
   },
   "file_extension": ".py",
   "mimetype": "text/x-python",
   "name": "python",
   "nbconvert_exporter": "python",
   "pygments_lexer": "ipython3",
   "version": "3.8.8"
  }
 },
 "nbformat": 4,
 "nbformat_minor": 5
}
