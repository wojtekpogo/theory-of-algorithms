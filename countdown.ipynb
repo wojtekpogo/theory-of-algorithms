{
 "cells": [
  {
   "cell_type": "markdown",
   "id": "4609637c-4cf9-4246-9368-c05ad0f7bbda",
   "metadata": {},
   "source": [
    "## Countdown Numbers Game"
   ]
  },
  {
   "cell_type": "markdown",
   "id": "ea42a3ff-8726-4ec8-bfea-756c7f02da7f",
   "metadata": {},
   "source": [
    "###  Overview and explanation of the Countdown Numbers Game"
   ]
  },
  {
   "cell_type": "markdown",
   "id": "09d09040-f3c1-4933-afd0-ac958bd15335",
   "metadata": {},
   "source": [
    "**Rules:**\n",
    "\n",
    "1. Game generates 6 random numbers\n",
    "2. The game generate target number\n",
    "3. The contestant has to get to the target number with any amount of numbers from the 6 random numbers, they can only use each number once. They don't have to use all the random numbers."
   ]
  },
  {
   "cell_type": "markdown",
   "id": "c7729fb3-b6ee-4809-9fb0-a1a87888b324",
   "metadata": {},
   "source": [
    "### Example\n",
    "*Here's an example of the game in action. In this instance, one number was selected from the large set, and the rest from the small set.* [[1](#section1)]\n",
    "\n",
    "$ \\{ 50 , 8 , 3 , 7 , 2 , 10 \\} $\n",
    "\n",
    "*The randomly selected target was **556***.\n",
    "\n",
    "*There are multiple ways to solve this. The smallest solution requires just four numbers:*\n",
    "\n",
    "$ (50 × 10) + (8 × 7) = 556 $\n",
    "\n",
    "*More complex solutuion:*\n",
    "\n",
    "$ (((50 - 7) × 3) + 10) × 8) ÷ 2 = 556 $"
   ]
  },
  {
   "cell_type": "markdown",
   "id": "806a591e-3b18-4cc6-8555-bb77dcfa5933",
   "metadata": {},
   "source": [
    "### Discussion of the complexity of the Countdown Numbers Game"
   ]
  },
  {
   "cell_type": "markdown",
   "id": "b03019f7-c7bc-41a7-8a2f-f7a55b83a7fe",
   "metadata": {},
   "source": [
    "* *Is it possible*\n",
    "* *What are possible ways of doing it if it can be done* \n",
    "* *If it's more than one way, can you find different ways*"
   ]
  },
  {
   "cell_type": "markdown",
   "id": "e6be7096-eb05-4859-8d54-468e0424f882",
   "metadata": {},
   "source": [
    "### Code"
   ]
  },
  {
   "cell_type": "code",
   "execution_count": 1,
   "id": "b453b5ca-6177-4d4a-8da5-cf874483efd3",
   "metadata": {},
   "outputs": [],
   "source": []
  },
  {
   "cell_type": "markdown",
   "id": "c0fbe367-4b1f-4e89-a57c-9f246e9bca38",
   "metadata": {},
   "source": [
    "## Itertools\n",
    "    \n"
   ]
  },
  {
   "cell_type": "markdown",
   "id": "7bd4f982-b403-4c5f-9750-53d4523613f1",
   "metadata": {},
   "source": [
    "*Example from [here](https://realpython.com/python-itertools/)*"
   ]
  },
  {
   "cell_type": "markdown",
   "id": "46408825-5123-4a89-82ee-684820fe1b66",
   "metadata": {},
   "source": [
    "*Here’s a common interview-style problem:\n",
    "You have three 20 dollar bills, five 10 dollar bills, two 5 dollar bills, and five 1 dollar bills. How many ways can you make change for a 100 dollar bill?\n",
    "To “brute force” this problem, you just start listing off the ways there are to choose one bill from your wallet, check whether any of these makes change for 100, then list the ways to pick two bills from your wallet, check again, and so on and so forth.*"
   ]
  },
  {
   "cell_type": "code",
   "execution_count": 7,
   "id": "2fafeccd-930f-445c-b762-19035533c6b8",
   "metadata": {},
   "outputs": [],
   "source": [
    "import itertools as it\n",
    "\n",
    "bills = [20, 20, 20, 10, 10, 10, 10, 10, 5, 5, 1, 1, 1, 1, 1]"
   ]
  },
  {
   "cell_type": "markdown",
   "id": "5867dfae-329e-4c19-b014-7bbc6b5f2b5c",
   "metadata": {},
   "source": [
    "A choice of $k$ things from a set of n things is called a **combination**"
   ]
  },
  {
   "cell_type": "markdown",
   "id": "fb112f5f-e3a2-4d91-8ec4-77d42877d4f4",
   "metadata": {},
   "source": [
    "The *itertools.combinations()* function takes two arguments—an iterable inputs and a positive integer n—and produces an iterator over tuples of all combinations of $n$ elements in inputs."
   ]
  },
  {
   "cell_type": "code",
   "execution_count": 1,
   "id": "e34bcb89-eeb6-46e4-935d-04b578d44010",
   "metadata": {},
   "outputs": [],
   "source": [
    "#list(it.combinations(bills, 3))"
   ]
  },
  {
   "cell_type": "markdown",
   "id": "6ccb1c57-8112-4fc7-9b23-1ccc06b3a556",
   "metadata": {},
   "source": [
    "To solve the problem, you can loop over the positive integers from 1 to len(bills), then check which combinations of each size add up to $100:"
   ]
  },
  {
   "cell_type": "code",
   "execution_count": 9,
   "id": "6b3b0232-5bea-437e-aa09-d30f06f30d8c",
   "metadata": {},
   "outputs": [],
   "source": [
    "makes_100 = []\n",
    "for n in range(1, len(bills) + 1):\n",
    "    for combination in it.combinations(bills, n):\n",
    "        if sum(combination) == 100:\n",
    "            makes_100.append(combination)"
   ]
  },
  {
   "cell_type": "code",
   "execution_count": 10,
   "id": "68165585-74b7-4348-8e4e-d9876e7c854a",
   "metadata": {},
   "outputs": [
    {
     "name": "stdout",
     "output_type": "stream",
     "text": [
      "[(20, 20, 20, 10, 10, 10, 10), (20, 20, 20, 10, 10, 10, 10), (20, 20, 20, 10, 10, 10, 10), (20, 20, 20, 10, 10, 10, 10), (20, 20, 20, 10, 10, 10, 10), (20, 20, 20, 10, 10, 10, 5, 5), (20, 20, 20, 10, 10, 10, 5, 5), (20, 20, 20, 10, 10, 10, 5, 5), (20, 20, 20, 10, 10, 10, 5, 5), (20, 20, 20, 10, 10, 10, 5, 5), (20, 20, 20, 10, 10, 10, 5, 5), (20, 20, 20, 10, 10, 10, 5, 5), (20, 20, 20, 10, 10, 10, 5, 5), (20, 20, 20, 10, 10, 10, 5, 5), (20, 20, 20, 10, 10, 10, 5, 5), (20, 20, 10, 10, 10, 10, 10, 5, 5), (20, 20, 10, 10, 10, 10, 10, 5, 5), (20, 20, 10, 10, 10, 10, 10, 5, 5), (20, 20, 20, 10, 10, 10, 5, 1, 1, 1, 1, 1), (20, 20, 20, 10, 10, 10, 5, 1, 1, 1, 1, 1), (20, 20, 20, 10, 10, 10, 5, 1, 1, 1, 1, 1), (20, 20, 20, 10, 10, 10, 5, 1, 1, 1, 1, 1), (20, 20, 20, 10, 10, 10, 5, 1, 1, 1, 1, 1), (20, 20, 20, 10, 10, 10, 5, 1, 1, 1, 1, 1), (20, 20, 20, 10, 10, 10, 5, 1, 1, 1, 1, 1), (20, 20, 20, 10, 10, 10, 5, 1, 1, 1, 1, 1), (20, 20, 20, 10, 10, 10, 5, 1, 1, 1, 1, 1), (20, 20, 20, 10, 10, 10, 5, 1, 1, 1, 1, 1), (20, 20, 20, 10, 10, 10, 5, 1, 1, 1, 1, 1), (20, 20, 20, 10, 10, 10, 5, 1, 1, 1, 1, 1), (20, 20, 20, 10, 10, 10, 5, 1, 1, 1, 1, 1), (20, 20, 20, 10, 10, 10, 5, 1, 1, 1, 1, 1), (20, 20, 20, 10, 10, 10, 5, 1, 1, 1, 1, 1), (20, 20, 20, 10, 10, 10, 5, 1, 1, 1, 1, 1), (20, 20, 20, 10, 10, 10, 5, 1, 1, 1, 1, 1), (20, 20, 20, 10, 10, 10, 5, 1, 1, 1, 1, 1), (20, 20, 20, 10, 10, 10, 5, 1, 1, 1, 1, 1), (20, 20, 20, 10, 10, 10, 5, 1, 1, 1, 1, 1), (20, 20, 10, 10, 10, 10, 10, 5, 1, 1, 1, 1, 1), (20, 20, 10, 10, 10, 10, 10, 5, 1, 1, 1, 1, 1), (20, 20, 10, 10, 10, 10, 10, 5, 1, 1, 1, 1, 1), (20, 20, 10, 10, 10, 10, 10, 5, 1, 1, 1, 1, 1), (20, 20, 10, 10, 10, 10, 10, 5, 1, 1, 1, 1, 1), (20, 20, 10, 10, 10, 10, 10, 5, 1, 1, 1, 1, 1)]\n"
     ]
    }
   ],
   "source": [
    "print(makes_100)"
   ]
  },
  {
   "cell_type": "code",
   "execution_count": 11,
   "id": "081e20f4-f7f5-4245-86a6-8cc49bdb8589",
   "metadata": {},
   "outputs": [
    {
     "data": {
      "text/plain": [
       "{(20, 20, 10, 10, 10, 10, 10, 5, 1, 1, 1, 1, 1),\n",
       " (20, 20, 10, 10, 10, 10, 10, 5, 5),\n",
       " (20, 20, 20, 10, 10, 10, 5, 1, 1, 1, 1, 1),\n",
       " (20, 20, 20, 10, 10, 10, 5, 5),\n",
       " (20, 20, 20, 10, 10, 10, 10)}"
      ]
     },
     "execution_count": 11,
     "metadata": {},
     "output_type": "execute_result"
    }
   ],
   "source": [
    "set(makes_100)"
   ]
  },
  {
   "cell_type": "code",
   "execution_count": null,
   "id": "ef338645-327a-44bb-8f43-053c5eec3bf7",
   "metadata": {},
   "outputs": [],
   "source": []
  },
  {
   "cell_type": "markdown",
   "id": "452a6040-cb50-4772-96f4-ef873bfff221",
   "metadata": {},
   "source": [
    "## Countdown Numbers\n",
    "***\n",
    "* *You're not allowed to have a negative number*\n",
    "* *You cannot have a fraction e.g 50/6*"
   ]
  },
  {
   "cell_type": "code",
   "execution_count": 5,
   "id": "dd241b87-d0e1-4ff5-a3ac-c6ba11c3c252",
   "metadata": {},
   "outputs": [],
   "source": [
    "# Permutations and combinations\n",
    "import itertools as it\n",
    "# RAndom number generation\n",
    "import random\n",
    "# Operators as function\n",
    "import operator"
   ]
  },
  {
   "cell_type": "markdown",
   "id": "2f571f59-a99d-4eca-9dc5-df436b6e92c8",
   "metadata": {},
   "source": [
    "## Simulate a Game"
   ]
  },
  {
   "cell_type": "code",
   "execution_count": 12,
   "id": "9dee8809-2987-4fde-ae7b-665035460919",
   "metadata": {},
   "outputs": [],
   "source": [
    "# Randomly create a game\n",
    "def new_numbers_game(no_large=None):\n",
    "    \"\"\"Returns six numbers and a target number representing a Countdown Numbers Game\"\"\"\n",
    "    #If no_large is None, then randomly pick value between 0 and 4 inclusive\n",
    "    if no_large is None:\n",
    "        # Randomly set a value of no_large\n",
    "        no_large = random.randrange(0,5)\n",
    "    # Select random small and large numbers\n",
    "    large_random = random.sample([25,50,75,100], no_large)\n",
    "    small_random = random.sample(list(range (1,11)), 6-no_large)\n",
    "    # Play numbers\n",
    "    play_numbers = large_random + small_random     \n",
    "    # Pick a Target number\n",
    "    target = random.randrange(101,1000)\n",
    "    \n",
    "    return play_numbers, target   "
   ]
  },
  {
   "cell_type": "code",
   "execution_count": 11,
   "id": "7d78a014-cf2c-4ff0-8266-0528a28f32a6",
   "metadata": {},
   "outputs": [
    {
     "data": {
      "text/plain": [
       "([5, 9, 3, 10, 7, 6], 331)"
      ]
     },
     "execution_count": 11,
     "metadata": {},
     "output_type": "execute_result"
    }
   ],
   "source": [
    "# Countdown numbers game, input for the solver\n",
    "new_numbers_game()"
   ]
  },
  {
   "cell_type": "markdown",
   "id": "d64fb8fe-5aa6-4df6-b04d-bebc47f832ad",
   "metadata": {},
   "source": [
    "## Countdown Game solver"
   ]
  },
  {
   "cell_type": "code",
   "execution_count": 15,
   "id": "147b4854-7bd3-4b53-9802-3a563598b7be",
   "metadata": {},
   "outputs": [
    {
     "data": {
      "text/plain": [
       "([100, 25, 2, 6, 3, 7], 627)"
      ]
     },
     "execution_count": 15,
     "metadata": {},
     "output_type": "execute_result"
    }
   ],
   "source": [
    "# New Game\n",
    "play_numbers, target = new_numbers_game()\n",
    "play_numbers, target"
   ]
  },
  {
   "cell_type": "code",
   "execution_count": 22,
   "id": "f339ea2c-d633-4186-a0aa-7ba4c1687ad9",
   "metadata": {},
   "outputs": [
    {
     "name": "stdout",
     "output_type": "stream",
     "text": [
      "(100, 25)\n",
      "100+25=125\n",
      "100*25=2500\n",
      "100-25=75\n",
      "\n",
      "(100, 2)\n",
      "100+2=102\n",
      "100*2=200\n",
      "100-2=98\n",
      "\n",
      "(100, 6)\n",
      "100+6=106\n",
      "100*6=600\n",
      "100-6=94\n",
      "\n",
      "(100, 3)\n",
      "100+3=103\n",
      "100*3=300\n",
      "100-3=97\n",
      "\n",
      "(100, 7)\n",
      "100+7=107\n",
      "100*7=700\n",
      "100-7=93\n",
      "\n",
      "(25, 100)\n",
      "25+100=125\n",
      "25*100=2500\n",
      "\n",
      "(25, 2)\n",
      "25+2=27\n",
      "25*2=50\n",
      "25-2=23\n",
      "\n",
      "(25, 6)\n",
      "25+6=31\n",
      "25*6=150\n",
      "25-6=19\n",
      "\n",
      "(25, 3)\n",
      "25+3=28\n",
      "25*3=75\n",
      "25-3=22\n",
      "\n",
      "(25, 7)\n",
      "25+7=32\n",
      "25*7=175\n",
      "25-7=18\n",
      "\n",
      "(2, 100)\n",
      "2+100=102\n",
      "2*100=200\n",
      "\n",
      "(2, 25)\n",
      "2+25=27\n",
      "2*25=50\n",
      "\n",
      "(2, 6)\n",
      "2+6=8\n",
      "2*6=12\n",
      "\n",
      "(2, 3)\n",
      "2+3=5\n",
      "2*3=6\n",
      "\n",
      "(2, 7)\n",
      "2+7=9\n",
      "2*7=14\n",
      "\n",
      "(6, 100)\n",
      "6+100=106\n",
      "6*100=600\n",
      "\n",
      "(6, 25)\n",
      "6+25=31\n",
      "6*25=150\n",
      "\n",
      "(6, 2)\n",
      "6+2=8\n",
      "6*2=12\n",
      "6-2=4\n",
      "\n",
      "(6, 3)\n",
      "6+3=9\n",
      "6*3=18\n",
      "6-3=3\n",
      "\n",
      "(6, 7)\n",
      "6+7=13\n",
      "6*7=42\n",
      "\n",
      "(3, 100)\n",
      "3+100=103\n",
      "3*100=300\n",
      "\n",
      "(3, 25)\n",
      "3+25=28\n",
      "3*25=75\n",
      "\n",
      "(3, 2)\n",
      "3+2=5\n",
      "3*2=6\n",
      "3-2=1\n",
      "\n",
      "(3, 6)\n",
      "3+6=9\n",
      "3*6=18\n",
      "\n",
      "(3, 7)\n",
      "3+7=10\n",
      "3*7=21\n",
      "\n",
      "(7, 100)\n",
      "7+100=107\n",
      "7*100=700\n",
      "\n",
      "(7, 25)\n",
      "7+25=32\n",
      "7*25=175\n",
      "\n",
      "(7, 2)\n",
      "7+2=9\n",
      "7*2=14\n",
      "7-2=5\n",
      "\n",
      "(7, 6)\n",
      "7+6=13\n",
      "7*6=42\n",
      "7-6=1\n",
      "\n",
      "(7, 3)\n",
      "7+3=10\n",
      "7*3=21\n",
      "7-3=4\n",
      "\n"
     ]
    }
   ],
   "source": [
    "for p in it.permutations(play_numbers,2):\n",
    "    print(p)\n",
    "    print(f'{p[0]}+{p[1]}={p[0]+p[1]}')\n",
    "    print(f'{p[0]}*{p[1]}={p[0]*p[1]}')\n",
    "    if p[0]-p[1]>0:\n",
    "        print(f'{p[0]}-{p[1]}={p[0]-p[1]}')\n",
    "    if p[0]/p[1] ==0:\n",
    "        print(f'{p[0]}/{p[1]}={p[0]/p[1]}')\n",
    "    print()"
   ]
  },
  {
   "cell_type": "code",
   "execution_count": null,
   "id": "62c44910-3b52-4f34-b1ce-4dcb4ab7919e",
   "metadata": {},
   "outputs": [],
   "source": []
  },
  {
   "cell_type": "code",
   "execution_count": null,
   "id": "039a9d1a-147e-46c4-aee7-ac7f1e0159e1",
   "metadata": {},
   "outputs": [],
   "source": []
  },
  {
   "cell_type": "code",
   "execution_count": null,
   "id": "96a4af36-2dbe-4090-85a7-8b5a7f9cba01",
   "metadata": {},
   "outputs": [],
   "source": []
  },
  {
   "cell_type": "code",
   "execution_count": null,
   "id": "ae31039d-60bf-4b26-b637-654637bd86ec",
   "metadata": {},
   "outputs": [],
   "source": []
  },
  {
   "cell_type": "code",
   "execution_count": null,
   "id": "7be98e5e-fa35-4c72-acf3-7cf24b002984",
   "metadata": {},
   "outputs": [],
   "source": []
  },
  {
   "cell_type": "code",
   "execution_count": null,
   "id": "2e1dc3f3-fdca-4c2f-b46d-cc8feffef3b6",
   "metadata": {},
   "outputs": [],
   "source": []
  },
  {
   "cell_type": "markdown",
   "id": "1746283e-aa03-47e5-87a5-982b35d5cbe4",
   "metadata": {},
   "source": [
    "## References\n",
    "***"
   ]
  },
  {
   "cell_type": "markdown",
   "id": "ac396910-541f-4994-8e4e-8919d52f8ac3",
   "metadata": {},
   "source": [
    "<a id='section1'></a>[[1] Countdown Game Example](https://datagenetics.com/blog/august32014/index.html)"
   ]
  },
  {
   "cell_type": "code",
   "execution_count": null,
   "id": "eccd297b-9ed8-4218-a258-21a3c72b7e7c",
   "metadata": {},
   "outputs": [],
   "source": []
  }
 ],
 "metadata": {
  "kernelspec": {
   "display_name": "Python 3",
   "language": "python",
   "name": "python3"
  },
  "language_info": {
   "codemirror_mode": {
    "name": "ipython",
    "version": 3
   },
   "file_extension": ".py",
   "mimetype": "text/x-python",
   "name": "python",
   "nbconvert_exporter": "python",
   "pygments_lexer": "ipython3",
   "version": "3.8.8"
  }
 },
 "nbformat": 4,
 "nbformat_minor": 5
}
