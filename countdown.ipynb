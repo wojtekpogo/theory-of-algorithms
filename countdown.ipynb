{
 "cells": [
  {
   "cell_type": "markdown",
   "id": "4609637c-4cf9-4246-9368-c05ad0f7bbda",
   "metadata": {},
   "source": [
    "## Countdown Numbers Game"
   ]
  },
  {
   "cell_type": "markdown",
   "id": "ea42a3ff-8726-4ec8-bfea-756c7f02da7f",
   "metadata": {},
   "source": [
    "###  Overview and explanation of the Countdown Numbers Game"
   ]
  },
  {
   "cell_type": "markdown",
   "id": "09d09040-f3c1-4933-afd0-ac958bd15335",
   "metadata": {},
   "source": [
    "**Rules:**\n",
    "\n",
    "6 numbers are drawn from a\n",
    "set of 24 which contains all numbers from *1* to *10* (***small numbers***) twice plus *25*, *50*, *75* and\n",
    "*100* (***large numbers***). Then, with these six numbers, the contestants have to find a number\n",
    "randomly drawn between *101* and *999* or, if it is impossible, the closest number to the number\n",
    "drawn. Only the four standard operations ($+$ $−$ $×$ $÷$) can be used. As soon as two numbers\n",
    "have been used to make a new one, they can’t be used again, but the new number found can\n",
    "be used. [[5](#section5)]\n"
   ]
  },
  {
   "cell_type": "markdown",
   "id": "435f9bf5-719a-495e-9c8c-4f002ddd17ad",
   "metadata": {},
   "source": []
  },
  {
   "cell_type": "markdown",
   "id": "c7729fb3-b6ee-4809-9fb0-a1a87888b324",
   "metadata": {},
   "source": [
    "### Example\n",
    "*Here's an example of the game in action. In this instance, one number was selected from the large set, and the rest from the small set.* [[1](#section1)]\n",
    "\n",
    "$ \\{ 50 , 8 , 3 , 7 , 2 , 10 \\} $\n",
    "\n",
    "*The randomly selected target was **556***.\n",
    "\n",
    "*There are multiple ways to solve this. The smallest solution requires just four numbers:*\n",
    "\n",
    "$ (50 × 10) + (8 × 7) = 556 $\n",
    "\n",
    "*More complex solutuion:*\n",
    "\n",
    "$ (((50 - 7) × 3) + 10) × 8) ÷ 2 = 556 $"
   ]
  },
  {
   "cell_type": "markdown",
   "id": "806a591e-3b18-4cc6-8555-bb77dcfa5933",
   "metadata": {},
   "source": [
    "### Discussion of the complexity of the Countdown Numbers Game"
   ]
  },
  {
   "cell_type": "markdown",
   "id": "b03019f7-c7bc-41a7-8a2f-f7a55b83a7fe",
   "metadata": {},
   "source": [
    "* *Is it possible*\n",
    "* *What are possible ways of doing it if it can be done* \n",
    "* *If it's more than one way, can you find different ways*"
   ]
  },
  {
   "cell_type": "markdown",
   "id": "e6be7096-eb05-4859-8d54-468e0424f882",
   "metadata": {},
   "source": [
    "### Code"
   ]
  },
  {
   "cell_type": "code",
   "execution_count": null,
   "id": "b453b5ca-6177-4d4a-8da5-cf874483efd3",
   "metadata": {},
   "outputs": [],
   "source": []
  },
  {
   "cell_type": "markdown",
   "id": "c0fbe367-4b1f-4e89-a57c-9f246e9bca38",
   "metadata": {},
   "source": [
    "## Itertools\n",
    "    \n"
   ]
  },
  {
   "cell_type": "markdown",
   "id": "7bd4f982-b403-4c5f-9750-53d4523613f1",
   "metadata": {},
   "source": [
    "*Example from [here](https://realpython.com/python-itertools/)*"
   ]
  },
  {
   "cell_type": "markdown",
   "id": "46408825-5123-4a89-82ee-684820fe1b66",
   "metadata": {},
   "source": [
    "*Here’s a common interview-style problem:\n",
    "You have three 20 dollar bills, five 10 dollar bills, two 5 dollar bills, and five 1 dollar bills. How many ways can you make change for a 100 dollar bill?\n",
    "To “brute force” this problem, you just start listing off the ways there are to choose one bill from your wallet, check whether any of these makes change for 100, then list the ways to pick two bills from your wallet, check again, and so on and so forth.*"
   ]
  },
  {
   "cell_type": "code",
   "execution_count": 1,
   "id": "2fafeccd-930f-445c-b762-19035533c6b8",
   "metadata": {},
   "outputs": [],
   "source": [
    "import itertools as it\n",
    "\n",
    "bills = [20, 20, 20, 10, 10, 10, 10, 10, 5, 5, 1, 1, 1, 1, 1]"
   ]
  },
  {
   "cell_type": "markdown",
   "id": "5867dfae-329e-4c19-b014-7bbc6b5f2b5c",
   "metadata": {},
   "source": [
    "A choice of $k$ things from a set of n things is called a **combination**"
   ]
  },
  {
   "cell_type": "markdown",
   "id": "fb112f5f-e3a2-4d91-8ec4-77d42877d4f4",
   "metadata": {},
   "source": [
    "The *itertools.combinations()* function takes two arguments—an iterable inputs and a positive integer n—and produces an iterator over tuples of all combinations of $n$ elements in inputs."
   ]
  },
  {
   "cell_type": "code",
   "execution_count": 2,
   "id": "e34bcb89-eeb6-46e4-935d-04b578d44010",
   "metadata": {},
   "outputs": [],
   "source": [
    "#list(it.combinations(bills, 3))"
   ]
  },
  {
   "cell_type": "markdown",
   "id": "6ccb1c57-8112-4fc7-9b23-1ccc06b3a556",
   "metadata": {},
   "source": [
    "To solve the problem, you can loop over the positive integers from 1 to len(bills), then check which combinations of each size add up to $100:"
   ]
  },
  {
   "cell_type": "code",
   "execution_count": 3,
   "id": "6b3b0232-5bea-437e-aa09-d30f06f30d8c",
   "metadata": {},
   "outputs": [],
   "source": [
    "makes_100 = []\n",
    "for n in range(1, len(bills) + 1):\n",
    "    for combination in it.combinations(bills, n):\n",
    "        if sum(combination) == 100:\n",
    "            makes_100.append(combination)"
   ]
  },
  {
   "cell_type": "code",
   "execution_count": 4,
   "id": "68165585-74b7-4348-8e4e-d9876e7c854a",
   "metadata": {},
   "outputs": [
    {
     "name": "stdout",
     "output_type": "stream",
     "text": [
      "[(20, 20, 20, 10, 10, 10, 10), (20, 20, 20, 10, 10, 10, 10), (20, 20, 20, 10, 10, 10, 10), (20, 20, 20, 10, 10, 10, 10), (20, 20, 20, 10, 10, 10, 10), (20, 20, 20, 10, 10, 10, 5, 5), (20, 20, 20, 10, 10, 10, 5, 5), (20, 20, 20, 10, 10, 10, 5, 5), (20, 20, 20, 10, 10, 10, 5, 5), (20, 20, 20, 10, 10, 10, 5, 5), (20, 20, 20, 10, 10, 10, 5, 5), (20, 20, 20, 10, 10, 10, 5, 5), (20, 20, 20, 10, 10, 10, 5, 5), (20, 20, 20, 10, 10, 10, 5, 5), (20, 20, 20, 10, 10, 10, 5, 5), (20, 20, 10, 10, 10, 10, 10, 5, 5), (20, 20, 10, 10, 10, 10, 10, 5, 5), (20, 20, 10, 10, 10, 10, 10, 5, 5), (20, 20, 20, 10, 10, 10, 5, 1, 1, 1, 1, 1), (20, 20, 20, 10, 10, 10, 5, 1, 1, 1, 1, 1), (20, 20, 20, 10, 10, 10, 5, 1, 1, 1, 1, 1), (20, 20, 20, 10, 10, 10, 5, 1, 1, 1, 1, 1), (20, 20, 20, 10, 10, 10, 5, 1, 1, 1, 1, 1), (20, 20, 20, 10, 10, 10, 5, 1, 1, 1, 1, 1), (20, 20, 20, 10, 10, 10, 5, 1, 1, 1, 1, 1), (20, 20, 20, 10, 10, 10, 5, 1, 1, 1, 1, 1), (20, 20, 20, 10, 10, 10, 5, 1, 1, 1, 1, 1), (20, 20, 20, 10, 10, 10, 5, 1, 1, 1, 1, 1), (20, 20, 20, 10, 10, 10, 5, 1, 1, 1, 1, 1), (20, 20, 20, 10, 10, 10, 5, 1, 1, 1, 1, 1), (20, 20, 20, 10, 10, 10, 5, 1, 1, 1, 1, 1), (20, 20, 20, 10, 10, 10, 5, 1, 1, 1, 1, 1), (20, 20, 20, 10, 10, 10, 5, 1, 1, 1, 1, 1), (20, 20, 20, 10, 10, 10, 5, 1, 1, 1, 1, 1), (20, 20, 20, 10, 10, 10, 5, 1, 1, 1, 1, 1), (20, 20, 20, 10, 10, 10, 5, 1, 1, 1, 1, 1), (20, 20, 20, 10, 10, 10, 5, 1, 1, 1, 1, 1), (20, 20, 20, 10, 10, 10, 5, 1, 1, 1, 1, 1), (20, 20, 10, 10, 10, 10, 10, 5, 1, 1, 1, 1, 1), (20, 20, 10, 10, 10, 10, 10, 5, 1, 1, 1, 1, 1), (20, 20, 10, 10, 10, 10, 10, 5, 1, 1, 1, 1, 1), (20, 20, 10, 10, 10, 10, 10, 5, 1, 1, 1, 1, 1), (20, 20, 10, 10, 10, 10, 10, 5, 1, 1, 1, 1, 1), (20, 20, 10, 10, 10, 10, 10, 5, 1, 1, 1, 1, 1)]\n"
     ]
    }
   ],
   "source": [
    "print(makes_100)"
   ]
  },
  {
   "cell_type": "code",
   "execution_count": 5,
   "id": "081e20f4-f7f5-4245-86a6-8cc49bdb8589",
   "metadata": {},
   "outputs": [
    {
     "data": {
      "text/plain": [
       "{(20, 20, 10, 10, 10, 10, 10, 5, 1, 1, 1, 1, 1),\n",
       " (20, 20, 10, 10, 10, 10, 10, 5, 5),\n",
       " (20, 20, 20, 10, 10, 10, 5, 1, 1, 1, 1, 1),\n",
       " (20, 20, 20, 10, 10, 10, 5, 5),\n",
       " (20, 20, 20, 10, 10, 10, 10)}"
      ]
     },
     "execution_count": 5,
     "metadata": {},
     "output_type": "execute_result"
    }
   ],
   "source": [
    "set(makes_100)"
   ]
  },
  {
   "cell_type": "code",
   "execution_count": null,
   "id": "ef338645-327a-44bb-8f43-053c5eec3bf7",
   "metadata": {},
   "outputs": [],
   "source": []
  },
  {
   "cell_type": "markdown",
   "id": "452a6040-cb50-4772-96f4-ef873bfff221",
   "metadata": {},
   "source": [
    "## Countdown Numbers\n",
    "***\n",
    "* *You're not allowed to have a negative number*\n",
    "* *You cannot have a fraction e.g 50/6*"
   ]
  },
  {
   "cell_type": "code",
   "execution_count": 6,
   "id": "dd241b87-d0e1-4ff5-a3ac-c6ba11c3c252",
   "metadata": {},
   "outputs": [],
   "source": [
    "# Permutations and combinations\n",
    "import itertools as it\n",
    "# RAndom number generation\n",
    "import random\n",
    "# Operators as function\n",
    "import operator"
   ]
  },
  {
   "cell_type": "markdown",
   "id": "2f571f59-a99d-4eca-9dc5-df436b6e92c8",
   "metadata": {},
   "source": [
    "## Simulate a Game"
   ]
  },
  {
   "cell_type": "code",
   "execution_count": 7,
   "id": "9dee8809-2987-4fde-ae7b-665035460919",
   "metadata": {},
   "outputs": [],
   "source": [
    "# Randomly create a game\n",
    "def new_numbers_game(no_large=None):\n",
    "    \"\"\"Returns six numbers and a target number representing a Countdown Numbers Game\"\"\"\n",
    "    #If no_large is None, then randomly pick value between 0 and 4 inclusive\n",
    "    if no_large is None:\n",
    "        # Randomly set a value of no_large\n",
    "        no_large = random.randrange(0,5)\n",
    "    # Select random small and large numbers\n",
    "    large_random = random.sample([25,50,75,100], no_large)\n",
    "    small_random = random.sample(list(range (1,11)), 6-no_large)\n",
    "    # Play numbers\n",
    "    play_numbers = large_random + small_random     \n",
    "    # Pick a Target number\n",
    "    target = random.randrange(101,1000)\n",
    "    \n",
    "    return play_numbers, target   "
   ]
  },
  {
   "cell_type": "code",
   "execution_count": 8,
   "id": "7d78a014-cf2c-4ff0-8266-0528a28f32a6",
   "metadata": {},
   "outputs": [
    {
     "data": {
      "text/plain": [
       "([8, 6, 5, 4, 7, 1], 916)"
      ]
     },
     "execution_count": 8,
     "metadata": {},
     "output_type": "execute_result"
    }
   ],
   "source": [
    "# Countdown numbers game, input for the solver\n",
    "new_numbers_game()"
   ]
  },
  {
   "cell_type": "markdown",
   "id": "d64fb8fe-5aa6-4df6-b04d-bebc47f832ad",
   "metadata": {},
   "source": [
    "## Countdown Game solver"
   ]
  },
  {
   "cell_type": "code",
   "execution_count": 9,
   "id": "147b4854-7bd3-4b53-9802-3a563598b7be",
   "metadata": {},
   "outputs": [
    {
     "data": {
      "text/plain": [
       "([50, 75, 9, 7, 4, 1], 807)"
      ]
     },
     "execution_count": 9,
     "metadata": {},
     "output_type": "execute_result"
    }
   ],
   "source": [
    "# New Game\n",
    "play_numbers, target = new_numbers_game()\n",
    "play_numbers, target"
   ]
  },
  {
   "cell_type": "code",
   "execution_count": 10,
   "id": "f339ea2c-d633-4186-a0aa-7ba4c1687ad9",
   "metadata": {},
   "outputs": [
    {
     "name": "stdout",
     "output_type": "stream",
     "text": [
      "(50, 75)\n",
      "50+75=125\n",
      "50*75=3750\n",
      "\n",
      "(50, 9)\n",
      "50+9=59\n",
      "50*9=450\n",
      "50-9=41\n",
      "\n",
      "(50, 7)\n",
      "50+7=57\n",
      "50*7=350\n",
      "50-7=43\n",
      "\n",
      "(50, 4)\n",
      "50+4=54\n",
      "50*4=200\n",
      "50-4=46\n",
      "\n",
      "(50, 1)\n",
      "50+1=51\n",
      "50*1=50\n",
      "50-1=49\n",
      "\n",
      "(75, 50)\n",
      "75+50=125\n",
      "75*50=3750\n",
      "75-50=25\n",
      "\n",
      "(75, 9)\n",
      "75+9=84\n",
      "75*9=675\n",
      "75-9=66\n",
      "\n",
      "(75, 7)\n",
      "75+7=82\n",
      "75*7=525\n",
      "75-7=68\n",
      "\n",
      "(75, 4)\n",
      "75+4=79\n",
      "75*4=300\n",
      "75-4=71\n",
      "\n",
      "(75, 1)\n",
      "75+1=76\n",
      "75*1=75\n",
      "75-1=74\n",
      "\n",
      "(9, 50)\n",
      "9+50=59\n",
      "9*50=450\n",
      "\n",
      "(9, 75)\n",
      "9+75=84\n",
      "9*75=675\n",
      "\n",
      "(9, 7)\n",
      "9+7=16\n",
      "9*7=63\n",
      "9-7=2\n",
      "\n",
      "(9, 4)\n",
      "9+4=13\n",
      "9*4=36\n",
      "9-4=5\n",
      "\n",
      "(9, 1)\n",
      "9+1=10\n",
      "9*1=9\n",
      "9-1=8\n",
      "\n",
      "(7, 50)\n",
      "7+50=57\n",
      "7*50=350\n",
      "\n",
      "(7, 75)\n",
      "7+75=82\n",
      "7*75=525\n",
      "\n",
      "(7, 9)\n",
      "7+9=16\n",
      "7*9=63\n",
      "\n",
      "(7, 4)\n",
      "7+4=11\n",
      "7*4=28\n",
      "7-4=3\n",
      "\n",
      "(7, 1)\n",
      "7+1=8\n",
      "7*1=7\n",
      "7-1=6\n",
      "\n",
      "(4, 50)\n",
      "4+50=54\n",
      "4*50=200\n",
      "\n",
      "(4, 75)\n",
      "4+75=79\n",
      "4*75=300\n",
      "\n",
      "(4, 9)\n",
      "4+9=13\n",
      "4*9=36\n",
      "\n",
      "(4, 7)\n",
      "4+7=11\n",
      "4*7=28\n",
      "\n",
      "(4, 1)\n",
      "4+1=5\n",
      "4*1=4\n",
      "4-1=3\n",
      "\n",
      "(1, 50)\n",
      "1+50=51\n",
      "1*50=50\n",
      "\n",
      "(1, 75)\n",
      "1+75=76\n",
      "1*75=75\n",
      "\n",
      "(1, 9)\n",
      "1+9=10\n",
      "1*9=9\n",
      "\n",
      "(1, 7)\n",
      "1+7=8\n",
      "1*7=7\n",
      "\n",
      "(1, 4)\n",
      "1+4=5\n",
      "1*4=4\n",
      "\n"
     ]
    }
   ],
   "source": [
    "for p in it.permutations(play_numbers,2):\n",
    "    print(p)\n",
    "    print(f'{p[0]}+{p[1]}={p[0]+p[1]}')\n",
    "    print(f'{p[0]}*{p[1]}={p[0]*p[1]}')\n",
    "    if p[0]-p[1]>0:\n",
    "        print(f'{p[0]}-{p[1]}={p[0]-p[1]}')\n",
    "    if p[0]/p[1] ==0:\n",
    "        print(f'{p[0]}/{p[1]}={p[0]/p[1]}')\n",
    "    print()"
   ]
  },
  {
   "cell_type": "markdown",
   "id": "fc85c73a-e952-4076-9cbf-71aa3b849468",
   "metadata": {},
   "source": [
    "## Operators and functions"
   ]
  },
  {
   "cell_type": "code",
   "execution_count": 11,
   "id": "5fa76a74-4c84-4096-ae1d-b8375f74228d",
   "metadata": {},
   "outputs": [
    {
     "data": {
      "text/plain": [
       "9"
      ]
     },
     "execution_count": 11,
     "metadata": {},
     "output_type": "execute_result"
    }
   ],
   "source": [
    "operator.add(4,5)"
   ]
  },
  {
   "cell_type": "code",
   "execution_count": 12,
   "id": "9e9102c9-ec65-47e7-ac5b-e5ece894ce0f",
   "metadata": {},
   "outputs": [
    {
     "data": {
      "text/plain": [
       "20"
      ]
     },
     "execution_count": 12,
     "metadata": {},
     "output_type": "execute_result"
    }
   ],
   "source": [
    "operator.mul(4,5)"
   ]
  },
  {
   "cell_type": "code",
   "execution_count": 13,
   "id": "2fe66212-8e14-401e-9129-019f75e09e90",
   "metadata": {},
   "outputs": [
    {
     "data": {
      "text/plain": [
       "-1"
      ]
     },
     "execution_count": 13,
     "metadata": {},
     "output_type": "execute_result"
    }
   ],
   "source": [
    "operator.sub(4,5)"
   ]
  },
  {
   "cell_type": "code",
   "execution_count": 14,
   "id": "fa36a733-b782-47ed-8ae5-c676272a02f1",
   "metadata": {},
   "outputs": [
    {
     "data": {
      "text/plain": [
       "0.8"
      ]
     },
     "execution_count": 14,
     "metadata": {},
     "output_type": "execute_result"
    }
   ],
   "source": [
    "operator.truediv(4,5)"
   ]
  },
  {
   "cell_type": "code",
   "execution_count": 15,
   "id": "427be64c-936e-49c2-b5b5-b19d0068ba37",
   "metadata": {},
   "outputs": [
    {
     "data": {
      "text/plain": [
       "[<function _operator.add(a, b, /)>,\n",
       " <function _operator.sub(a, b, /)>,\n",
       " <function _operator.mul(a, b, /)>,\n",
       " <function _operator.truediv(a, b, /)>,\n",
       " <function _operator.add(a, b, /)>,\n",
       " <function _operator.sub(a, b, /)>,\n",
       " <function _operator.mul(a, b, /)>,\n",
       " <function _operator.truediv(a, b, /)>,\n",
       " <function _operator.add(a, b, /)>,\n",
       " <function _operator.sub(a, b, /)>,\n",
       " <function _operator.mul(a, b, /)>,\n",
       " <function _operator.truediv(a, b, /)>,\n",
       " <function _operator.add(a, b, /)>,\n",
       " <function _operator.sub(a, b, /)>,\n",
       " <function _operator.mul(a, b, /)>,\n",
       " <function _operator.truediv(a, b, /)>,\n",
       " <function _operator.add(a, b, /)>,\n",
       " <function _operator.sub(a, b, /)>,\n",
       " <function _operator.mul(a, b, /)>,\n",
       " <function _operator.truediv(a, b, /)>]"
      ]
     },
     "execution_count": 15,
     "metadata": {},
     "output_type": "execute_result"
    }
   ],
   "source": [
    "ops = [operator.add, operator.sub, operator.mul, operator.truediv] *5\n",
    "ops"
   ]
  },
  {
   "cell_type": "code",
   "execution_count": 16,
   "id": "a67be4bc-1e5e-49d7-a8f0-fbbea95ad48a",
   "metadata": {},
   "outputs": [],
   "source": [
    "# Patterns of calculations that may be used in Countdown Game\n",
    "limit = 100\n",
    "for q in it.permutations(ops,5):\n",
    "    if limit == 0:\n",
    "        break\n",
    "    #print(q)\n",
    "    limit = limit -1"
   ]
  },
  {
   "cell_type": "code",
   "execution_count": 17,
   "id": "0c753d69-5513-40bc-888c-3522c938c790",
   "metadata": {},
   "outputs": [
    {
     "name": "stdout",
     "output_type": "stream",
     "text": [
      "(1, 2)\n",
      "(1, 3)\n",
      "(1, 4)\n",
      "(2, 3)\n",
      "(2, 4)\n",
      "(3, 4)\n"
     ]
    }
   ],
   "source": [
    "# Example of combination\n",
    "L = [1,2,3,4]\n",
    "\n",
    "for c in it.combinations(L,2):\n",
    "    print(c)"
   ]
  },
  {
   "cell_type": "code",
   "execution_count": 18,
   "id": "faf47413-16c0-4c2d-8cff-459602c34e2b",
   "metadata": {},
   "outputs": [
    {
     "name": "stdout",
     "output_type": "stream",
     "text": [
      "(1, 2)\n",
      "(1, 3)\n",
      "(1, 4)\n",
      "(2, 1)\n",
      "(2, 3)\n",
      "(2, 4)\n",
      "(3, 1)\n",
      "(3, 2)\n",
      "(3, 4)\n",
      "(4, 1)\n",
      "(4, 2)\n",
      "(4, 3)\n"
     ]
    }
   ],
   "source": [
    "# Example of permuation of size 2\n",
    "L = [1,2,3,4]\n",
    "\n",
    "for c in it.permutations(L,2):\n",
    "    print(c)"
   ]
  },
  {
   "cell_type": "code",
   "execution_count": 19,
   "id": "950d2466-6c02-495b-966d-6f6097229187",
   "metadata": {},
   "outputs": [
    {
     "name": "stdout",
     "output_type": "stream",
     "text": [
      "(1, 1)\n",
      "(1, 2)\n",
      "(1, 3)\n",
      "(1, 4)\n",
      "(2, 1)\n",
      "(2, 2)\n",
      "(2, 3)\n",
      "(2, 4)\n",
      "(3, 1)\n",
      "(3, 2)\n",
      "(3, 3)\n",
      "(3, 4)\n",
      "(4, 1)\n",
      "(4, 2)\n",
      "(4, 3)\n",
      "(4, 4)\n"
     ]
    }
   ],
   "source": [
    "# Example of permutation with repetition of size 2\n",
    "L = [1,2,3,4]\n",
    "for c in it.product(L,repeat = 2):\n",
    "    print(c)"
   ]
  },
  {
   "cell_type": "code",
   "execution_count": 20,
   "id": "37069aa2-239a-402a-aeda-dd03dd73a110",
   "metadata": {},
   "outputs": [],
   "source": [
    "# Using product\n",
    "ops = [operator.add, operator.sub, operator.mul, operator.truediv]\n",
    "limit = 100\n",
    "for q in it.product(ops,repeat=5):\n",
    "    if limit == 0:\n",
    "        break\n",
    "    #print(q)\n",
    "    limit = limit -1"
   ]
  },
  {
   "cell_type": "markdown",
   "id": "19a6dc8d-b239-41fd-91ed-ee67418a0292",
   "metadata": {},
   "source": [
    "# Reverse Polish Notation\n",
    "**RPN** - is a mathematical notation in which operators follow their operands [[2](#section2)]\n",
    "***"
   ]
  },
  {
   "cell_type": "code",
   "execution_count": 21,
   "id": "039a9d1a-147e-46c4-aee7-ac7f1e0159e1",
   "metadata": {},
   "outputs": [],
   "source": [
    "# Reverse Polish Notation\n",
    "# 3 4 5 + *"
   ]
  },
  {
   "cell_type": "code",
   "execution_count": 22,
   "id": "39a69bb9-60f5-427d-9053-78e294557b59",
   "metadata": {},
   "outputs": [
    {
     "data": {
      "text/plain": [
       "([50, 75, 25, 4, 3, 10], 577)"
      ]
     },
     "execution_count": 22,
     "metadata": {},
     "output_type": "execute_result"
    }
   ],
   "source": [
    "# New Random Numbers Game\n",
    "play_nos, target = new_numbers_game()\n",
    "play_nos,target\n"
   ]
  },
  {
   "cell_type": "code",
   "execution_count": 23,
   "id": "1f324f70-ef6a-4574-90c7-6fc263833d7b",
   "metadata": {},
   "outputs": [
    {
     "data": {
      "text/plain": [
       "[(1, 2, 3), (1, 3, 2), (2, 1, 3), (2, 3, 1), (3, 1, 2), (3, 2, 1)]"
      ]
     },
     "execution_count": 23,
     "metadata": {},
     "output_type": "execute_result"
    }
   ],
   "source": [
    "# All the possible permutations (n!, where n is a size of a list)\n",
    "list(it.permutations([1,2,3]))"
   ]
  },
  {
   "cell_type": "code",
   "execution_count": 24,
   "id": "e18d7f8c-e620-4bee-b9c3-914e85f26084",
   "metadata": {},
   "outputs": [
    {
     "name": "stdout",
     "output_type": "stream",
     "text": [
      "(50, 75)\n",
      "(50, 25)\n",
      "(50, 4)\n",
      "(50, 3)\n",
      "(50, 10)\n",
      "(75, 50)\n",
      "(75, 25)\n",
      "(75, 4)\n",
      "(75, 3)\n",
      "(75, 10)\n",
      "(25, 50)\n",
      "(25, 75)\n",
      "(25, 4)\n",
      "(25, 3)\n",
      "(25, 10)\n",
      "(4, 50)\n",
      "(4, 75)\n",
      "(4, 25)\n",
      "(4, 3)\n",
      "(4, 10)\n",
      "(3, 50)\n",
      "(3, 75)\n",
      "(3, 25)\n",
      "(3, 4)\n",
      "(3, 10)\n",
      "(10, 50)\n",
      "(10, 75)\n",
      "(10, 25)\n",
      "(10, 4)\n",
      "(10, 3)\n"
     ]
    }
   ],
   "source": [
    "# Ordering of pairs\n",
    "for pair in it.permutations(play_nos,2):\n",
    "    print(pair)"
   ]
  },
  {
   "cell_type": "code",
   "execution_count": 25,
   "id": "1fe9b33e-f4ca-45c4-880e-0f1463b51bb8",
   "metadata": {},
   "outputs": [],
   "source": [
    "# List of Operators\n",
    "ops = [operator.add,operator.sub,operator.mul, operator.truediv]\n",
    "\n",
    "for nos,op in it.product(it.permutations(play_nos,2),ops):\n",
    "    if op(nos[0],nos[1]) == target:\n",
    "        print(op(nos[0],nos[1]))"
   ]
  },
  {
   "cell_type": "code",
   "execution_count": null,
   "id": "2b7c94ce-3ca2-4ce3-b769-7d7845da1f63",
   "metadata": {},
   "outputs": [],
   "source": []
  },
  {
   "cell_type": "code",
   "execution_count": null,
   "id": "26f01675-afe9-4943-9213-32e934263edd",
   "metadata": {},
   "outputs": [],
   "source": []
  },
  {
   "cell_type": "code",
   "execution_count": null,
   "id": "e50b2e97-d13a-4d3b-9637-0783b6d1918b",
   "metadata": {},
   "outputs": [],
   "source": []
  },
  {
   "cell_type": "code",
   "execution_count": 26,
   "id": "96a4af36-2dbe-4090-85a7-8b5a7f9cba01",
   "metadata": {},
   "outputs": [
    {
     "data": {
      "text/plain": [
       "225"
      ]
     },
     "execution_count": 26,
     "metadata": {},
     "output_type": "execute_result"
    }
   ],
   "source": [
    "# Change of the target number for testing purpose\n",
    "target = max(play_nos) * min(play_nos)\n",
    "target"
   ]
  },
  {
   "cell_type": "code",
   "execution_count": 27,
   "id": "ae31039d-60bf-4b26-b637-654637bd86ec",
   "metadata": {},
   "outputs": [
    {
     "data": {
      "text/plain": [
       "[((75, 3), <function _operator.mul(a, b, /)>),\n",
       " ((3, 75), <function _operator.mul(a, b, /)>)]"
      ]
     },
     "execution_count": 27,
     "metadata": {},
     "output_type": "execute_result"
    }
   ],
   "source": [
    "# List of Operators\n",
    "ops = [operator.add,operator.sub,operator.mul, operator.truediv]\n",
    "\n",
    "def hits_target(z):\n",
    "    nos,op = z\n",
    "    return (op(nos[0],nos[1]) == target)\n",
    "\n",
    "# Ordering of pairs\n",
    "list(filter(hits_target, it.product(it.permutations(play_nos,2),ops)))"
   ]
  },
  {
   "cell_type": "code",
   "execution_count": 28,
   "id": "1044fcfa-ffb8-4790-9a70-9d5e5224cd16",
   "metadata": {},
   "outputs": [
    {
     "data": {
      "text/plain": [
       "[((75, 3), <function _operator.mul(a, b, /)>),\n",
       " ((3, 75), <function _operator.mul(a, b, /)>)]"
      ]
     },
     "execution_count": 28,
     "metadata": {},
     "output_type": "execute_result"
    }
   ],
   "source": [
    "# All pair, op combinations that hit target\n",
    "list(filter(lambda z: z[1](z[0][0], z[0][1]) == target, it.product(it.permutations(play_nos,2),ops)))"
   ]
  },
  {
   "cell_type": "code",
   "execution_count": 29,
   "id": "7be98e5e-fa35-4c72-acf3-7cf24b002984",
   "metadata": {},
   "outputs": [],
   "source": [
    "# List of Operators\n",
    "ops = [operator.add,operator.sub,operator.mul, operator.truediv]\n",
    "\n",
    "# *   - unpacks arguments from the list to arguments for a function\n",
    "# ( ) - to keep a presedance\n",
    "# [ops] - keep ops as a list\n",
    "# * 5 - give 5 copies of ops \n",
    "\n",
    "# Limit the output\n",
    "limit = 1000\n",
    "i=0\n",
    "for play_nos, opers in it.product(it.permutations(play_nos), it.product(*([ops] * 5))):\n",
    "    #print(play_nos, opers)\n",
    "    i = i + 1\n",
    "    if i >= limit:\n",
    "        break"
   ]
  },
  {
   "cell_type": "code",
   "execution_count": 35,
   "id": "2e1dc3f3-fdca-4c2f-b46d-cc8feffef3b6",
   "metadata": {},
   "outputs": [
    {
     "data": {
      "text/plain": [
       "1024"
      ]
     },
     "execution_count": 35,
     "metadata": {},
     "output_type": "execute_result"
    }
   ],
   "source": [
    "# Number of combinations of 5 operators with replacement\n",
    "combinations = 4**5\n",
    "combinations"
   ]
  },
  {
   "cell_type": "code",
   "execution_count": 31,
   "id": "a8c6c0f4-7171-47f5-819a-4b6f09e9b0e6",
   "metadata": {},
   "outputs": [
    {
     "data": {
      "text/plain": [
       "720"
      ]
     },
     "execution_count": 31,
     "metadata": {},
     "output_type": "execute_result"
    }
   ],
   "source": [
    "# Number of permutations of playing numbers\n",
    "import math\n",
    "math.factorial(6)"
   ]
  },
  {
   "cell_type": "code",
   "execution_count": 32,
   "id": "7d4ec694-513c-4a1d-9232-c2faaf2aeca8",
   "metadata": {},
   "outputs": [
    {
     "data": {
      "text/plain": [
       "737280"
      ]
     },
     "execution_count": 32,
     "metadata": {},
     "output_type": "execute_result"
    }
   ],
   "source": [
    "combinations * 720"
   ]
  },
  {
   "cell_type": "code",
   "execution_count": 34,
   "id": "b1c175c0-82a1-4844-b3fd-bf2ac6024dd7",
   "metadata": {},
   "outputs": [],
   "source": [
    "# We (might not have/haven't) considered all combinations:\n",
    "# RPN with (1,2,3,4) and (+,-,+)...\n",
    "# 1,2,3,4 + - + "
   ]
  },
  {
   "cell_type": "code",
   "execution_count": null,
   "id": "c93481d5-a4dc-4acd-9187-6aefea61eb60",
   "metadata": {},
   "outputs": [],
   "source": []
  },
  {
   "cell_type": "markdown",
   "id": "1746283e-aa03-47e5-87a5-982b35d5cbe4",
   "metadata": {},
   "source": [
    "## References\n",
    "***"
   ]
  },
  {
   "cell_type": "markdown",
   "id": "9c4c39d6-13db-4251-946f-514cc325c905",
   "metadata": {},
   "source": [
    "<a id='section1'></a>[[1] Countdown Game Example](https://datagenetics.com/blog/august32014/index.html)"
   ]
  },
  {
   "cell_type": "markdown",
   "id": "48cf9df6-c06a-411f-b038-1b9136731132",
   "metadata": {},
   "source": [
    "<a id='section2'></a>[[2] Reverse Polish Notation ](https://en.wikipedia.org/wiki/Reverse_Polish_notation)"
   ]
  },
  {
   "cell_type": "markdown",
   "id": "ef9a1fd1-f976-4364-935c-7875d2a58701",
   "metadata": {},
   "source": [
    "<a id='section3'></a>[[3] Functional Programming in Python ](https://realpython.com/python-functional-programming/)"
   ]
  },
  {
   "cell_type": "markdown",
   "id": "373b865f-81ac-4e95-8f77-7ec821d73e69",
   "metadata": {},
   "source": [
    "<a id='section4'></a>[[4] Stackoverflow: Countdown Binary Trees](https://stackoverflow.com/a/54496061)"
   ]
  },
  {
   "cell_type": "markdown",
   "id": "31f9ad88-9ade-4ee5-af8e-dcca93d9f59f",
   "metadata": {},
   "source": [
    "<a id='section5'></a>[[5] (The Final) Countdown](https://easychair.org/publications/open/2L76)"
   ]
  },
  {
   "cell_type": "code",
   "execution_count": null,
   "id": "29336294-8bf4-49d3-9860-426489796af7",
   "metadata": {},
   "outputs": [],
   "source": []
  }
 ],
 "metadata": {
  "kernelspec": {
   "display_name": "Python 3",
   "language": "python",
   "name": "python3"
  },
  "language_info": {
   "codemirror_mode": {
    "name": "ipython",
    "version": 3
   },
   "file_extension": ".py",
   "mimetype": "text/x-python",
   "name": "python",
   "nbconvert_exporter": "python",
   "pygments_lexer": "ipython3",
   "version": "3.8.8"
  }
 },
 "nbformat": 4,
 "nbformat_minor": 5
}
