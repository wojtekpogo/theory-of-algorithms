{
 "cells": [
  {
   "cell_type": "markdown",
   "id": "4609637c-4cf9-4246-9368-c05ad0f7bbda",
   "metadata": {},
   "source": [
    "# Countdown Numbers Game"
   ]
  },
  {
   "cell_type": "markdown",
   "id": "ea42a3ff-8726-4ec8-bfea-756c7f02da7f",
   "metadata": {},
   "source": [
    "![Countdown_titles_2012-removebg-preview](https://user-images.githubusercontent.com/55446533/167231820-53955fa6-a65c-4192-9462-39d728a2a819.png)\n",
    "\n",
    "###  Overview and explanation of the Countdown Numbers Game\n",
    "\n",
    "\n",
    "The Countdown Numbers Game is a popular arithmetic quiz which has been played as a two-player game on French and British television. [[6](#section6)] The contestants, who are competing against each other, select 6 numbers that are face down. There is an option of 24 numbers from which the 6 are picked from. The 24 tiles are split into 2 groups: *small numbers* and *large numbers*. The small numbers are a selection of numbers from **1** to **10**. There are 2 each of these. There are 4 large numbers, **25**, **50**, **75** and **100**. The contestants decide how many large and small numbers will be used in the 6. There is a maximum of 4 large numbers that can be used and a minimum of 0. For example, the contestant could pick 2 large numbers and 4 small numbers. The contestants then have to solve the equation.\n",
    "\n",
    "\n",
    "<div><img src=\"https://user-images.githubusercontent.com/55446533/167232436-2d6416c0-570b-41ac-8bbd-d3a798809d5e.jpg\" width=500> </div>"
   ]
  },
  {
   "cell_type": "markdown",
   "id": "09d09040-f3c1-4933-afd0-ac958bd15335",
   "metadata": {},
   "source": [
    "#### Rules [[5](#section5)]\n",
    "\n",
    "* 6 numbers are chosen at random from a set of 24 which contains all numbers from *1* to *10* (***small numbers***) twice plus *25*, *50*, *75* and *100* (***large numbers***). \n",
    "* A 3-digit target number is chosen at random\n",
    "* The contestants are given 30 seconds to get as close to the target number as possibile\n",
    "* Only the four standard operations ($+$ $−$ $×$ $÷$) can be used. As soon as two numbershave been used to make a new one, they can’t be used again, but the new number found can be used. \n",
    "* At all times, the running total must be a non-negative integer\n"
   ]
  },
  {
   "cell_type": "markdown",
   "id": "435f9bf5-719a-495e-9c8c-4f002ddd17ad",
   "metadata": {},
   "source": [
    "*Points are then awarded to each contestant based on how close they came to the target number.*"
   ]
  },
  {
   "cell_type": "markdown",
   "id": "c7729fb3-b6ee-4809-9fb0-a1a87888b324",
   "metadata": {},
   "source": [
    "### Example\n",
    "*Here's an example of the game in action. In this instance, one number was selected from the large set, and the rest from the small set.* [[1](#section1)]\n",
    "\n",
    "$ \\{ 50 , 8 , 3 , 7 , 2 , 10 \\} $\n",
    "\n",
    "*The randomly selected target was **556***.\n",
    "\n",
    "*There are multiple ways to solve this. The smallest solution requires just four numbers:*\n",
    "\n",
    "$ (50 × 10) + (8 × 7) = 556 $\n",
    "\n",
    "*More complex solutuion:*\n",
    "\n",
    "$ (((50 - 7) × 3) + 10) × 8) ÷ 2 = 556 $"
   ]
  },
  {
   "cell_type": "markdown",
   "id": "806a591e-3b18-4cc6-8555-bb77dcfa5933",
   "metadata": {},
   "source": [
    "### Discussion of the complexity of the Countdown Numbers Game"
   ]
  },
  {
   "cell_type": "markdown",
   "id": "b03019f7-c7bc-41a7-8a2f-f7a55b83a7fe",
   "metadata": {},
   "source": [
    "*During the research for this project, I was trying to find an answer for the following qustions:*\n",
    "\n",
    "* *Is it possible*\n",
    "* *What are possible ways of doing it if it can be done* \n",
    "* *If it's more than one way, can you find different ways*\n",
    "* *What is the ‘simplest’ solution to every problem (If there are multiple ways to solve any particular problem, what is the solution that requires the smallest number of donor numbers)*\n",
    "\n",
    "\n",
    "##### The essence of the problem\n",
    "\n"
   ]
  },
  {
   "cell_type": "markdown",
   "id": "230f665c-7d8d-46cd-ab45-fd1b43f05b39",
   "metadata": {},
   "source": [
    "*Given a sequence of source numbers and a single target number, attempt to construct an arithmetic expression using each of the source numbers at most once, and such that the result of evaluating the expression is the target number. The given numbers are restricted to being non-zero naturals, as are the intermediate results during evaluation of the expression, which can otherwise be freely constructed using addition, subtraction, multiplication and division.* [[7](#section7)]"
   ]
  },
  {
   "cell_type": "markdown",
   "id": "9a9461b0-fbb5-4d4c-b436-3bfde9e70e1d",
   "metadata": {},
   "source": [
    "Due to many different scenarios and variables available, the Countdown number game is extremely complex. Another way explaining the complexity of numbers game is the fact that generated *target* number sometimes creates scenarios where there is no possible way to correctly calculate it. The amount of ways in which the target number can be calculated adds on to the complexity of the game. There may not be just one correct answer but multiple ways of calculating it are possible which means thats finding all possible ways can be complex and time consuming. The player has only *30 seconds* to solve the equation which increases the difficulty. "
   ]
  },
  {
   "cell_type": "markdown",
   "id": "e6be7096-eb05-4859-8d54-468e0424f882",
   "metadata": {},
   "source": [
    "## Code\n",
    "***"
   ]
  },
  {
   "cell_type": "markdown",
   "id": "c0fbe367-4b1f-4e89-a57c-9f246e9bca38",
   "metadata": {},
   "source": [
    "## `Itertools`\n",
    "    \n"
   ]
  },
  {
   "cell_type": "markdown",
   "id": "7bd4f982-b403-4c5f-9750-53d4523613f1",
   "metadata": {},
   "source": [
    "*Example from [here](https://realpython.com/python-itertools/)*"
   ]
  },
  {
   "cell_type": "markdown",
   "id": "46408825-5123-4a89-82ee-684820fe1b66",
   "metadata": {},
   "source": [
    "*Here’s a common interview-style problem:\n",
    "You have three 20 dollar bills, five 10 dollar bills, two 5 dollar bills, and five 1 dollar bills. How many ways can you make change for a 100 dollar bill?\n",
    "To “brute force” this problem, you just start listing off the ways there are to choose one bill from your wallet, check whether any of these makes change for 100, then list the ways to pick two bills from your wallet, check again, and so on and so forth.*"
   ]
  },
  {
   "cell_type": "code",
   "execution_count": 1,
   "id": "2fafeccd-930f-445c-b762-19035533c6b8",
   "metadata": {},
   "outputs": [],
   "source": [
    "import itertools as it\n",
    "\n",
    "bills = [20, 20, 20, 10, 10, 10, 10, 10, 5, 5, 1, 1, 1, 1, 1]"
   ]
  },
  {
   "cell_type": "markdown",
   "id": "5867dfae-329e-4c19-b014-7bbc6b5f2b5c",
   "metadata": {},
   "source": [
    "A choice of $k$ things from a set of n things is called a **combination**"
   ]
  },
  {
   "cell_type": "markdown",
   "id": "fb112f5f-e3a2-4d91-8ec4-77d42877d4f4",
   "metadata": {},
   "source": [
    "The *itertools.combinations()* function takes two arguments—an iterable inputs and a positive integer n—and produces an iterator over tuples of all combinations of $n$ elements in inputs."
   ]
  },
  {
   "cell_type": "code",
   "execution_count": 2,
   "id": "e34bcb89-eeb6-46e4-935d-04b578d44010",
   "metadata": {},
   "outputs": [],
   "source": [
    "#list(it.combinations(bills, 3))"
   ]
  },
  {
   "cell_type": "markdown",
   "id": "6ccb1c57-8112-4fc7-9b23-1ccc06b3a556",
   "metadata": {},
   "source": [
    "To solve the problem, you can loop over the positive integers from 1 to len(bills), then check which combinations of each size add up to $100:"
   ]
  },
  {
   "cell_type": "code",
   "execution_count": 3,
   "id": "6b3b0232-5bea-437e-aa09-d30f06f30d8c",
   "metadata": {},
   "outputs": [],
   "source": [
    "makes_100 = []\n",
    "for n in range(1, len(bills) + 1):\n",
    "    for combination in it.combinations(bills, n):\n",
    "        if sum(combination) == 100:\n",
    "            makes_100.append(combination)"
   ]
  },
  {
   "cell_type": "code",
   "execution_count": 4,
   "id": "68165585-74b7-4348-8e4e-d9876e7c854a",
   "metadata": {},
   "outputs": [
    {
     "name": "stdout",
     "output_type": "stream",
     "text": [
      "[(20, 20, 20, 10, 10, 10, 10), (20, 20, 20, 10, 10, 10, 10), (20, 20, 20, 10, 10, 10, 10), (20, 20, 20, 10, 10, 10, 10), (20, 20, 20, 10, 10, 10, 10), (20, 20, 20, 10, 10, 10, 5, 5), (20, 20, 20, 10, 10, 10, 5, 5), (20, 20, 20, 10, 10, 10, 5, 5), (20, 20, 20, 10, 10, 10, 5, 5), (20, 20, 20, 10, 10, 10, 5, 5), (20, 20, 20, 10, 10, 10, 5, 5), (20, 20, 20, 10, 10, 10, 5, 5), (20, 20, 20, 10, 10, 10, 5, 5), (20, 20, 20, 10, 10, 10, 5, 5), (20, 20, 20, 10, 10, 10, 5, 5), (20, 20, 10, 10, 10, 10, 10, 5, 5), (20, 20, 10, 10, 10, 10, 10, 5, 5), (20, 20, 10, 10, 10, 10, 10, 5, 5), (20, 20, 20, 10, 10, 10, 5, 1, 1, 1, 1, 1), (20, 20, 20, 10, 10, 10, 5, 1, 1, 1, 1, 1), (20, 20, 20, 10, 10, 10, 5, 1, 1, 1, 1, 1), (20, 20, 20, 10, 10, 10, 5, 1, 1, 1, 1, 1), (20, 20, 20, 10, 10, 10, 5, 1, 1, 1, 1, 1), (20, 20, 20, 10, 10, 10, 5, 1, 1, 1, 1, 1), (20, 20, 20, 10, 10, 10, 5, 1, 1, 1, 1, 1), (20, 20, 20, 10, 10, 10, 5, 1, 1, 1, 1, 1), (20, 20, 20, 10, 10, 10, 5, 1, 1, 1, 1, 1), (20, 20, 20, 10, 10, 10, 5, 1, 1, 1, 1, 1), (20, 20, 20, 10, 10, 10, 5, 1, 1, 1, 1, 1), (20, 20, 20, 10, 10, 10, 5, 1, 1, 1, 1, 1), (20, 20, 20, 10, 10, 10, 5, 1, 1, 1, 1, 1), (20, 20, 20, 10, 10, 10, 5, 1, 1, 1, 1, 1), (20, 20, 20, 10, 10, 10, 5, 1, 1, 1, 1, 1), (20, 20, 20, 10, 10, 10, 5, 1, 1, 1, 1, 1), (20, 20, 20, 10, 10, 10, 5, 1, 1, 1, 1, 1), (20, 20, 20, 10, 10, 10, 5, 1, 1, 1, 1, 1), (20, 20, 20, 10, 10, 10, 5, 1, 1, 1, 1, 1), (20, 20, 20, 10, 10, 10, 5, 1, 1, 1, 1, 1), (20, 20, 10, 10, 10, 10, 10, 5, 1, 1, 1, 1, 1), (20, 20, 10, 10, 10, 10, 10, 5, 1, 1, 1, 1, 1), (20, 20, 10, 10, 10, 10, 10, 5, 1, 1, 1, 1, 1), (20, 20, 10, 10, 10, 10, 10, 5, 1, 1, 1, 1, 1), (20, 20, 10, 10, 10, 10, 10, 5, 1, 1, 1, 1, 1), (20, 20, 10, 10, 10, 10, 10, 5, 1, 1, 1, 1, 1)]\n"
     ]
    }
   ],
   "source": [
    "print(makes_100)"
   ]
  },
  {
   "cell_type": "code",
   "execution_count": 5,
   "id": "081e20f4-f7f5-4245-86a6-8cc49bdb8589",
   "metadata": {},
   "outputs": [
    {
     "data": {
      "text/plain": [
       "{(20, 20, 10, 10, 10, 10, 10, 5, 1, 1, 1, 1, 1),\n",
       " (20, 20, 10, 10, 10, 10, 10, 5, 5),\n",
       " (20, 20, 20, 10, 10, 10, 5, 1, 1, 1, 1, 1),\n",
       " (20, 20, 20, 10, 10, 10, 5, 5),\n",
       " (20, 20, 20, 10, 10, 10, 10)}"
      ]
     },
     "execution_count": 5,
     "metadata": {},
     "output_type": "execute_result"
    }
   ],
   "source": [
    "set(makes_100)"
   ]
  },
  {
   "cell_type": "code",
   "execution_count": null,
   "id": "ef338645-327a-44bb-8f43-053c5eec3bf7",
   "metadata": {},
   "outputs": [],
   "source": []
  },
  {
   "cell_type": "markdown",
   "id": "452a6040-cb50-4772-96f4-ef873bfff221",
   "metadata": {},
   "source": [
    "## `Countdown Numbers`\n",
    "***\n",
    "* *You're not allowed to have a negative number*\n",
    "* *You cannot have a fraction e.g 50/6*"
   ]
  },
  {
   "cell_type": "code",
   "execution_count": 6,
   "id": "dd241b87-d0e1-4ff5-a3ac-c6ba11c3c252",
   "metadata": {},
   "outputs": [],
   "source": [
    "# Permutations and combinations\n",
    "import itertools as it\n",
    "# RAndom number generation\n",
    "import random\n",
    "# Operators as function\n",
    "import operator"
   ]
  },
  {
   "cell_type": "markdown",
   "id": "2f571f59-a99d-4eca-9dc5-df436b6e92c8",
   "metadata": {},
   "source": [
    "## `Simulate a Game`"
   ]
  },
  {
   "cell_type": "code",
   "execution_count": 7,
   "id": "9dee8809-2987-4fde-ae7b-665035460919",
   "metadata": {},
   "outputs": [],
   "source": [
    "# Randomly create a game\n",
    "def new_numbers_game(no_large=None):\n",
    "    \"\"\"Returns six numbers and a target number representing a Countdown Numbers Game\"\"\"\n",
    "    #If no_large is None, then randomly pick value between 0 and 4 inclusive\n",
    "    if no_large is None:\n",
    "        # Randomly set a value of no_large\n",
    "        no_large = random.randrange(0,5)\n",
    "    # Select random small and large numbers\n",
    "    large_random = random.sample([25,50,75,100], no_large)\n",
    "    small_random = random.sample(list(range (1,11)), 6-no_large)\n",
    "    # Play numbers\n",
    "    play_numbers = large_random + small_random     \n",
    "    # Pick a Target number\n",
    "    target = random.randrange(101,1000)\n",
    "    \n",
    "    return play_numbers, target   "
   ]
  },
  {
   "cell_type": "code",
   "execution_count": 8,
   "id": "7d78a014-cf2c-4ff0-8266-0528a28f32a6",
   "metadata": {},
   "outputs": [
    {
     "data": {
      "text/plain": [
       "([50, 25, 75, 7, 9, 5], 537)"
      ]
     },
     "execution_count": 8,
     "metadata": {},
     "output_type": "execute_result"
    }
   ],
   "source": [
    "# Countdown numbers game, input for the solver\n",
    "new_numbers_game()"
   ]
  },
  {
   "cell_type": "markdown",
   "id": "d64fb8fe-5aa6-4df6-b04d-bebc47f832ad",
   "metadata": {},
   "source": [
    "## `Countdown Game solver`"
   ]
  },
  {
   "cell_type": "code",
   "execution_count": 9,
   "id": "147b4854-7bd3-4b53-9802-3a563598b7be",
   "metadata": {},
   "outputs": [
    {
     "data": {
      "text/plain": [
       "([75, 100, 25, 50, 4, 2], 875)"
      ]
     },
     "execution_count": 9,
     "metadata": {},
     "output_type": "execute_result"
    }
   ],
   "source": [
    "# New Game\n",
    "play_numbers, target = new_numbers_game()\n",
    "play_numbers, target"
   ]
  },
  {
   "cell_type": "code",
   "execution_count": 54,
   "id": "f339ea2c-d633-4186-a0aa-7ba4c1687ad9",
   "metadata": {},
   "outputs": [
    {
     "name": "stdout",
     "output_type": "stream",
     "text": [
      "(75, 100)\n",
      "75+100=175\n",
      "75*100=7500\n",
      "\n",
      "(75, 25)\n",
      "75+25=100\n",
      "75*25=1875\n",
      "75-25=50\n",
      "\n",
      "(75, 50)\n",
      "75+50=125\n",
      "75*50=3750\n",
      "75-50=25\n",
      "\n",
      "(75, 4)\n",
      "75+4=79\n",
      "75*4=300\n",
      "75-4=71\n",
      "\n",
      "(75, 2)\n",
      "75+2=77\n",
      "75*2=150\n",
      "75-2=73\n",
      "\n",
      "(100, 75)\n",
      "100+75=175\n",
      "100*75=7500\n",
      "100-75=25\n",
      "\n",
      "(100, 25)\n",
      "100+25=125\n",
      "100*25=2500\n",
      "100-25=75\n",
      "\n",
      "(100, 50)\n",
      "100+50=150\n",
      "100*50=5000\n",
      "100-50=50\n",
      "\n",
      "(100, 4)\n",
      "100+4=104\n",
      "100*4=400\n",
      "100-4=96\n",
      "\n",
      "(100, 2)\n",
      "100+2=102\n",
      "100*2=200\n",
      "100-2=98\n",
      "\n",
      "(25, 75)\n",
      "25+75=100\n",
      "25*75=1875\n",
      "\n",
      "(25, 100)\n",
      "25+100=125\n",
      "25*100=2500\n",
      "\n",
      "(25, 50)\n",
      "25+50=75\n",
      "25*50=1250\n",
      "\n",
      "(25, 4)\n",
      "25+4=29\n",
      "25*4=100\n",
      "25-4=21\n",
      "\n",
      "(25, 2)\n",
      "25+2=27\n",
      "25*2=50\n",
      "25-2=23\n",
      "\n",
      "(50, 75)\n",
      "50+75=125\n",
      "50*75=3750\n",
      "\n",
      "(50, 100)\n",
      "50+100=150\n",
      "50*100=5000\n",
      "\n",
      "(50, 25)\n",
      "50+25=75\n",
      "50*25=1250\n",
      "50-25=25\n",
      "\n",
      "(50, 4)\n",
      "50+4=54\n",
      "50*4=200\n",
      "50-4=46\n",
      "\n",
      "(50, 2)\n",
      "50+2=52\n",
      "50*2=100\n",
      "50-2=48\n",
      "\n",
      "(4, 75)\n",
      "4+75=79\n",
      "4*75=300\n",
      "\n",
      "(4, 100)\n",
      "4+100=104\n",
      "4*100=400\n",
      "\n",
      "(4, 25)\n",
      "4+25=29\n",
      "4*25=100\n",
      "\n",
      "(4, 50)\n",
      "4+50=54\n",
      "4*50=200\n",
      "\n",
      "(4, 2)\n",
      "4+2=6\n",
      "4*2=8\n",
      "4-2=2\n",
      "\n",
      "(2, 75)\n",
      "2+75=77\n",
      "2*75=150\n",
      "\n",
      "(2, 100)\n",
      "2+100=102\n",
      "2*100=200\n",
      "\n",
      "(2, 25)\n",
      "2+25=27\n",
      "2*25=50\n",
      "\n",
      "(2, 50)\n",
      "2+50=52\n",
      "2*50=100\n",
      "\n",
      "(2, 4)\n",
      "2+4=6\n",
      "2*4=8\n",
      "\n"
     ]
    }
   ],
   "source": [
    "for p in it.permutations(play_numbers,2):\n",
    "    print(p)\n",
    "    print(f'{p[0]}+{p[1]}={p[0]+p[1]}')\n",
    "    print(f'{p[0]}*{p[1]}={p[0]*p[1]}')\n",
    "    if p[0]-p[1]>0:\n",
    "        print(f'{p[0]}-{p[1]}={p[0]-p[1]}')\n",
    "    if p[0]/p[1] ==0:\n",
    "        print(f'{p[0]}/{p[1]}={p[0]/p[1]}')\n",
    "    print()"
   ]
  },
  {
   "cell_type": "markdown",
   "id": "fc85c73a-e952-4076-9cbf-71aa3b849468",
   "metadata": {},
   "source": [
    "## `Operators and functions`"
   ]
  },
  {
   "cell_type": "code",
   "execution_count": 11,
   "id": "5fa76a74-4c84-4096-ae1d-b8375f74228d",
   "metadata": {},
   "outputs": [
    {
     "data": {
      "text/plain": [
       "9"
      ]
     },
     "execution_count": 11,
     "metadata": {},
     "output_type": "execute_result"
    }
   ],
   "source": [
    "operator.add(4,5)"
   ]
  },
  {
   "cell_type": "code",
   "execution_count": 12,
   "id": "9e9102c9-ec65-47e7-ac5b-e5ece894ce0f",
   "metadata": {},
   "outputs": [
    {
     "data": {
      "text/plain": [
       "20"
      ]
     },
     "execution_count": 12,
     "metadata": {},
     "output_type": "execute_result"
    }
   ],
   "source": [
    "operator.mul(4,5)"
   ]
  },
  {
   "cell_type": "code",
   "execution_count": 13,
   "id": "2fe66212-8e14-401e-9129-019f75e09e90",
   "metadata": {},
   "outputs": [
    {
     "data": {
      "text/plain": [
       "-1"
      ]
     },
     "execution_count": 13,
     "metadata": {},
     "output_type": "execute_result"
    }
   ],
   "source": [
    "operator.sub(4,5)"
   ]
  },
  {
   "cell_type": "code",
   "execution_count": 14,
   "id": "fa36a733-b782-47ed-8ae5-c676272a02f1",
   "metadata": {},
   "outputs": [
    {
     "data": {
      "text/plain": [
       "0.8"
      ]
     },
     "execution_count": 14,
     "metadata": {},
     "output_type": "execute_result"
    }
   ],
   "source": [
    "operator.truediv(4,5)"
   ]
  },
  {
   "cell_type": "code",
   "execution_count": 15,
   "id": "427be64c-936e-49c2-b5b5-b19d0068ba37",
   "metadata": {},
   "outputs": [
    {
     "data": {
      "text/plain": [
       "[<function _operator.add(a, b, /)>,\n",
       " <function _operator.sub(a, b, /)>,\n",
       " <function _operator.mul(a, b, /)>,\n",
       " <function _operator.truediv(a, b, /)>,\n",
       " <function _operator.add(a, b, /)>,\n",
       " <function _operator.sub(a, b, /)>,\n",
       " <function _operator.mul(a, b, /)>,\n",
       " <function _operator.truediv(a, b, /)>,\n",
       " <function _operator.add(a, b, /)>,\n",
       " <function _operator.sub(a, b, /)>,\n",
       " <function _operator.mul(a, b, /)>,\n",
       " <function _operator.truediv(a, b, /)>,\n",
       " <function _operator.add(a, b, /)>,\n",
       " <function _operator.sub(a, b, /)>,\n",
       " <function _operator.mul(a, b, /)>,\n",
       " <function _operator.truediv(a, b, /)>,\n",
       " <function _operator.add(a, b, /)>,\n",
       " <function _operator.sub(a, b, /)>,\n",
       " <function _operator.mul(a, b, /)>,\n",
       " <function _operator.truediv(a, b, /)>]"
      ]
     },
     "execution_count": 15,
     "metadata": {},
     "output_type": "execute_result"
    }
   ],
   "source": [
    "ops = [operator.add, operator.sub, operator.mul, operator.truediv] *5\n",
    "ops"
   ]
  },
  {
   "cell_type": "code",
   "execution_count": 16,
   "id": "a67be4bc-1e5e-49d7-a8f0-fbbea95ad48a",
   "metadata": {},
   "outputs": [],
   "source": [
    "# Patterns of calculations that may be used in Countdown Game\n",
    "limit = 100\n",
    "for q in it.permutations(ops,5):\n",
    "    if limit == 0:\n",
    "        break\n",
    "    #print(q)\n",
    "    limit = limit -1"
   ]
  },
  {
   "cell_type": "code",
   "execution_count": 17,
   "id": "0c753d69-5513-40bc-888c-3522c938c790",
   "metadata": {},
   "outputs": [
    {
     "name": "stdout",
     "output_type": "stream",
     "text": [
      "(1, 2)\n",
      "(1, 3)\n",
      "(1, 4)\n",
      "(2, 3)\n",
      "(2, 4)\n",
      "(3, 4)\n"
     ]
    }
   ],
   "source": [
    "# Example of combination\n",
    "L = [1,2,3,4]\n",
    "\n",
    "for c in it.combinations(L,2):\n",
    "    print(c)"
   ]
  },
  {
   "cell_type": "code",
   "execution_count": 18,
   "id": "faf47413-16c0-4c2d-8cff-459602c34e2b",
   "metadata": {},
   "outputs": [
    {
     "name": "stdout",
     "output_type": "stream",
     "text": [
      "(1, 2)\n",
      "(1, 3)\n",
      "(1, 4)\n",
      "(2, 1)\n",
      "(2, 3)\n",
      "(2, 4)\n",
      "(3, 1)\n",
      "(3, 2)\n",
      "(3, 4)\n",
      "(4, 1)\n",
      "(4, 2)\n",
      "(4, 3)\n"
     ]
    }
   ],
   "source": [
    "# Example of permuation of size 2\n",
    "L = [1,2,3,4]\n",
    "\n",
    "for c in it.permutations(L,2):\n",
    "    print(c)"
   ]
  },
  {
   "cell_type": "code",
   "execution_count": 19,
   "id": "950d2466-6c02-495b-966d-6f6097229187",
   "metadata": {},
   "outputs": [
    {
     "name": "stdout",
     "output_type": "stream",
     "text": [
      "(1, 1)\n",
      "(1, 2)\n",
      "(1, 3)\n",
      "(1, 4)\n",
      "(2, 1)\n",
      "(2, 2)\n",
      "(2, 3)\n",
      "(2, 4)\n",
      "(3, 1)\n",
      "(3, 2)\n",
      "(3, 3)\n",
      "(3, 4)\n",
      "(4, 1)\n",
      "(4, 2)\n",
      "(4, 3)\n",
      "(4, 4)\n"
     ]
    }
   ],
   "source": [
    "# Example of permutation with repetition of size 2\n",
    "L = [1,2,3,4]\n",
    "for c in it.product(L,repeat = 2):\n",
    "    print(c)"
   ]
  },
  {
   "cell_type": "code",
   "execution_count": 20,
   "id": "37069aa2-239a-402a-aeda-dd03dd73a110",
   "metadata": {},
   "outputs": [],
   "source": [
    "# Using product\n",
    "ops = [operator.add, operator.sub, operator.mul, operator.truediv]\n",
    "limit = 100\n",
    "for q in it.product(ops,repeat=5):\n",
    "    if limit == 0:\n",
    "        break\n",
    "    #print(q)\n",
    "    limit = limit -1"
   ]
  },
  {
   "cell_type": "markdown",
   "id": "19a6dc8d-b239-41fd-91ed-ee67418a0292",
   "metadata": {},
   "source": [
    "# `Reverse Polish Notation`\n",
    "**RPN** - is a mathematical notation in which operators follow their operands [[2](#section2)]\n",
    "***"
   ]
  },
  {
   "cell_type": "code",
   "execution_count": 21,
   "id": "039a9d1a-147e-46c4-aee7-ac7f1e0159e1",
   "metadata": {},
   "outputs": [],
   "source": [
    "# Reverse Polish Notation\n",
    "# 3 4 5 + *"
   ]
  },
  {
   "cell_type": "code",
   "execution_count": 22,
   "id": "39a69bb9-60f5-427d-9053-78e294557b59",
   "metadata": {},
   "outputs": [
    {
     "data": {
      "text/plain": [
       "([25, 9, 7, 5, 4, 3], 380)"
      ]
     },
     "execution_count": 22,
     "metadata": {},
     "output_type": "execute_result"
    }
   ],
   "source": [
    "# New Random Numbers Game\n",
    "play_nos, target = new_numbers_game()\n",
    "play_nos,target\n"
   ]
  },
  {
   "cell_type": "code",
   "execution_count": 23,
   "id": "1f324f70-ef6a-4574-90c7-6fc263833d7b",
   "metadata": {},
   "outputs": [
    {
     "data": {
      "text/plain": [
       "[(1, 2, 3), (1, 3, 2), (2, 1, 3), (2, 3, 1), (3, 1, 2), (3, 2, 1)]"
      ]
     },
     "execution_count": 23,
     "metadata": {},
     "output_type": "execute_result"
    }
   ],
   "source": [
    "# All the possible permutations (n!, where n is a size of a list)\n",
    "list(it.permutations([1,2,3]))"
   ]
  },
  {
   "cell_type": "code",
   "execution_count": 24,
   "id": "e18d7f8c-e620-4bee-b9c3-914e85f26084",
   "metadata": {},
   "outputs": [
    {
     "name": "stdout",
     "output_type": "stream",
     "text": [
      "(25, 9)\n",
      "(25, 7)\n",
      "(25, 5)\n",
      "(25, 4)\n",
      "(25, 3)\n",
      "(9, 25)\n",
      "(9, 7)\n",
      "(9, 5)\n",
      "(9, 4)\n",
      "(9, 3)\n",
      "(7, 25)\n",
      "(7, 9)\n",
      "(7, 5)\n",
      "(7, 4)\n",
      "(7, 3)\n",
      "(5, 25)\n",
      "(5, 9)\n",
      "(5, 7)\n",
      "(5, 4)\n",
      "(5, 3)\n",
      "(4, 25)\n",
      "(4, 9)\n",
      "(4, 7)\n",
      "(4, 5)\n",
      "(4, 3)\n",
      "(3, 25)\n",
      "(3, 9)\n",
      "(3, 7)\n",
      "(3, 5)\n",
      "(3, 4)\n"
     ]
    }
   ],
   "source": [
    "# Ordering of pairs\n",
    "for pair in it.permutations(play_nos,2):\n",
    "    print(pair)"
   ]
  },
  {
   "cell_type": "code",
   "execution_count": 25,
   "id": "1fe9b33e-f4ca-45c4-880e-0f1463b51bb8",
   "metadata": {},
   "outputs": [],
   "source": [
    "# List of Operators\n",
    "ops = [operator.add,operator.sub,operator.mul, operator.truediv]\n",
    "\n",
    "for nos,op in it.product(it.permutations(play_nos,2),ops):\n",
    "    if op(nos[0],nos[1]) == target:\n",
    "        print(op(nos[0],nos[1]))"
   ]
  },
  {
   "cell_type": "code",
   "execution_count": null,
   "id": "2b7c94ce-3ca2-4ce3-b769-7d7845da1f63",
   "metadata": {},
   "outputs": [],
   "source": []
  },
  {
   "cell_type": "code",
   "execution_count": null,
   "id": "26f01675-afe9-4943-9213-32e934263edd",
   "metadata": {},
   "outputs": [],
   "source": []
  },
  {
   "cell_type": "code",
   "execution_count": null,
   "id": "e50b2e97-d13a-4d3b-9637-0783b6d1918b",
   "metadata": {},
   "outputs": [],
   "source": []
  },
  {
   "cell_type": "code",
   "execution_count": 26,
   "id": "96a4af36-2dbe-4090-85a7-8b5a7f9cba01",
   "metadata": {},
   "outputs": [
    {
     "data": {
      "text/plain": [
       "75"
      ]
     },
     "execution_count": 26,
     "metadata": {},
     "output_type": "execute_result"
    }
   ],
   "source": [
    "# Change of the target number for testing purpose\n",
    "target = max(play_nos) * min(play_nos)\n",
    "target"
   ]
  },
  {
   "cell_type": "code",
   "execution_count": 27,
   "id": "ae31039d-60bf-4b26-b637-654637bd86ec",
   "metadata": {},
   "outputs": [
    {
     "data": {
      "text/plain": [
       "[((25, 3), <function _operator.mul(a, b, /)>),\n",
       " ((3, 25), <function _operator.mul(a, b, /)>)]"
      ]
     },
     "execution_count": 27,
     "metadata": {},
     "output_type": "execute_result"
    }
   ],
   "source": [
    "# List of Operators\n",
    "ops = [operator.add,operator.sub,operator.mul, operator.truediv]\n",
    "\n",
    "def hits_target(z):\n",
    "    nos,op = z\n",
    "    return (op(nos[0],nos[1]) == target)\n",
    "\n",
    "# Ordering of pairs\n",
    "list(filter(hits_target, it.product(it.permutations(play_nos,2),ops)))"
   ]
  },
  {
   "cell_type": "code",
   "execution_count": 28,
   "id": "1044fcfa-ffb8-4790-9a70-9d5e5224cd16",
   "metadata": {},
   "outputs": [
    {
     "data": {
      "text/plain": [
       "[((25, 3), <function _operator.mul(a, b, /)>),\n",
       " ((3, 25), <function _operator.mul(a, b, /)>)]"
      ]
     },
     "execution_count": 28,
     "metadata": {},
     "output_type": "execute_result"
    }
   ],
   "source": [
    "# All pair, op combinations that hit target\n",
    "list(filter(lambda z: z[1](z[0][0], z[0][1]) == target, it.product(it.permutations(play_nos,2),ops)))"
   ]
  },
  {
   "cell_type": "code",
   "execution_count": 29,
   "id": "7be98e5e-fa35-4c72-acf3-7cf24b002984",
   "metadata": {},
   "outputs": [],
   "source": [
    "# List of Operators\n",
    "ops = [operator.add,operator.sub,operator.mul, operator.truediv]\n",
    "\n",
    "# *   - unpacks arguments from the list to arguments for a function\n",
    "# ( ) - to keep a presedance\n",
    "# [ops] - keep ops as a list\n",
    "# * 5 - give 5 copies of ops \n",
    "\n",
    "# Limit the output\n",
    "limit = 1000\n",
    "i=0\n",
    "for play_nos, opers in it.product(it.permutations(play_nos), it.product(*([ops] * 5))):\n",
    "    #print(play_nos, opers)\n",
    "    i = i + 1\n",
    "    if i >= limit:\n",
    "        break"
   ]
  },
  {
   "cell_type": "code",
   "execution_count": 30,
   "id": "2e1dc3f3-fdca-4c2f-b46d-cc8feffef3b6",
   "metadata": {},
   "outputs": [
    {
     "data": {
      "text/plain": [
       "1024"
      ]
     },
     "execution_count": 30,
     "metadata": {},
     "output_type": "execute_result"
    }
   ],
   "source": [
    "# Number of combinations of 5 operators with replacement\n",
    "combinations = 4**5\n",
    "combinations"
   ]
  },
  {
   "cell_type": "code",
   "execution_count": 31,
   "id": "a8c6c0f4-7171-47f5-819a-4b6f09e9b0e6",
   "metadata": {},
   "outputs": [
    {
     "data": {
      "text/plain": [
       "720"
      ]
     },
     "execution_count": 31,
     "metadata": {},
     "output_type": "execute_result"
    }
   ],
   "source": [
    "# Number of permutations of playing numbers\n",
    "import math\n",
    "math.factorial(6)"
   ]
  },
  {
   "cell_type": "code",
   "execution_count": 32,
   "id": "7d4ec694-513c-4a1d-9232-c2faaf2aeca8",
   "metadata": {},
   "outputs": [
    {
     "data": {
      "text/plain": [
       "737280"
      ]
     },
     "execution_count": 32,
     "metadata": {},
     "output_type": "execute_result"
    }
   ],
   "source": [
    "combinations * 720"
   ]
  },
  {
   "cell_type": "code",
   "execution_count": 33,
   "id": "b1c175c0-82a1-4844-b3fd-bf2ac6024dd7",
   "metadata": {},
   "outputs": [],
   "source": [
    "# We (might not have/haven't) considered all combinations:\n",
    "# RPN with (1,2,3,4) and (+,-,+)...\n",
    "# 1,2,3,4 + - + "
   ]
  },
  {
   "cell_type": "markdown",
   "id": "237dfdd9-a249-4d3f-9213-7e054240b5b1",
   "metadata": {},
   "source": [
    "# `Partitions` \n",
    "*Partitions of a set is a set of subsets of original set, where every element in the original is an element of exactly one subset.*\n",
    "\n",
    "{1,2,3,4,5,6} -> {{ 1,2 } {3,4,5} {6}}\n",
    "***"
   ]
  },
  {
   "cell_type": "code",
   "execution_count": 34,
   "id": "0af3eadb-bb5a-4453-8094-03666a657778",
   "metadata": {},
   "outputs": [],
   "source": [
    "# Example list of 6 numbers\n",
    "numbers = [100,75,10,4,2,1]\n"
   ]
  },
  {
   "cell_type": "code",
   "execution_count": 35,
   "id": "6b55615c-af21-4d18-a535-bf05236c5ded",
   "metadata": {},
   "outputs": [],
   "source": [
    "# Give all 2-partitions of a list, \n",
    "# where each sublist has at least one element\n",
    "\n",
    "def partitions(L):\n",
    "    # Check if cannot partition any further\n",
    "    if len(L) == 1:\n",
    "        # yield creates generator, return creates a function\n",
    "        yield f\"{L[0]}\"\n",
    "    for i in range(1, len(L)):\n",
    "        # Slice the list using index\n",
    "        # Partitions of a right and left list\n",
    "        for left,right in it.product(partitions(L[:i]), partitions(L[i:])):\n",
    "            yield f\"({left} ? {right})\""
   ]
  },
  {
   "cell_type": "code",
   "execution_count": 36,
   "id": "855a9a92-dad3-4c92-ae7e-7d45b1ef1e6a",
   "metadata": {},
   "outputs": [
    {
     "data": {
      "text/plain": [
       "<generator object partitions at 0x00000280D9FC52E0>"
      ]
     },
     "execution_count": 36,
     "metadata": {},
     "output_type": "execute_result"
    }
   ],
   "source": [
    "partitions(numbers)"
   ]
  },
  {
   "cell_type": "code",
   "execution_count": 37,
   "id": "a2631bbd-fabc-4694-a14f-add48dfac7b6",
   "metadata": {},
   "outputs": [],
   "source": [
    "# Some of the sublists in turn can be partitioned\n",
    "#partitions(numbers[1:])"
   ]
  },
  {
   "cell_type": "code",
   "execution_count": 38,
   "id": "8e9da41f-46e2-417e-a5b1-2413d036e036",
   "metadata": {},
   "outputs": [],
   "source": [
    "# Further partitioning of a sublist\n",
    "#partitions(numbers[2:])"
   ]
  },
  {
   "cell_type": "markdown",
   "id": "4751c19f-126f-4615-ae88-ebc687344649",
   "metadata": {},
   "source": [
    "*Question marks [?] represents possible operators: +, -, x, /*"
   ]
  },
  {
   "cell_type": "code",
   "execution_count": 39,
   "id": "59c42c1e-30f2-4bd1-97e1-2f3428f9fb79",
   "metadata": {},
   "outputs": [
    {
     "name": "stdout",
     "output_type": "stream",
     "text": [
      "(100 ? (75 ? (10 ? (4 ? (2 ? 1)))))\n",
      "(100 ? (75 ? (10 ? ((4 ? 2) ? 1))))\n",
      "(100 ? (75 ? ((10 ? 4) ? (2 ? 1))))\n",
      "(100 ? (75 ? ((10 ? (4 ? 2)) ? 1)))\n",
      "(100 ? (75 ? (((10 ? 4) ? 2) ? 1)))\n",
      "(100 ? ((75 ? 10) ? (4 ? (2 ? 1))))\n",
      "(100 ? ((75 ? 10) ? ((4 ? 2) ? 1)))\n",
      "(100 ? ((75 ? (10 ? 4)) ? (2 ? 1)))\n",
      "(100 ? (((75 ? 10) ? 4) ? (2 ? 1)))\n",
      "(100 ? ((75 ? (10 ? (4 ? 2))) ? 1))\n",
      "(100 ? ((75 ? ((10 ? 4) ? 2)) ? 1))\n",
      "(100 ? (((75 ? 10) ? (4 ? 2)) ? 1))\n",
      "(100 ? (((75 ? (10 ? 4)) ? 2) ? 1))\n",
      "(100 ? ((((75 ? 10) ? 4) ? 2) ? 1))\n",
      "((100 ? 75) ? (10 ? (4 ? (2 ? 1))))\n",
      "((100 ? 75) ? (10 ? ((4 ? 2) ? 1)))\n",
      "((100 ? 75) ? ((10 ? 4) ? (2 ? 1)))\n",
      "((100 ? 75) ? ((10 ? (4 ? 2)) ? 1))\n",
      "((100 ? 75) ? (((10 ? 4) ? 2) ? 1))\n",
      "((100 ? (75 ? 10)) ? (4 ? (2 ? 1)))\n",
      "((100 ? (75 ? 10)) ? ((4 ? 2) ? 1))\n",
      "(((100 ? 75) ? 10) ? (4 ? (2 ? 1)))\n",
      "(((100 ? 75) ? 10) ? ((4 ? 2) ? 1))\n",
      "((100 ? (75 ? (10 ? 4))) ? (2 ? 1))\n",
      "((100 ? ((75 ? 10) ? 4)) ? (2 ? 1))\n",
      "(((100 ? 75) ? (10 ? 4)) ? (2 ? 1))\n",
      "(((100 ? (75 ? 10)) ? 4) ? (2 ? 1))\n",
      "((((100 ? 75) ? 10) ? 4) ? (2 ? 1))\n",
      "((100 ? (75 ? (10 ? (4 ? 2)))) ? 1)\n",
      "((100 ? (75 ? ((10 ? 4) ? 2))) ? 1)\n",
      "((100 ? ((75 ? 10) ? (4 ? 2))) ? 1)\n",
      "((100 ? ((75 ? (10 ? 4)) ? 2)) ? 1)\n",
      "((100 ? (((75 ? 10) ? 4) ? 2)) ? 1)\n",
      "(((100 ? 75) ? (10 ? (4 ? 2))) ? 1)\n",
      "(((100 ? 75) ? ((10 ? 4) ? 2)) ? 1)\n",
      "(((100 ? (75 ? 10)) ? (4 ? 2)) ? 1)\n",
      "((((100 ? 75) ? 10) ? (4 ? 2)) ? 1)\n",
      "(((100 ? (75 ? (10 ? 4))) ? 2) ? 1)\n",
      "(((100 ? ((75 ? 10) ? 4)) ? 2) ? 1)\n",
      "((((100 ? 75) ? (10 ? 4)) ? 2) ? 1)\n",
      "((((100 ? (75 ? 10)) ? 4) ? 2) ? 1)\n",
      "(((((100 ? 75) ? 10) ? 4) ? 2) ? 1)\n"
     ]
    }
   ],
   "source": [
    "for i in partitions(numbers):\n",
    "    print(i)"
   ]
  },
  {
   "cell_type": "code",
   "execution_count": 40,
   "id": "26b9ccca-4345-482a-a792-9406f4004e81",
   "metadata": {},
   "outputs": [],
   "source": [
    "# Example \n",
    "\n",
    "def patterns(numbers,operators):\n",
    "    # Check if cannot partition any further\n",
    "    if len(numbers) == 1:\n",
    "        # yield creates generator, return creates a function\n",
    "        yield numbers[0]\n",
    "    # Loop through all the possible ways to partition L into 2 non-empty sublits.\n",
    "    for i in range(1, len(numbers)):\n",
    "        # Slice the list using index\n",
    "        # Partitions of a right and left list\n",
    "        for left,right in it.product(patterns(numbers[:i],operators[1:i]), patterns(numbers[i:],operators[i:])):\n",
    "            # Yield the next operator applied to the sublists\n",
    "            #yield [left, operators[0], right]\n",
    "            yield f'({left} {operators[0]} {right})'"
   ]
  },
  {
   "cell_type": "code",
   "execution_count": 41,
   "id": "02d6f909-053b-414c-b79e-2f8831b1eedc",
   "metadata": {},
   "outputs": [],
   "source": [
    "numbers = [100,75,10,4,2,1]\n",
    "\n",
    "# Example operators\n",
    "#operators = [operator.add, operator.mul, operator.sub, operator.add,operator.add]\n",
    "operators = [ '+', '*', '-', '+','+']"
   ]
  },
  {
   "cell_type": "code",
   "execution_count": 42,
   "id": "4eef3ee0-987f-4da6-9f65-eab99c4d00dc",
   "metadata": {},
   "outputs": [
    {
     "name": "stdout",
     "output_type": "stream",
     "text": [
      "(100 + (75 * (10 - (4 + (2 + 1))))) = 325\n",
      "(100 + (75 * (10 - ((4 + 2) + 1)))) = 325\n",
      "(100 + (75 * ((10 + 4) - (2 + 1)))) = 925\n",
      "(100 + (75 * ((10 + (4 + 2)) - 1))) = 1225\n",
      "(100 + (75 * (((10 + 4) + 2) - 1))) = 1225\n",
      "(100 + ((75 - 10) * (4 + (2 + 1)))) = 555\n",
      "(100 + ((75 - 10) * ((4 + 2) + 1))) = 555\n",
      "(100 + ((75 - (10 + 4)) * (2 + 1))) = 283\n",
      "(100 + (((75 + 10) - 4) * (2 + 1))) = 343\n",
      "(100 + ((75 - (10 + (4 + 2))) * 1)) = 159\n",
      "(100 + ((75 - ((10 + 4) + 2)) * 1)) = 159\n",
      "(100 + (((75 + 10) - (4 + 2)) * 1)) = 179\n",
      "(100 + (((75 + (10 + 4)) - 2) * 1)) = 187\n",
      "(100 + ((((75 + 10) + 4) - 2) * 1)) = 187\n",
      "((100 * 75) + (10 - (4 + (2 + 1)))) = 7503\n",
      "((100 * 75) + (10 - ((4 + 2) + 1))) = 7503\n",
      "((100 * 75) + ((10 + 4) - (2 + 1))) = 7511\n",
      "((100 * 75) + ((10 + (4 + 2)) - 1)) = 7515\n",
      "((100 * 75) + (((10 + 4) + 2) - 1)) = 7515\n",
      "((100 * (75 - 10)) + (4 + (2 + 1))) = 6507\n",
      "((100 * (75 - 10)) + ((4 + 2) + 1)) = 6507\n",
      "(((100 - 75) * 10) + (4 + (2 + 1))) = 257\n",
      "(((100 - 75) * 10) + ((4 + 2) + 1)) = 257\n",
      "((100 * (75 - (10 + 4))) + (2 + 1)) = 6103\n",
      "((100 * ((75 + 10) - 4)) + (2 + 1)) = 8103\n",
      "(((100 - 75) * (10 + 4)) + (2 + 1)) = 353\n",
      "(((100 - (75 + 10)) * 4) + (2 + 1)) = 63\n",
      "((((100 + 75) - 10) * 4) + (2 + 1)) = 663\n",
      "((100 * (75 - (10 + (4 + 2)))) + 1) = 5901\n",
      "((100 * (75 - ((10 + 4) + 2))) + 1) = 5901\n",
      "((100 * ((75 + 10) - (4 + 2))) + 1) = 7901\n",
      "((100 * ((75 + (10 + 4)) - 2)) + 1) = 8701\n",
      "((100 * (((75 + 10) + 4) - 2)) + 1) = 8701\n",
      "(((100 - 75) * (10 + (4 + 2))) + 1) = 401\n",
      "(((100 - 75) * ((10 + 4) + 2)) + 1) = 401\n",
      "(((100 - (75 + 10)) * (4 + 2)) + 1) = 91\n",
      "((((100 + 75) - 10) * (4 + 2)) + 1) = 991\n",
      "(((100 - (75 + (10 + 4))) * 2) + 1) = 23\n",
      "(((100 - ((75 + 10) + 4)) * 2) + 1) = 23\n",
      "((((100 + 75) - (10 + 4)) * 2) + 1) = 323\n",
      "((((100 + (75 + 10)) - 4) * 2) + 1) = 363\n",
      "(((((100 + 75) + 10) - 4) * 2) + 1) = 363\n"
     ]
    }
   ],
   "source": [
    "for i in patterns(numbers,operators):\n",
    "    print(f'{i} = {eval(i)}')"
   ]
  },
  {
   "cell_type": "markdown",
   "id": "2cc8ef1c-3c71-4b67-a3a1-70fa33b70edc",
   "metadata": {},
   "source": [
    "***\n",
    "## `RPN and Patterns`"
   ]
  },
  {
   "cell_type": "code",
   "execution_count": 43,
   "id": "a9cb2968-f575-4a2d-a490-67c010044045",
   "metadata": {},
   "outputs": [],
   "source": [
    "def patterns(numbers,operators):\n",
    "    # Check if cannot partition any further\n",
    "    if len(numbers) == 1:\n",
    "        # yield creates generator, return creates a function\n",
    "        yield numbers\n",
    "    # Loop through all the possible ways to partition L into 2 non-empty sublits.\n",
    "    for i in range(1, len(numbers)):\n",
    "        # Slice the list using index\n",
    "        # Partitions of a right and left list\n",
    "        for left,right in it.product(patterns(numbers[:i],operators[1:i]), patterns(numbers[i:],operators[i:])):\n",
    "            # Yield the next operator applied to the sublists\n",
    "            #yield [left, operators[0], right]\n",
    "            yield [*left,*right,operators[0]]"
   ]
  },
  {
   "cell_type": "code",
   "execution_count": 44,
   "id": "6330e3dc-9496-4796-9826-e1b1fa29b4fc",
   "metadata": {},
   "outputs": [
    {
     "name": "stdout",
     "output_type": "stream",
     "text": [
      "[100, 75, 10, 4, 2, 1, '+', '+', '-', '*', '+']\n",
      "[100, 75, 10, 4, 2, '+', 1, '+', '-', '*', '+']\n",
      "[100, 75, 10, 4, '+', 2, 1, '+', '-', '*', '+']\n",
      "[100, 75, 10, 4, 2, '+', '+', 1, '-', '*', '+']\n",
      "[100, 75, 10, 4, '+', 2, '+', 1, '-', '*', '+']\n",
      "[100, 75, 10, '-', 4, 2, 1, '+', '+', '*', '+']\n",
      "[100, 75, 10, '-', 4, 2, '+', 1, '+', '*', '+']\n",
      "[100, 75, 10, 4, '+', '-', 2, 1, '+', '*', '+']\n",
      "[100, 75, 10, '+', 4, '-', 2, 1, '+', '*', '+']\n",
      "[100, 75, 10, 4, 2, '+', '+', '-', 1, '*', '+']\n",
      "[100, 75, 10, 4, '+', 2, '+', '-', 1, '*', '+']\n",
      "[100, 75, 10, '+', 4, 2, '+', '-', 1, '*', '+']\n",
      "[100, 75, 10, 4, '+', '+', 2, '-', 1, '*', '+']\n",
      "[100, 75, 10, '+', 4, '+', 2, '-', 1, '*', '+']\n",
      "[100, 75, '*', 10, 4, 2, 1, '+', '+', '-', '+']\n",
      "[100, 75, '*', 10, 4, 2, '+', 1, '+', '-', '+']\n",
      "[100, 75, '*', 10, 4, '+', 2, 1, '+', '-', '+']\n",
      "[100, 75, '*', 10, 4, 2, '+', '+', 1, '-', '+']\n",
      "[100, 75, '*', 10, 4, '+', 2, '+', 1, '-', '+']\n",
      "[100, 75, 10, '-', '*', 4, 2, 1, '+', '+', '+']\n",
      "[100, 75, 10, '-', '*', 4, 2, '+', 1, '+', '+']\n",
      "[100, 75, '-', 10, '*', 4, 2, 1, '+', '+', '+']\n",
      "[100, 75, '-', 10, '*', 4, 2, '+', 1, '+', '+']\n",
      "[100, 75, 10, 4, '+', '-', '*', 2, 1, '+', '+']\n",
      "[100, 75, 10, '+', 4, '-', '*', 2, 1, '+', '+']\n",
      "[100, 75, '-', 10, 4, '+', '*', 2, 1, '+', '+']\n",
      "[100, 75, 10, '+', '-', 4, '*', 2, 1, '+', '+']\n",
      "[100, 75, '+', 10, '-', 4, '*', 2, 1, '+', '+']\n",
      "[100, 75, 10, 4, 2, '+', '+', '-', '*', 1, '+']\n",
      "[100, 75, 10, 4, '+', 2, '+', '-', '*', 1, '+']\n",
      "[100, 75, 10, '+', 4, 2, '+', '-', '*', 1, '+']\n",
      "[100, 75, 10, 4, '+', '+', 2, '-', '*', 1, '+']\n",
      "[100, 75, 10, '+', 4, '+', 2, '-', '*', 1, '+']\n",
      "[100, 75, '-', 10, 4, 2, '+', '+', '*', 1, '+']\n",
      "[100, 75, '-', 10, 4, '+', 2, '+', '*', 1, '+']\n",
      "[100, 75, 10, '+', '-', 4, 2, '+', '*', 1, '+']\n",
      "[100, 75, '+', 10, '-', 4, 2, '+', '*', 1, '+']\n",
      "[100, 75, 10, 4, '+', '+', '-', 2, '*', 1, '+']\n",
      "[100, 75, 10, '+', 4, '+', '-', 2, '*', 1, '+']\n",
      "[100, 75, '+', 10, 4, '+', '-', 2, '*', 1, '+']\n",
      "[100, 75, 10, '+', '+', 4, '-', 2, '*', 1, '+']\n",
      "[100, 75, '+', 10, '+', 4, '-', 2, '*', 1, '+']\n"
     ]
    }
   ],
   "source": [
    "for i in patterns(numbers,operators):\n",
    "    print(i)"
   ]
  },
  {
   "cell_type": "markdown",
   "id": "4bf99cba-2178-4fe6-8e1d-444e8028c48c",
   "metadata": {},
   "source": [
    "***"
   ]
  },
  {
   "cell_type": "code",
   "execution_count": 45,
   "id": "29a73295-2891-4181-9047-2e0b77cfd00e",
   "metadata": {},
   "outputs": [],
   "source": [
    "def patterns(numbers,operators):\n",
    "    # Check if cannot partition any further\n",
    "    if len(numbers) == 1:\n",
    "        # yield creates generator, return creates a function\n",
    "        yield numbers\n",
    "    # Loop through all the possible ways to partition L into 2 non-empty sublits.\n",
    "    for i in range(1, len(numbers)):\n",
    "        # Slice the list using index\n",
    "        # Partitions of a right and left list\n",
    "        for left,right in it.product(patterns(numbers[:i],operators[1:i]), patterns(numbers[i:],operators[i:])):\n",
    "            # Yield the next operator applied to the sublists\n",
    "            #yield [left, operators[0], right]\n",
    "            yield [*left,*right,operators[0]]"
   ]
  },
  {
   "cell_type": "code",
   "execution_count": 46,
   "id": "eb56e477-b945-49e1-8ee5-8c2afbd3b33b",
   "metadata": {},
   "outputs": [
    {
     "name": "stdout",
     "output_type": "stream",
     "text": [
      "[100, 75, 10, 4, 2, 1, <built-in function add>, <built-in function add>, <built-in function sub>, <built-in function mul>, <built-in function add>]\n",
      "[100, 75, 10, 4, 2, <built-in function add>, 1, <built-in function add>, <built-in function sub>, <built-in function mul>, <built-in function add>]\n",
      "[100, 75, 10, 4, <built-in function add>, 2, 1, <built-in function add>, <built-in function sub>, <built-in function mul>, <built-in function add>]\n",
      "[100, 75, 10, 4, 2, <built-in function add>, <built-in function add>, 1, <built-in function sub>, <built-in function mul>, <built-in function add>]\n",
      "[100, 75, 10, 4, <built-in function add>, 2, <built-in function add>, 1, <built-in function sub>, <built-in function mul>, <built-in function add>]\n",
      "[100, 75, 10, <built-in function sub>, 4, 2, 1, <built-in function add>, <built-in function add>, <built-in function mul>, <built-in function add>]\n",
      "[100, 75, 10, <built-in function sub>, 4, 2, <built-in function add>, 1, <built-in function add>, <built-in function mul>, <built-in function add>]\n",
      "[100, 75, 10, 4, <built-in function add>, <built-in function sub>, 2, 1, <built-in function add>, <built-in function mul>, <built-in function add>]\n",
      "[100, 75, 10, <built-in function add>, 4, <built-in function sub>, 2, 1, <built-in function add>, <built-in function mul>, <built-in function add>]\n",
      "[100, 75, 10, 4, 2, <built-in function add>, <built-in function add>, <built-in function sub>, 1, <built-in function mul>, <built-in function add>]\n",
      "[100, 75, 10, 4, <built-in function add>, 2, <built-in function add>, <built-in function sub>, 1, <built-in function mul>, <built-in function add>]\n",
      "[100, 75, 10, <built-in function add>, 4, 2, <built-in function add>, <built-in function sub>, 1, <built-in function mul>, <built-in function add>]\n",
      "[100, 75, 10, 4, <built-in function add>, <built-in function add>, 2, <built-in function sub>, 1, <built-in function mul>, <built-in function add>]\n",
      "[100, 75, 10, <built-in function add>, 4, <built-in function add>, 2, <built-in function sub>, 1, <built-in function mul>, <built-in function add>]\n",
      "[100, 75, <built-in function mul>, 10, 4, 2, 1, <built-in function add>, <built-in function add>, <built-in function sub>, <built-in function add>]\n",
      "[100, 75, <built-in function mul>, 10, 4, 2, <built-in function add>, 1, <built-in function add>, <built-in function sub>, <built-in function add>]\n",
      "[100, 75, <built-in function mul>, 10, 4, <built-in function add>, 2, 1, <built-in function add>, <built-in function sub>, <built-in function add>]\n",
      "[100, 75, <built-in function mul>, 10, 4, 2, <built-in function add>, <built-in function add>, 1, <built-in function sub>, <built-in function add>]\n",
      "[100, 75, <built-in function mul>, 10, 4, <built-in function add>, 2, <built-in function add>, 1, <built-in function sub>, <built-in function add>]\n",
      "[100, 75, 10, <built-in function sub>, <built-in function mul>, 4, 2, 1, <built-in function add>, <built-in function add>, <built-in function add>]\n",
      "[100, 75, 10, <built-in function sub>, <built-in function mul>, 4, 2, <built-in function add>, 1, <built-in function add>, <built-in function add>]\n",
      "[100, 75, <built-in function sub>, 10, <built-in function mul>, 4, 2, 1, <built-in function add>, <built-in function add>, <built-in function add>]\n",
      "[100, 75, <built-in function sub>, 10, <built-in function mul>, 4, 2, <built-in function add>, 1, <built-in function add>, <built-in function add>]\n",
      "[100, 75, 10, 4, <built-in function add>, <built-in function sub>, <built-in function mul>, 2, 1, <built-in function add>, <built-in function add>]\n",
      "[100, 75, 10, <built-in function add>, 4, <built-in function sub>, <built-in function mul>, 2, 1, <built-in function add>, <built-in function add>]\n",
      "[100, 75, <built-in function sub>, 10, 4, <built-in function add>, <built-in function mul>, 2, 1, <built-in function add>, <built-in function add>]\n",
      "[100, 75, 10, <built-in function add>, <built-in function sub>, 4, <built-in function mul>, 2, 1, <built-in function add>, <built-in function add>]\n",
      "[100, 75, <built-in function add>, 10, <built-in function sub>, 4, <built-in function mul>, 2, 1, <built-in function add>, <built-in function add>]\n",
      "[100, 75, 10, 4, 2, <built-in function add>, <built-in function add>, <built-in function sub>, <built-in function mul>, 1, <built-in function add>]\n",
      "[100, 75, 10, 4, <built-in function add>, 2, <built-in function add>, <built-in function sub>, <built-in function mul>, 1, <built-in function add>]\n",
      "[100, 75, 10, <built-in function add>, 4, 2, <built-in function add>, <built-in function sub>, <built-in function mul>, 1, <built-in function add>]\n",
      "[100, 75, 10, 4, <built-in function add>, <built-in function add>, 2, <built-in function sub>, <built-in function mul>, 1, <built-in function add>]\n",
      "[100, 75, 10, <built-in function add>, 4, <built-in function add>, 2, <built-in function sub>, <built-in function mul>, 1, <built-in function add>]\n",
      "[100, 75, <built-in function sub>, 10, 4, 2, <built-in function add>, <built-in function add>, <built-in function mul>, 1, <built-in function add>]\n",
      "[100, 75, <built-in function sub>, 10, 4, <built-in function add>, 2, <built-in function add>, <built-in function mul>, 1, <built-in function add>]\n",
      "[100, 75, 10, <built-in function add>, <built-in function sub>, 4, 2, <built-in function add>, <built-in function mul>, 1, <built-in function add>]\n",
      "[100, 75, <built-in function add>, 10, <built-in function sub>, 4, 2, <built-in function add>, <built-in function mul>, 1, <built-in function add>]\n",
      "[100, 75, 10, 4, <built-in function add>, <built-in function add>, <built-in function sub>, 2, <built-in function mul>, 1, <built-in function add>]\n",
      "[100, 75, 10, <built-in function add>, 4, <built-in function add>, <built-in function sub>, 2, <built-in function mul>, 1, <built-in function add>]\n",
      "[100, 75, <built-in function add>, 10, 4, <built-in function add>, <built-in function sub>, 2, <built-in function mul>, 1, <built-in function add>]\n",
      "[100, 75, 10, <built-in function add>, <built-in function add>, 4, <built-in function sub>, 2, <built-in function mul>, 1, <built-in function add>]\n",
      "[100, 75, <built-in function add>, 10, <built-in function add>, 4, <built-in function sub>, 2, <built-in function mul>, 1, <built-in function add>]\n"
     ]
    }
   ],
   "source": [
    "numbers = [100,75,10,4,2,1]\n",
    "\n",
    "# Example operators\n",
    "operators = [operator.add, operator.mul, operator.sub, operator.add,operator.add]\n",
    "#operators = [ '+', '*', '-', '+','+']\n",
    "\n",
    "for i in patterns(numbers,operators):\n",
    "    print(i)"
   ]
  },
  {
   "cell_type": "code",
   "execution_count": 80,
   "id": "06beb67c-0dcc-44b5-a8df-01993a4f0ef0",
   "metadata": {},
   "outputs": [],
   "source": [
    "def evaluate_rpn(rpn):\n",
    "    # A stack\n",
    "    stack = []\n",
    "    # Loop through rpn one item at the time\n",
    "    for i in rpn:\n",
    "        # Check if i is an integer\n",
    "        if isinstance(i,int):\n",
    "            # Append to the stack\n",
    "            stack = stack + [i]\n",
    "        else:\n",
    "            # Pop from stack twice\n",
    "            right = stack[-1]\n",
    "            stack = stack[:-1]\n",
    "            left = stack[-1]\n",
    "            stack = stack[:-1]\n",
    "            # Push operator applied to stack element\n",
    "            stack = stack +[i(left,right)]\n",
    "        # Should only be 1 item on stack\n",
    "    return stack[0]         "
   ]
  },
  {
   "cell_type": "markdown",
   "id": "b2a49787-71d4-4144-8732-f8aacefc7dc6",
   "metadata": {},
   "source": [
    "## Solution"
   ]
  },
  {
   "cell_type": "code",
   "execution_count": 25,
   "id": "6379347a-1886-4fef-b2e0-e48bd661b7ca",
   "metadata": {},
   "outputs": [],
   "source": [
    "# \n",
    "# Operators as function\n",
    "import operator\n",
    "from functools import cmp_to_key\n",
    "\n",
    "\n",
    "operators = [operator.add, operator.mul, operator.sub, operator.add,operator.add]\n",
    "\n",
    "def rpn_generator(numbers, depth=0):\n",
    "    \"\"\"Generates all permuations of RPN expression for given numbers\"\"\"\n",
    "    for i in range(len(numbers)):\n",
    "        yield ([numbers[i]], numbers[:i]+numbers[i+1:], numbers[i])\n",
    "    if len(numbers) >= 2+depth:\n",
    "        for rhs, rrs, rv in rpn_generator(numbers, depth+1):\n",
    "            for lhs, lrs, lv in rpn_generator(rrs, depth):\n",
    "                for op in operators:\n",
    "                    try:\n",
    "                        yield ([lhs, rhs, op], lrs, op(lv, rv))\n",
    "                    except ValueError:\n",
    "                        pass"
   ]
  },
  {
   "cell_type": "code",
   "execution_count": null,
   "id": "f7eb0d85-add8-4b2a-9c79-302f391f8fd2",
   "metadata": {},
   "outputs": [],
   "source": []
  },
  {
   "cell_type": "code",
   "execution_count": 28,
   "id": "1275d181-df1b-4944-8f2f-a01d08bd7860",
   "metadata": {},
   "outputs": [],
   "source": [
    "def find_first_or_closest(target, numbers):\n",
    "    \"\"\"Find the first matching expression or the closest\"\"\"\n",
    "    gen = rpn_generator(numbers)\n",
    "    expression1, s, value1 = gen.__next__()\n",
    "    if value1 == target:\n",
    "        return expression1, target\n",
    "\n",
    "    closest_v = value1\n",
    "    closest_e = expression1\n",
    "\n",
    "    for expression, s, value in rpn_generator(numbers):\n",
    "        if value == target:\n",
    "            return expression, target\n",
    "        elif abs(target - value) < abs(target - closest_v):\n",
    "            closest_v = value\n",
    "            closest_e = expression\n",
    "    return closest_e, closest_v"
   ]
  },
  {
   "cell_type": "code",
   "execution_count": 14,
   "id": "4f8f6277-12dd-4a76-86ec-c2787025ebf4",
   "metadata": {},
   "outputs": [],
   "source": [
    "def find_all_matches(target, numbers):\n",
    "    \"\"\"Generates all matching expressions\"\"\"\n",
    "    for expression, s, value in rpn_generator(numbers):\n",
    "        if value == target:\n",
    "            yield expression"
   ]
  },
  {
   "cell_type": "code",
   "execution_count": 5,
   "id": "b6386dc1-6773-4941-b28f-3f98f7331ac3",
   "metadata": {},
   "outputs": [],
   "source": [
    "def flatten_expression(e):\n",
    "    \"\"\"flattens a raw expression to a single array\"\"\"\n",
    "    if len(e) == 3:\n",
    "        for y in flatten_expression(e[0]):\n",
    "            yield y\n",
    "        for x in flatten_expression(e[1]):\n",
    "            yield x\n",
    "        yield e[2].str\n",
    "    elif len(e) == 1:\n",
    "        yield e[0]"
   ]
  },
  {
   "cell_type": "code",
   "execution_count": null,
   "id": "413d2da6-28a3-4469-9707-0c98164e9f5e",
   "metadata": {},
   "outputs": [],
   "source": []
  },
  {
   "cell_type": "code",
   "execution_count": 22,
   "id": "8e9dd5f4-c81b-4d93-b888-f70636d1de6c",
   "metadata": {},
   "outputs": [],
   "source": [
    "def solve(target, numbers):\n",
    "    e, v = find_first_or_closest(target, numbers)\n",
    "    #s = postfix_to_infix(flatten_expression(e))\n",
    "    return v"
   ]
  },
  {
   "cell_type": "code",
   "execution_count": 24,
   "id": "e3a235af-af94-46e3-b371-41aa685e51da",
   "metadata": {},
   "outputs": [
    {
     "name": "stdout",
     "output_type": "stream",
     "text": [
      "Looking for: 234\n",
      "Given numbers: [100, 9, 7, 6, 3, 1]\n",
      "Found solution: = 234\n",
      "Took 0.06302738189697266 seconds.\n",
      "\n",
      "Looking for: 923\n",
      "Given numbers: [7, 8, 50, 8, 1, 3]\n",
      "Found closest: = 924\n",
      "Took 55.02460026741028 seconds.\n",
      "\n",
      "Looking for: 638\n",
      "Given numbers: [7, 3, 4, 5, 25, 100]\n",
      "Found solution: = 638\n",
      "Took 0.4030005931854248 seconds.\n",
      "\n",
      "Looking for: 600\n",
      "Given numbers: [50, 25, 6, 7, 8, 9]\n",
      "Found solution: = 600\n",
      "Took 0.0 seconds.\n",
      "\n",
      "Looking for: 15\n",
      "Given numbers: [6, 7, 8, 10, 5, 2, 2]\n",
      "Found solution: = 15\n",
      "Took 0.0 seconds.\n",
      "\n"
     ]
    }
   ],
   "source": [
    "if __name__ == '__main__':\n",
    "    import time\n",
    "\n",
    "    def demo(target, numbers):\n",
    "        print(\"Looking for:\", target)\n",
    "        print(\"Given numbers:\", numbers)\n",
    "\n",
    "        start = time.time()\n",
    "        v = solve(target, numbers)\n",
    "\n",
    "        if v == target:\n",
    "            print(\"Found solution:\", \"=\", v)\n",
    "        else:\n",
    "            print(\"Found closest:\", \"=\", v)\n",
    "        print(\"Took\", time.time()-start, \"seconds.\")\n",
    "        print()\n",
    "\n",
    "    demo(234, [100, 9, 7, 6, 3, 1])\n",
    "    demo(923, [7, 8, 50, 8, 1, 3])\n",
    "    demo(638, [7, 3, 4, 5, 25, 100])\n",
    "    demo(600, [50, 25, 6, 7, 8, 9])\n",
    "    demo(15, [6, 7, 8, 10, 5, 2, 2])"
   ]
  },
  {
   "cell_type": "code",
   "execution_count": 75,
   "id": "c470d0ed-7963-44e8-84f1-fae7bcc7cbc4",
   "metadata": {},
   "outputs": [],
   "source": []
  },
  {
   "cell_type": "code",
   "execution_count": 87,
   "id": "d1477e85-8fd1-45c8-9077-3d9b17611eda",
   "metadata": {},
   "outputs": [],
   "source": []
  },
  {
   "cell_type": "code",
   "execution_count": null,
   "id": "1fe824ec-8950-4141-a22d-29a93494022f",
   "metadata": {},
   "outputs": [],
   "source": []
  },
  {
   "cell_type": "code",
   "execution_count": 98,
   "id": "c49a511a-01ae-479a-81da-6c213f8453d8",
   "metadata": {},
   "outputs": [],
   "source": []
  },
  {
   "cell_type": "code",
   "execution_count": 92,
   "id": "ee076db3-5f5c-43c9-b724-427a2f35dc9b",
   "metadata": {},
   "outputs": [],
   "source": []
  },
  {
   "cell_type": "code",
   "execution_count": null,
   "id": "7610e8dc-ab82-4e90-af44-4cc39b439a10",
   "metadata": {},
   "outputs": [],
   "source": []
  },
  {
   "cell_type": "code",
   "execution_count": 95,
   "id": "6aceaa4d-0a5c-4e77-9bcf-e3727dd33a84",
   "metadata": {},
   "outputs": [],
   "source": []
  },
  {
   "cell_type": "code",
   "execution_count": null,
   "id": "f589bcda-076c-40f4-8bc3-a07e4d3b982c",
   "metadata": {},
   "outputs": [],
   "source": []
  },
  {
   "cell_type": "code",
   "execution_count": null,
   "id": "c1efcc70-b00b-4e9f-8419-655f769b7cd2",
   "metadata": {},
   "outputs": [],
   "source": []
  },
  {
   "cell_type": "markdown",
   "id": "1746283e-aa03-47e5-87a5-982b35d5cbe4",
   "metadata": {},
   "source": [
    "## References\n",
    "***"
   ]
  },
  {
   "cell_type": "markdown",
   "id": "9c4c39d6-13db-4251-946f-514cc325c905",
   "metadata": {},
   "source": [
    "<a id='section1'></a>[[1] Countdown Game Example](https://datagenetics.com/blog/august32014/index.html)"
   ]
  },
  {
   "cell_type": "markdown",
   "id": "48cf9df6-c06a-411f-b038-1b9136731132",
   "metadata": {},
   "source": [
    "<a id='section2'></a>[[2] Reverse Polish Notation ](https://en.wikipedia.org/wiki/Reverse_Polish_notation)"
   ]
  },
  {
   "cell_type": "markdown",
   "id": "ef9a1fd1-f976-4364-935c-7875d2a58701",
   "metadata": {},
   "source": [
    "<a id='section3'></a>[[3] Functional Programming in Python ](https://realpython.com/python-functional-programming/)"
   ]
  },
  {
   "cell_type": "markdown",
   "id": "373b865f-81ac-4e95-8f77-7ec821d73e69",
   "metadata": {},
   "source": [
    "<a id='section4'></a>[[4] Stackoverflow: Countdown Binary Trees](https://stackoverflow.com/a/54496061)"
   ]
  },
  {
   "cell_type": "markdown",
   "id": "31f9ad88-9ade-4ee5-af8e-dcca93d9f59f",
   "metadata": {},
   "source": [
    "<a id='section5'></a>[[5] (The Final) Countdown](https://easychair.org/publications/open/2L76)"
   ]
  },
  {
   "cell_type": "markdown",
   "id": "c056b208-ca8e-403b-bb01-0c2d977fe53e",
   "metadata": {},
   "source": [
    "<a id='section6'></a>[[6] Countdown Numbers Game: Solved, Analysed, Extended](http://doc.gold.ac.uk/aisb50/AISB50-S02/AISB50-S2-Colton-paper.pdf)"
   ]
  },
  {
   "cell_type": "markdown",
   "id": "0ad00403-78ce-4c96-9122-330a696b5f12",
   "metadata": {},
   "source": [
    "<a id='section7'></a>[[7] Countdown Problem](http://www.cs.nott.ac.uk/~pszgmh/countdown.pdf)"
   ]
  },
  {
   "cell_type": "code",
   "execution_count": null,
   "id": "1cb6d725-2926-4afa-bcce-d03f7110f71e",
   "metadata": {},
   "outputs": [],
   "source": []
  },
  {
   "cell_type": "code",
   "execution_count": null,
   "id": "b8251491-aec5-4f1c-abea-200dfea6309d",
   "metadata": {},
   "outputs": [],
   "source": []
  }
 ],
 "metadata": {
  "kernelspec": {
   "display_name": "Python 3",
   "language": "python",
   "name": "python3"
  },
  "language_info": {
   "codemirror_mode": {
    "name": "ipython",
    "version": 3
   },
   "file_extension": ".py",
   "mimetype": "text/x-python",
   "name": "python",
   "nbconvert_exporter": "python",
   "pygments_lexer": "ipython3",
   "version": "3.8.8"
  }
 },
 "nbformat": 4,
 "nbformat_minor": 5
}
