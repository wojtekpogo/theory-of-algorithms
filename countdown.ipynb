{
 "cells": [
  {
   "cell_type": "markdown",
   "id": "4609637c-4cf9-4246-9368-c05ad0f7bbda",
   "metadata": {},
   "source": [
    "# Countdown Numbers Game"
   ]
  },
  {
   "cell_type": "markdown",
   "id": "ea42a3ff-8726-4ec8-bfea-756c7f02da7f",
   "metadata": {},
   "source": [
    "![Countdown_titles_2012-removebg-preview](https://user-images.githubusercontent.com/55446533/167231820-53955fa6-a65c-4192-9462-39d728a2a819.png)\n",
    "\n",
    "###  Overview and explanation of the Countdown Numbers Game\n",
    "\n",
    "\n",
    "The Countdown Numbers Game is a popular arithmetic quiz which has been played as a two-player game on French and British television. [[6](#section6)] The contestants, who are competing against each other, select 6 numbers that are face down. There is an option of 24 numbers from which the 6 are picked from. The 24 tiles are split into 2 groups: *small numbers* and *large numbers*. The small numbers are a selection of numbers from **1** to **10**. There are 2 each of these. There are 4 large numbers, **25**, **50**, **75** and **100**. The contestants decide how many large and small numbers will be used in the 6. There is a maximum of 4 large numbers that can be used and a minimum of 0. For example, the contestant could pick 2 large numbers and 4 small numbers. The contestants then have to solve the equation.\n",
    "\n",
    "\n",
    "<div><img src=\"https://user-images.githubusercontent.com/55446533/167232436-2d6416c0-570b-41ac-8bbd-d3a798809d5e.jpg\" width=500> </div>"
   ]
  },
  {
   "cell_type": "markdown",
   "id": "09d09040-f3c1-4933-afd0-ac958bd15335",
   "metadata": {},
   "source": [
    "#### Rules [[5](#section5)]\n",
    "\n",
    "* 6 numbers are chosen at random from a set of 24 which contains all numbers from *1* to *10* (***small numbers***) twice plus *25*, *50*, *75* and *100* (***large numbers***). \n",
    "* A 3-digit target number is chosen at random\n",
    "* The contestants are given 30 seconds to get as close to the target number as possibile\n",
    "* Only the four standard operations ($+$ $−$ $×$ $÷$) can be used. As soon as two numbershave been used to make a new one, they can’t be used again, but the new number found can be used. \n",
    "* At all times, the running total must be a non-negative integer\n"
   ]
  },
  {
   "cell_type": "markdown",
   "id": "435f9bf5-719a-495e-9c8c-4f002ddd17ad",
   "metadata": {},
   "source": [
    "*Points are then awarded to each contestant based on how close they came to the target number.*"
   ]
  },
  {
   "cell_type": "markdown",
   "id": "c7729fb3-b6ee-4809-9fb0-a1a87888b324",
   "metadata": {},
   "source": [
    "### Example\n",
    "*Here's an example of the game in action. In this instance, one number was selected from the large set, and the rest from the small set.* [[1](#section1)]\n",
    "\n",
    "$ \\{ 50 , 8 , 3 , 7 , 2 , 10 \\} $\n",
    "\n",
    "*The randomly selected target was **556***.\n",
    "\n",
    "*There are multiple ways to solve this. The smallest solution requires just four numbers:*\n",
    "\n",
    "$ (50 × 10) + (8 × 7) = 556 $\n",
    "\n",
    "*More complex solutuion:*\n",
    "\n",
    "$ (((50 - 7) × 3) + 10) × 8) ÷ 2 = 556 $"
   ]
  },
  {
   "cell_type": "markdown",
   "id": "806a591e-3b18-4cc6-8555-bb77dcfa5933",
   "metadata": {},
   "source": [
    "### Discussion of the complexity of the Countdown Numbers Game"
   ]
  },
  {
   "cell_type": "markdown",
   "id": "b03019f7-c7bc-41a7-8a2f-f7a55b83a7fe",
   "metadata": {},
   "source": [
    "*During the research for this project, I was trying to find an answer for the following qustions:*\n",
    "\n",
    "* *Is it possible*\n",
    "* *What are possible ways of doing it if it can be done* \n",
    "* *If it's more than one way, can you find different ways*\n",
    "* *What is the ‘simplest’ solution to every problem (If there are multiple ways to solve any particular problem, what is the solution that requires the smallest number of donor numbers)*\n",
    "\n",
    "\n",
    "##### The essence of the problem\n",
    "\n"
   ]
  },
  {
   "cell_type": "markdown",
   "id": "230f665c-7d8d-46cd-ab45-fd1b43f05b39",
   "metadata": {},
   "source": [
    "*Given a sequence of source numbers and a single target number, attempt to construct an arithmetic expression using each of the source numbers at most once, and such that the result of evaluating the expression is the target number. The given numbers are restricted to being non-zero naturals, as are the intermediate results during evaluation of the expression, which can otherwise be freely constructed using addition, subtraction, multiplication and division.* [[7](#section7)]"
   ]
  },
  {
   "cell_type": "markdown",
   "id": "9a9461b0-fbb5-4d4c-b436-3bfde9e70e1d",
   "metadata": {},
   "source": [
    "Due to many different scenarios and variables available, the Countdown number game is extremely complex. Another way explaining the complexity of numbers game is the fact that generated *target* number sometimes creates scenarios where there is no possible way to correctly calculate it. The amount of ways in which the target number can be calculated adds on to the complexity of the game. There may not be just one correct answer but multiple ways of calculating it are possible which means thats finding all possible ways can be complex and time consuming. The player has only *30 seconds* to solve the equation which increases the difficulty. "
   ]
  },
  {
   "cell_type": "markdown",
   "id": "e6be7096-eb05-4859-8d54-468e0424f882",
   "metadata": {},
   "source": [
    "## Code\n",
    "***"
   ]
  },
  {
   "cell_type": "markdown",
   "id": "c0fbe367-4b1f-4e89-a57c-9f246e9bca38",
   "metadata": {},
   "source": [
    "## `Itertools`\n",
    "    \n"
   ]
  },
  {
   "cell_type": "markdown",
   "id": "7bd4f982-b403-4c5f-9750-53d4523613f1",
   "metadata": {},
   "source": [
    "*Example from [here](https://realpython.com/python-itertools/)*"
   ]
  },
  {
   "cell_type": "markdown",
   "id": "46408825-5123-4a89-82ee-684820fe1b66",
   "metadata": {},
   "source": [
    "*Here’s a common interview-style problem:\n",
    "You have three 20 dollar bills, five 10 dollar bills, two 5 dollar bills, and five 1 dollar bills. How many ways can you make change for a 100 dollar bill?\n",
    "To “brute force” this problem, you just start listing off the ways there are to choose one bill from your wallet, check whether any of these makes change for 100, then list the ways to pick two bills from your wallet, check again, and so on and so forth.*"
   ]
  },
  {
   "cell_type": "code",
   "execution_count": 1,
   "id": "2fafeccd-930f-445c-b762-19035533c6b8",
   "metadata": {},
   "outputs": [],
   "source": [
    "import itertools as it\n",
    "\n",
    "bills = [20, 20, 20, 10, 10, 10, 10, 10, 5, 5, 1, 1, 1, 1, 1]"
   ]
  },
  {
   "cell_type": "markdown",
   "id": "5867dfae-329e-4c19-b014-7bbc6b5f2b5c",
   "metadata": {},
   "source": [
    "A choice of $k$ things from a set of n things is called a **combination**"
   ]
  },
  {
   "cell_type": "markdown",
   "id": "fb112f5f-e3a2-4d91-8ec4-77d42877d4f4",
   "metadata": {},
   "source": [
    "The *itertools.combinations()* function takes two arguments—an iterable inputs and a positive integer n—and produces an iterator over tuples of all combinations of $n$ elements in inputs."
   ]
  },
  {
   "cell_type": "code",
   "execution_count": 2,
   "id": "e34bcb89-eeb6-46e4-935d-04b578d44010",
   "metadata": {},
   "outputs": [],
   "source": [
    "#list(it.combinations(bills, 3))"
   ]
  },
  {
   "cell_type": "markdown",
   "id": "6ccb1c57-8112-4fc7-9b23-1ccc06b3a556",
   "metadata": {},
   "source": [
    "To solve the problem, you can loop over the positive integers from 1 to len(bills), then check which combinations of each size add up to $100:"
   ]
  },
  {
   "cell_type": "code",
   "execution_count": 3,
   "id": "6b3b0232-5bea-437e-aa09-d30f06f30d8c",
   "metadata": {},
   "outputs": [],
   "source": [
    "makes_100 = []\n",
    "for n in range(1, len(bills) + 1):\n",
    "    for combination in it.combinations(bills, n):\n",
    "        if sum(combination) == 100:\n",
    "            makes_100.append(combination)"
   ]
  },
  {
   "cell_type": "code",
   "execution_count": 4,
   "id": "68165585-74b7-4348-8e4e-d9876e7c854a",
   "metadata": {},
   "outputs": [
    {
     "name": "stdout",
     "output_type": "stream",
     "text": [
      "[(20, 20, 20, 10, 10, 10, 10), (20, 20, 20, 10, 10, 10, 10), (20, 20, 20, 10, 10, 10, 10), (20, 20, 20, 10, 10, 10, 10), (20, 20, 20, 10, 10, 10, 10), (20, 20, 20, 10, 10, 10, 5, 5), (20, 20, 20, 10, 10, 10, 5, 5), (20, 20, 20, 10, 10, 10, 5, 5), (20, 20, 20, 10, 10, 10, 5, 5), (20, 20, 20, 10, 10, 10, 5, 5), (20, 20, 20, 10, 10, 10, 5, 5), (20, 20, 20, 10, 10, 10, 5, 5), (20, 20, 20, 10, 10, 10, 5, 5), (20, 20, 20, 10, 10, 10, 5, 5), (20, 20, 20, 10, 10, 10, 5, 5), (20, 20, 10, 10, 10, 10, 10, 5, 5), (20, 20, 10, 10, 10, 10, 10, 5, 5), (20, 20, 10, 10, 10, 10, 10, 5, 5), (20, 20, 20, 10, 10, 10, 5, 1, 1, 1, 1, 1), (20, 20, 20, 10, 10, 10, 5, 1, 1, 1, 1, 1), (20, 20, 20, 10, 10, 10, 5, 1, 1, 1, 1, 1), (20, 20, 20, 10, 10, 10, 5, 1, 1, 1, 1, 1), (20, 20, 20, 10, 10, 10, 5, 1, 1, 1, 1, 1), (20, 20, 20, 10, 10, 10, 5, 1, 1, 1, 1, 1), (20, 20, 20, 10, 10, 10, 5, 1, 1, 1, 1, 1), (20, 20, 20, 10, 10, 10, 5, 1, 1, 1, 1, 1), (20, 20, 20, 10, 10, 10, 5, 1, 1, 1, 1, 1), (20, 20, 20, 10, 10, 10, 5, 1, 1, 1, 1, 1), (20, 20, 20, 10, 10, 10, 5, 1, 1, 1, 1, 1), (20, 20, 20, 10, 10, 10, 5, 1, 1, 1, 1, 1), (20, 20, 20, 10, 10, 10, 5, 1, 1, 1, 1, 1), (20, 20, 20, 10, 10, 10, 5, 1, 1, 1, 1, 1), (20, 20, 20, 10, 10, 10, 5, 1, 1, 1, 1, 1), (20, 20, 20, 10, 10, 10, 5, 1, 1, 1, 1, 1), (20, 20, 20, 10, 10, 10, 5, 1, 1, 1, 1, 1), (20, 20, 20, 10, 10, 10, 5, 1, 1, 1, 1, 1), (20, 20, 20, 10, 10, 10, 5, 1, 1, 1, 1, 1), (20, 20, 20, 10, 10, 10, 5, 1, 1, 1, 1, 1), (20, 20, 10, 10, 10, 10, 10, 5, 1, 1, 1, 1, 1), (20, 20, 10, 10, 10, 10, 10, 5, 1, 1, 1, 1, 1), (20, 20, 10, 10, 10, 10, 10, 5, 1, 1, 1, 1, 1), (20, 20, 10, 10, 10, 10, 10, 5, 1, 1, 1, 1, 1), (20, 20, 10, 10, 10, 10, 10, 5, 1, 1, 1, 1, 1), (20, 20, 10, 10, 10, 10, 10, 5, 1, 1, 1, 1, 1)]\n"
     ]
    }
   ],
   "source": [
    "print(makes_100)"
   ]
  },
  {
   "cell_type": "code",
   "execution_count": 5,
   "id": "081e20f4-f7f5-4245-86a6-8cc49bdb8589",
   "metadata": {},
   "outputs": [
    {
     "data": {
      "text/plain": [
       "{(20, 20, 10, 10, 10, 10, 10, 5, 1, 1, 1, 1, 1),\n",
       " (20, 20, 10, 10, 10, 10, 10, 5, 5),\n",
       " (20, 20, 20, 10, 10, 10, 5, 1, 1, 1, 1, 1),\n",
       " (20, 20, 20, 10, 10, 10, 5, 5),\n",
       " (20, 20, 20, 10, 10, 10, 10)}"
      ]
     },
     "execution_count": 5,
     "metadata": {},
     "output_type": "execute_result"
    }
   ],
   "source": [
    "set(makes_100)"
   ]
  },
  {
   "cell_type": "markdown",
   "id": "452a6040-cb50-4772-96f4-ef873bfff221",
   "metadata": {},
   "source": [
    "## `Countdown Numbers`\n",
    "***\n",
    "* *You're not allowed to have a negative number*\n",
    "* *You cannot have a fraction e.g 50/6*"
   ]
  },
  {
   "cell_type": "code",
   "execution_count": 6,
   "id": "dd241b87-d0e1-4ff5-a3ac-c6ba11c3c252",
   "metadata": {},
   "outputs": [],
   "source": [
    "# Permutations and combinations\n",
    "import itertools as it\n",
    "# RAndom number generation\n",
    "import random\n",
    "# Operators as function\n",
    "import operator"
   ]
  },
  {
   "cell_type": "markdown",
   "id": "2f571f59-a99d-4eca-9dc5-df436b6e92c8",
   "metadata": {},
   "source": [
    "## `Simulate a Game`"
   ]
  },
  {
   "cell_type": "code",
   "execution_count": 7,
   "id": "9dee8809-2987-4fde-ae7b-665035460919",
   "metadata": {},
   "outputs": [],
   "source": [
    "# Randomly create a game\n",
    "def new_numbers_game(no_large=None):\n",
    "    \"\"\"Returns six numbers and a target number representing a Countdown Numbers Game\"\"\"\n",
    "    #If no_large is None, then randomly pick value between 0 and 4 inclusive\n",
    "    if no_large is None:\n",
    "        # Randomly set a value of no_large\n",
    "        no_large = random.randrange(0,5)\n",
    "    # Select random small and large numbers\n",
    "    large_random = random.sample([25,50,75,100], no_large)\n",
    "    small_random = random.sample(list(range (1,11)), 6-no_large)\n",
    "    # Play numbers\n",
    "    play_numbers = large_random + small_random     \n",
    "    # Pick a Target number\n",
    "    target = random.randrange(101,1000)\n",
    "    \n",
    "    return play_numbers, target   "
   ]
  },
  {
   "cell_type": "code",
   "execution_count": 8,
   "id": "7d78a014-cf2c-4ff0-8266-0528a28f32a6",
   "metadata": {},
   "outputs": [
    {
     "data": {
      "text/plain": [
       "([2, 7, 8, 5, 9, 4], 412)"
      ]
     },
     "execution_count": 8,
     "metadata": {},
     "output_type": "execute_result"
    }
   ],
   "source": [
    "# Countdown numbers game, input for the solver\n",
    "new_numbers_game()"
   ]
  },
  {
   "cell_type": "markdown",
   "id": "d64fb8fe-5aa6-4df6-b04d-bebc47f832ad",
   "metadata": {},
   "source": [
    "## `Countdown Game solver`"
   ]
  },
  {
   "cell_type": "code",
   "execution_count": 9,
   "id": "147b4854-7bd3-4b53-9802-3a563598b7be",
   "metadata": {},
   "outputs": [
    {
     "data": {
      "text/plain": [
       "([50, 75, 25, 100, 8, 4], 198)"
      ]
     },
     "execution_count": 9,
     "metadata": {},
     "output_type": "execute_result"
    }
   ],
   "source": [
    "# New Game\n",
    "play_numbers, target = new_numbers_game()\n",
    "play_numbers, target"
   ]
  },
  {
   "cell_type": "markdown",
   "id": "19a6dc8d-b239-41fd-91ed-ee67418a0292",
   "metadata": {},
   "source": [
    "# `Reverse Polish Notation`\n",
    "**RPN** - is a mathematical notation in which operators follow their operands [[2](#section2)]\n",
    "***"
   ]
  },
  {
   "cell_type": "code",
   "execution_count": 10,
   "id": "039a9d1a-147e-46c4-aee7-ac7f1e0159e1",
   "metadata": {},
   "outputs": [],
   "source": [
    "# Reverse Polish Notation\n",
    "# 3 4 5 + *"
   ]
  },
  {
   "cell_type": "code",
   "execution_count": 11,
   "id": "06beb67c-0dcc-44b5-a8df-01993a4f0ef0",
   "metadata": {},
   "outputs": [],
   "source": [
    "def evaluate_rpn(rpn):\n",
    "    # A stack\n",
    "    stack = []\n",
    "    # Loop through rpn one item at the time\n",
    "    for i in rpn:\n",
    "        # Check if i is an integer\n",
    "        if isinstance(i,int):\n",
    "            # Append to the stack\n",
    "            stack = stack + [i]\n",
    "        else:\n",
    "            # Pop from stack twice\n",
    "            right = stack[-1]\n",
    "            stack = stack[:-1]\n",
    "            left = stack[-1]\n",
    "            stack = stack[:-1]\n",
    "            # Push operator applied to stack element\n",
    "            stack = stack +[i(left,right)]\n",
    "        # Should only be 1 item on stack\n",
    "    return stack[0]         "
   ]
  },
  {
   "cell_type": "code",
   "execution_count": null,
   "id": "56336486-63c3-464e-b1bf-3277e3316c46",
   "metadata": {},
   "outputs": [],
   "source": []
  },
  {
   "cell_type": "markdown",
   "id": "b2a49787-71d4-4144-8732-f8aacefc7dc6",
   "metadata": {},
   "source": [
    "## Solution"
   ]
  },
  {
   "cell_type": "code",
   "execution_count": 47,
   "id": "cb1277d7-dd9e-4cd2-a6c0-3b5da4491ae6",
   "metadata": {},
   "outputs": [],
   "source": [
    "def small_numbers():\n",
    "    # 4 small numbers at random between 1 - 10\n",
    "    return random.randint(1,10)"
   ]
  },
  {
   "cell_type": "code",
   "execution_count": 48,
   "id": "6379347a-1886-4fef-b2e0-e48bd661b7ca",
   "metadata": {},
   "outputs": [],
   "source": [
    "# Randomly create a game\n",
    "def new_numbers_game(no_large=None):\n",
    "    \"\"\"Returns six numbers and a target number representing a Countdown Numbers Game\"\"\"\n",
    "    #If no_large is None, then randomly pick value between 0 and 4 inclusive\n",
    "    if no_large is None:\n",
    "        # Randomly set a value of no_large\n",
    "        no_large = random.randrange(0,5)\n",
    "    # Select random small and large numbers\n",
    "    large_random = [25,50,75,100][random.randint(0,2)]\n",
    "    small_random = random.randint(1,10)\n",
    "    # Play numbers\n",
    "    play_numbers = [large_random] + [ small_numbers() for i in range(5) ]\n",
    "    # Pick a Target number\n",
    "    target = random.randrange(101,1000)\n",
    "    \n",
    "    return play_numbers, target "
   ]
  },
  {
   "cell_type": "code",
   "execution_count": 58,
   "id": "a1f63f76-f6b2-493c-83e5-ce1e3ec9bcf8",
   "metadata": {},
   "outputs": [
    {
     "name": "stdout",
     "output_type": "stream",
     "text": [
      "[50, 7, 10, 4, 7, 1] 305\n"
     ]
    }
   ],
   "source": [
    "target,numbers = new_numbers_game()\n",
    "print(target,numbers)"
   ]
  },
  {
   "cell_type": "code",
   "execution_count": 29,
   "id": "c6aefa5d-fd5b-4ecd-aab8-1010897b2d12",
   "metadata": {},
   "outputs": [],
   "source": []
  },
  {
   "cell_type": "code",
   "execution_count": 30,
   "id": "38e78eae-3d8c-43fa-84e0-f5eba4ae57cb",
   "metadata": {},
   "outputs": [],
   "source": []
  },
  {
   "cell_type": "code",
   "execution_count": null,
   "id": "0d9a1e48-102f-4c5a-963f-73682cfd4321",
   "metadata": {},
   "outputs": [],
   "source": []
  },
  {
   "cell_type": "code",
   "execution_count": null,
   "id": "a2615873-efb4-4a47-aca4-c29b6b4358b4",
   "metadata": {},
   "outputs": [],
   "source": []
  },
  {
   "cell_type": "code",
   "execution_count": 16,
   "id": "f7eb0d85-add8-4b2a-9c79-302f391f8fd2",
   "metadata": {},
   "outputs": [],
   "source": [
    "# https://codereview.stackexchange.com/questions/190533/countdown-numbers-game-solution-generator"
   ]
  },
  {
   "cell_type": "code",
   "execution_count": 64,
   "id": "c49757ef-5fb8-457e-b611-7838e35b40cb",
   "metadata": {},
   "outputs": [],
   "source": [
    "from functools import cmp_to_key\n",
    "\n",
    "def subtract(x, y):\n",
    "    return x-y\n",
    "\n",
    "def add(x, y):\n",
    "    if x <= y:\n",
    "        return x+y\n",
    "    raise ValueError\n",
    "\n",
    "def multiply(x, y):\n",
    "    if x <= y or x == 1 or y == 1:\n",
    "        return x*y\n",
    "    raise ValueError\n",
    "\n",
    "def divide(x, y):\n",
    "    if not y or x % y or y == 1:\n",
    "        raise ValueError\n",
    "    return x/y\n",
    "\n",
    "# Represent arithmetic functions as a symbols\n",
    "add.str = '+'\n",
    "multiply.str = '*'\n",
    "subtract.str = '-'\n",
    "divide.str = '/'\n",
    "\n",
    "OPS = [add, subtract, multiply, divide]"
   ]
  },
  {
   "cell_type": "code",
   "execution_count": 65,
   "id": "6edacad6-772b-40ba-b841-b009bcb4221a",
   "metadata": {},
   "outputs": [],
   "source": [
    "def generate_rpn(numbers, depth=0):\n",
    "    \"\"\"Generates all permuations of RPN expression for given numbers\"\"\"\n",
    "    for i in range(len(numbers)):\n",
    "        yield ([numbers[i]], numbers[:i]+numbers[i+1:], numbers[i])\n",
    "    if len(numbers) >= 2+depth:\n",
    "        for rhs, rrs, rv in rpn_generator(numbers, depth+1):\n",
    "            for lhs, lrs, lv in rpn_generator(rrs, depth):\n",
    "                for op in OPS:\n",
    "                    try:\n",
    "                        yield ([lhs, rhs, op], lrs, op(lv, rv))\n",
    "                    except ValueError:\n",
    "                        pass"
   ]
  },
  {
   "cell_type": "code",
   "execution_count": 66,
   "id": "4a5ccd87-7672-494c-8735-385f4e3d2dc7",
   "metadata": {},
   "outputs": [],
   "source": [
    "def find_first_or_closest(target, numbers):\n",
    "    \"\"\"Find the first matching expression or the closest\"\"\"\n",
    "    gen = generate_rpn(numbers)\n",
    "    expression1, s, value1 = gen.__next__()\n",
    "    if value1 == target:\n",
    "        return expression1, target\n",
    "\n",
    "    closest_v = value1\n",
    "    closest_e = expression1\n",
    "\n",
    "    for expression, s, value in rpn_generator(numbers):\n",
    "        if value == target:\n",
    "            return expression, target\n",
    "        elif abs(target - value) < abs(target - closest_v):\n",
    "            closest_v = value\n",
    "            closest_e = expression\n",
    "    return closest_e, closest_v"
   ]
  },
  {
   "cell_type": "code",
   "execution_count": 67,
   "id": "ee8a3a82-8feb-4991-8e69-da09aa6fd899",
   "metadata": {},
   "outputs": [],
   "source": [
    "def flatten_expression(e):\n",
    "    \"\"\"Flattens a raw expression to a single array\"\"\"\n",
    "    if len(e) == 3:\n",
    "        for y in flatten_expression(e[0]):\n",
    "            yield y\n",
    "        for x in flatten_expression(e[1]):\n",
    "            yield x\n",
    "        yield e[2].str\n",
    "    elif len(e) == 1:\n",
    "        yield e[0]"
   ]
  },
  {
   "cell_type": "code",
   "execution_count": 69,
   "id": "d70cbd55-67c1-43ed-b63d-48650d7cb9c5",
   "metadata": {},
   "outputs": [],
   "source": [
    "# Idea of how to convert postifx to infix implemented from here https://codereview.stackexchange.com/questions/190533/countdown-numbers-game-solution-generator\n",
    "def postfix_to_infix(iterable):\n",
    "    \"\"\"Converts RPN to human readable infix\"\"\"\n",
    "    class Intermediate:\n",
    "        def __init__(self, expr, priority=False):\n",
    "            self.expr = expr\n",
    "            self.priority = priority\n",
    "    stack = []\n",
    "    for token in iterable:\n",
    "        if token == \"+\" or token == \"-\":\n",
    "            right = stack.pop()\n",
    "            left = stack.pop()\n",
    "            temp = Intermediate(left.expr + token + right.expr, True)\n",
    "            stack.append(temp)\n",
    "        elif token == \"*\" or token == \"/\":\n",
    "            right = stack.pop()\n",
    "            if right.priority:\n",
    "                right = Intermediate(\"(\" + right.expr + \")\")\n",
    "            left = stack.pop()\n",
    "            if left.priority:\n",
    "                left = Intermediate(\"(\" + left.expr + \")\")\n",
    "            temp = Intermediate(left.expr + token + right.expr)\n",
    "            stack.append(temp)\n",
    "        else:\n",
    "            stack.append(Intermediate(str(token)))\n",
    "    return stack.pop().expr"
   ]
  },
  {
   "cell_type": "code",
   "execution_count": null,
   "id": "98289c5d-e28a-43f9-857f-05e6eda76822",
   "metadata": {},
   "outputs": [],
   "source": [
    "def solve(target, numbers):\n",
    "    e, v = find_first_or_closest(target, numbers)\n",
    "    s = postfix_to_infix(flatten_expression(e))\n",
    "    return s, v"
   ]
  },
  {
   "cell_type": "code",
   "execution_count": null,
   "id": "b16357bc-5845-40d0-976c-ff22f95cc860",
   "metadata": {},
   "outputs": [],
   "source": []
  },
  {
   "cell_type": "markdown",
   "id": "57a87f2e-0c8b-405b-aac2-841382e0e137",
   "metadata": {},
   "source": [
    "## Explanation of the functional aspects of the code"
   ]
  },
  {
   "cell_type": "code",
   "execution_count": null,
   "id": "c470d0ed-7963-44e8-84f1-fae7bcc7cbc4",
   "metadata": {},
   "outputs": [],
   "source": []
  },
  {
   "cell_type": "code",
   "execution_count": null,
   "id": "d1477e85-8fd1-45c8-9077-3d9b17611eda",
   "metadata": {},
   "outputs": [],
   "source": []
  },
  {
   "cell_type": "code",
   "execution_count": null,
   "id": "1fe824ec-8950-4141-a22d-29a93494022f",
   "metadata": {},
   "outputs": [],
   "source": []
  },
  {
   "cell_type": "code",
   "execution_count": null,
   "id": "c49a511a-01ae-479a-81da-6c213f8453d8",
   "metadata": {},
   "outputs": [],
   "source": []
  },
  {
   "cell_type": "code",
   "execution_count": null,
   "id": "c1efcc70-b00b-4e9f-8419-655f769b7cd2",
   "metadata": {},
   "outputs": [],
   "source": []
  },
  {
   "cell_type": "markdown",
   "id": "1746283e-aa03-47e5-87a5-982b35d5cbe4",
   "metadata": {},
   "source": [
    "## References\n",
    "***"
   ]
  },
  {
   "cell_type": "markdown",
   "id": "9c4c39d6-13db-4251-946f-514cc325c905",
   "metadata": {},
   "source": [
    "<a id='section1'></a>[[1] Countdown Game Example](https://datagenetics.com/blog/august32014/index.html)"
   ]
  },
  {
   "cell_type": "markdown",
   "id": "48cf9df6-c06a-411f-b038-1b9136731132",
   "metadata": {},
   "source": [
    "<a id='section2'></a>[[2] Reverse Polish Notation ](https://en.wikipedia.org/wiki/Reverse_Polish_notation)"
   ]
  },
  {
   "cell_type": "markdown",
   "id": "ef9a1fd1-f976-4364-935c-7875d2a58701",
   "metadata": {},
   "source": [
    "<a id='section3'></a>[[3] Functional Programming in Python ](https://realpython.com/python-functional-programming/)"
   ]
  },
  {
   "cell_type": "markdown",
   "id": "373b865f-81ac-4e95-8f77-7ec821d73e69",
   "metadata": {},
   "source": [
    "<a id='section4'></a>[[4] Stackoverflow: Countdown Binary Trees](https://stackoverflow.com/a/54496061)"
   ]
  },
  {
   "cell_type": "markdown",
   "id": "31f9ad88-9ade-4ee5-af8e-dcca93d9f59f",
   "metadata": {},
   "source": [
    "<a id='section5'></a>[[5] (The Final) Countdown](https://easychair.org/publications/open/2L76)"
   ]
  },
  {
   "cell_type": "markdown",
   "id": "c056b208-ca8e-403b-bb01-0c2d977fe53e",
   "metadata": {},
   "source": [
    "<a id='section6'></a>[[6] Countdown Numbers Game: Solved, Analysed, Extended](http://doc.gold.ac.uk/aisb50/AISB50-S02/AISB50-S2-Colton-paper.pdf)"
   ]
  },
  {
   "cell_type": "markdown",
   "id": "0ad00403-78ce-4c96-9122-330a696b5f12",
   "metadata": {},
   "source": [
    "<a id='section7'></a>[[7] Countdown Problem](http://www.cs.nott.ac.uk/~pszgmh/countdown.pdf)"
   ]
  },
  {
   "cell_type": "code",
   "execution_count": null,
   "id": "1cb6d725-2926-4afa-bcce-d03f7110f71e",
   "metadata": {},
   "outputs": [],
   "source": []
  },
  {
   "cell_type": "code",
   "execution_count": null,
   "id": "b8251491-aec5-4f1c-abea-200dfea6309d",
   "metadata": {},
   "outputs": [],
   "source": []
  }
 ],
 "metadata": {
  "kernelspec": {
   "display_name": "Python 3",
   "language": "python",
   "name": "python3"
  },
  "language_info": {
   "codemirror_mode": {
    "name": "ipython",
    "version": 3
   },
   "file_extension": ".py",
   "mimetype": "text/x-python",
   "name": "python",
   "nbconvert_exporter": "python",
   "pygments_lexer": "ipython3",
   "version": "3.8.8"
  }
 },
 "nbformat": 4,
 "nbformat_minor": 5
}
