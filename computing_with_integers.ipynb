{
 "cells": [
  {
   "cell_type": "markdown",
   "id": "4dfb27d5-080c-4fed-82ad-cddadf78a4e5",
   "metadata": {},
   "source": [
    "# Computing with the Integers\n",
    "***"
   ]
  },
  {
   "cell_type": "code",
   "execution_count": 1,
   "id": "6b8360df-5684-4da8-b3b9-bdbb137f8f47",
   "metadata": {},
   "outputs": [],
   "source": [
    "def double(i):\n",
    "    return 2 * i"
   ]
  },
  {
   "cell_type": "code",
   "execution_count": 2,
   "id": "e6d5ec61-8d4b-4309-801c-88321d2f64f0",
   "metadata": {},
   "outputs": [],
   "source": [
    "list_of_inputs = [-9,-8,-7,-6,-5,-4,-3,-2,-1,0,1,2,3,4,5,6,7,8,9]"
   ]
  },
  {
   "cell_type": "code",
   "execution_count": 5,
   "id": "c7746f16-4ada-402c-a729-3b58b0dc04ce",
   "metadata": {},
   "outputs": [
    {
     "data": {
      "text/plain": [
       "[-18, -16, -14, -12, -10, -8, -6, -4, -2, 0, 2, 4, 6, 8, 10, 12, 14, 16, 18]"
      ]
     },
     "execution_count": 5,
     "metadata": {},
     "output_type": "execute_result"
    }
   ],
   "source": [
    "list_out_outputs = list(map(double,list_of_inputs))\n",
    "list_out_outputs"
   ]
  },
  {
   "cell_type": "code",
   "execution_count": 8,
   "id": "216ce51d-96cc-41e6-9bd4-c59ca8314141",
   "metadata": {},
   "outputs": [
    {
     "name": "stdout",
     "output_type": "stream",
     "text": [
      " -9 -> -18\n",
      " -8 -> -16\n",
      " -7 -> -14\n",
      " -6 -> -12\n",
      " -5 -> -10\n",
      " -4 ->  -8\n",
      " -3 ->  -6\n",
      " -2 ->  -4\n",
      " -1 ->  -2\n",
      "  0 ->   0\n",
      "  1 ->   2\n",
      "  2 ->   4\n",
      "  3 ->   6\n",
      "  4 ->   8\n",
      "  5 ->  10\n",
      "  6 ->  12\n",
      "  7 ->  14\n",
      "  8 ->  16\n",
      "  9 ->  18\n"
     ]
    }
   ],
   "source": [
    "for i in range(-9,10):\n",
    "    print(f'{i:3} -> {double(i):3}')"
   ]
  },
  {
   "cell_type": "markdown",
   "id": "f8e0f86f-6f6b-49a4-ad86-435ca2e69387",
   "metadata": {},
   "source": [
    "*There is one-to-one correspondence between inputs and outputs of this function. For every input there is a unique output.*"
   ]
  },
  {
   "cell_type": "markdown",
   "id": "53d98ae6-17b2-45a3-abd8-adb417f51351",
   "metadata": {},
   "source": [
    "<br>\n",
    "\n",
    "$ f: \\mathbb{Z} \\rightarrow 2 \\mathbb{Z}$\n",
    "\n",
    "$ \\mathbb{Z} = { \\ldots, -2, -1, 0, 1, 2, \\ldots }$\n",
    "\n",
    "$ 2 \\mathbb{Z} = { \\ldots, -2, 0, 2, \\ldots }$\n",
    "\n",
    "$ 2 \\mathbb{Z} \\subset \\mathbb{Z}$\n",
    "\n",
    "***Aleph null** - the smallest infinite cardinal number*\n",
    "\n",
    "$ | \\mathbb{Z} | $ is $\\aleph_0$\n",
    "\n",
    "<br>"
   ]
  },
  {
   "cell_type": "markdown",
   "id": "ae9ad89f-f450-41f7-8aab-e80eb4b7501c",
   "metadata": {},
   "source": [
    "# The Integers and the Reals\n",
    "***\n"
   ]
  },
  {
   "cell_type": "markdown",
   "id": "ffee2804-78fb-42e3-b22a-9dbea92b11e2",
   "metadata": {},
   "source": [
    "*Set of positive integers*\n",
    "\n",
    "$\\mathbb{N}_0 = {0, 1, 2, 3, \\ldots}$\n",
    "\n",
    "$|\\mathbb{N}_0|$ is $\\aleph_0$\n",
    "\n",
    "$0 \\rightarrow 0$\n",
    "\n",
    "$1 \\rightarrow -1$\n",
    "\n",
    "$2 \\rightarrow 1$\n",
    "\n",
    "$3 \\rightarrow -2$\n",
    "\n",
    "$4 \\rightarrow 2$\n",
    "\n",
    "$\\ldots$"
   ]
  },
  {
   "cell_type": "code",
   "execution_count": 3,
   "id": "ff22d8c1-2587-4292-8c68-08b8f4a4ee97",
   "metadata": {},
   "outputs": [
    {
     "name": "stdout",
     "output_type": "stream",
     "text": [
      " 0 ->0.97975894995012180466...\n",
      " 1 ->0.98501435141813054042...\n",
      " 2 ->0.04419158282772850388...\n",
      " 3 ->0.95166373112148827662...\n",
      " 4 ->0.90374024023231580571...\n",
      " 5 ->0.62927645116993402574...\n",
      " 6 ->0.85598503451548357823...\n",
      " 7 ->0.75253633997901292485...\n",
      " 8 ->0.89766154399732733804...\n",
      " 9 ->0.04225992492211960716...\n",
      "...\n"
     ]
    }
   ],
   "source": [
    "import random\n",
    "for n in range(10):\n",
    "    print(f'{n:2} ->{random.random():0.20f}...')\n",
    "print('...')"
   ]
  },
  {
   "cell_type": "markdown",
   "id": "d0b707d9-438a-46c8-8863-a203a24a2ab1",
   "metadata": {},
   "source": [
    "*There's more numbers on the number line between 0 and 1 than there are integers in the universe*"
   ]
  },
  {
   "cell_type": "markdown",
   "id": "8fcc4847-7cb2-49c3-ac77-14ea34781065",
   "metadata": {},
   "source": [
    "*There's at least 1 real number than cannot be paired with one of the natural numbers*"
   ]
  },
  {
   "cell_type": "code",
   "execution_count": 8,
   "id": "67a97e2b-2f7f-4233-9306-2a63ee7ee830",
   "metadata": {},
   "outputs": [
    {
     "data": {
      "text/plain": [
       "0.095757144"
      ]
     },
     "execution_count": 8,
     "metadata": {},
     "output_type": "execute_result"
    }
   ],
   "source": [
    "0.0957571440"
   ]
  },
  {
   "cell_type": "markdown",
   "id": "1f1cfd4b-c518-47d1-92df-379d0079c496",
   "metadata": {},
   "source": [
    "If x >=0 && x <9\n",
    "\n",
    "x+1\n",
    "\n",
    "elif x == 9 \n",
    "\n",
    "x = 0"
   ]
  },
  {
   "cell_type": "markdown",
   "id": "553fafa8-8c7d-481a-b569-0829c11b51f8",
   "metadata": {},
   "source": [
    "*Computer programs can be converted to natural numbers*\n"
   ]
  },
  {
   "cell_type": "markdown",
   "id": "4b6f772a-647c-4ec9-946b-e8b6a32a7706",
   "metadata": {},
   "source": [
    "$\\mathbb{N}_0 = {0, 1, 2, 3, \\ldots}$\n",
    "\n",
    "$\\mathbf{P}(\\mathbb{N}_0 = \\{ \\{\\}, \\{0\\}, \\{1\\}, \\{2\\}, \\{3\\}, \\ldots \\{0,1\\} \\ldots\\}$\n",
    "\n",
    "$|\\mathbf{P}(\\mathbb{N}_0)|$ is $\\aleph_1$"
   ]
  },
  {
   "cell_type": "code",
   "execution_count": null,
   "id": "9fff14f3-9f8d-49f9-a0cc-4c7393d60b07",
   "metadata": {},
   "outputs": [],
   "source": []
  },
  {
   "cell_type": "code",
   "execution_count": null,
   "id": "6d1beb05-83ee-4199-8522-7f623569f990",
   "metadata": {},
   "outputs": [],
   "source": []
  },
  {
   "cell_type": "code",
   "execution_count": null,
   "id": "68019555-b4d7-45bd-a79a-dcdf8e684a50",
   "metadata": {},
   "outputs": [],
   "source": []
  }
 ],
 "metadata": {
  "kernelspec": {
   "display_name": "Python 3",
   "language": "python",
   "name": "python3"
  },
  "language_info": {
   "codemirror_mode": {
    "name": "ipython",
    "version": 3
   },
   "file_extension": ".py",
   "mimetype": "text/x-python",
   "name": "python",
   "nbconvert_exporter": "python",
   "pygments_lexer": "ipython3",
   "version": "3.8.8"
  }
 },
 "nbformat": 4,
 "nbformat_minor": 5
}
