{
 "cells": [
  {
   "cell_type": "markdown",
   "id": "3102d2b6-fe70-49f6-abdf-ef316bc6bfb4",
   "metadata": {},
   "source": [
    "# Sets\n",
    "***"
   ]
  },
  {
   "cell_type": "markdown",
   "id": "dac8e3a7-49c9-4231-9d4a-1d1d644a3cd9",
   "metadata": {},
   "source": [
    "https://docs.python.org/3/tutorial/datastructures.html#sets"
   ]
  },
  {
   "cell_type": "code",
   "execution_count": 1,
   "id": "2cf00216-f4ec-4d11-9718-82e1cfce1d71",
   "metadata": {},
   "outputs": [],
   "source": [
    "# Alphabet for strings: a set.\n",
    "A = {'a', 'b'}"
   ]
  },
  {
   "cell_type": "code",
   "execution_count": 24,
   "id": "2fcb5a26-d1c9-44b7-b24c-829efe5b34d0",
   "metadata": {},
   "outputs": [
    {
     "data": {
      "text/plain": [
       "set"
      ]
     },
     "execution_count": 24,
     "metadata": {},
     "output_type": "execute_result"
    }
   ],
   "source": [
    "# Curly braces are often used for sets.\n",
    "type(A)"
   ]
  },
  {
   "cell_type": "code",
   "execution_count": 25,
   "id": "d684ab3d-276e-42ec-83a1-e06f13d68034",
   "metadata": {},
   "outputs": [
    {
     "data": {
      "text/plain": [
       "True"
      ]
     },
     "execution_count": 25,
     "metadata": {},
     "output_type": "execute_result"
    }
   ],
   "source": [
    "# Sets are unordered.\n",
    "{'a', 'b'} == {'b', 'a'}"
   ]
  },
  {
   "cell_type": "code",
   "execution_count": 27,
   "id": "956d2e8f-d6a7-48da-a2d8-72a7cdfd7e83",
   "metadata": {},
   "outputs": [
    {
     "data": {
      "text/plain": [
       "False"
      ]
     },
     "execution_count": 27,
     "metadata": {},
     "output_type": "execute_result"
    }
   ],
   "source": [
    "# Order does matter for lists.\n",
    "['a', 'b'] == ['b', 'a']"
   ]
  },
  {
   "cell_type": "code",
   "execution_count": 28,
   "id": "f39707a4-2e10-41c4-897d-a75807053df7",
   "metadata": {},
   "outputs": [
    {
     "data": {
      "text/plain": [
       "{1, 2, 3}"
      ]
     },
     "execution_count": 28,
     "metadata": {},
     "output_type": "execute_result"
    }
   ],
   "source": [
    "# Using the set() function to create a set from a list.\n",
    "set([1,2,3])"
   ]
  },
  {
   "cell_type": "code",
   "execution_count": 8,
   "id": "26486637-b37b-4649-bfb6-55cabfa83637",
   "metadata": {},
   "outputs": [
    {
     "data": {
      "text/plain": [
       "{-1, 0.0, 1, 2, 3, 'a', 'b', 'v'}"
      ]
     },
     "execution_count": 8,
     "metadata": {},
     "output_type": "execute_result"
    }
   ],
   "source": [
    "# Sets don't keep count.\n",
    "set(['v','a',3, 2, 2, 1,-1,0.0,'b'])"
   ]
  },
  {
   "cell_type": "code",
   "execution_count": 30,
   "id": "ff5fd571-323d-45a2-9dec-f46d934d0cbc",
   "metadata": {},
   "outputs": [
    {
     "data": {
      "text/plain": [
       "True"
      ]
     },
     "execution_count": 30,
     "metadata": {},
     "output_type": "execute_result"
    }
   ],
   "source": [
    "# Test whether or not an item is in the set.\n",
    "1 in {1, 2, 3}"
   ]
  },
  {
   "cell_type": "code",
   "execution_count": 31,
   "id": "73c20992-dd0d-4af3-aa27-4bbaf0bff2a7",
   "metadata": {},
   "outputs": [
    {
     "data": {
      "text/plain": [
       "False"
      ]
     },
     "execution_count": 31,
     "metadata": {},
     "output_type": "execute_result"
    }
   ],
   "source": [
    "'a' in {1, 2, 3}"
   ]
  },
  {
   "cell_type": "markdown",
   "id": "9e2c7209-aa12-41a1-9c72-bc5b8b265af0",
   "metadata": {},
   "source": [
    "# Tuples\n",
    "***\n",
    "\n",
    "*Tuple is **immutable** while list is **mutable***"
   ]
  },
  {
   "cell_type": "markdown",
   "id": "f40b28c2-303c-40e4-881a-2069d3e18fbc",
   "metadata": {},
   "source": [
    "https://docs.python.org/3/tutorial/datastructures.html#tuples-and-sequences"
   ]
  },
  {
   "cell_type": "code",
   "execution_count": 32,
   "id": "596ed882-c43f-4731-a1de-4fa7281984be",
   "metadata": {},
   "outputs": [
    {
     "data": {
      "text/plain": [
       "[1, 2, 3]"
      ]
     },
     "execution_count": 32,
     "metadata": {},
     "output_type": "execute_result"
    }
   ],
   "source": [
    "# List\n",
    "[1,2,3]"
   ]
  },
  {
   "cell_type": "code",
   "execution_count": 33,
   "id": "38817f4f-2939-4b18-97d8-fb41620ec8f7",
   "metadata": {},
   "outputs": [
    {
     "data": {
      "text/plain": [
       "list"
      ]
     },
     "execution_count": 33,
     "metadata": {},
     "output_type": "execute_result"
    }
   ],
   "source": [
    "# List\n",
    "type([1,2,3])"
   ]
  },
  {
   "cell_type": "code",
   "execution_count": 34,
   "id": "1b8bca66-f089-44dd-b9ae-720294049988",
   "metadata": {},
   "outputs": [],
   "source": [
    "# Create a list.\n",
    "l = [1,2,3]"
   ]
  },
  {
   "cell_type": "code",
   "execution_count": 35,
   "id": "697081a7-22f7-4fcf-9af1-225046ea19e5",
   "metadata": {},
   "outputs": [],
   "source": [
    "# Reassign an element.\n",
    "l[1] = 4"
   ]
  },
  {
   "cell_type": "code",
   "execution_count": 36,
   "id": "8f176891-9125-4281-b0a0-8ff905d8a142",
   "metadata": {},
   "outputs": [
    {
     "data": {
      "text/plain": [
       "[1, 4, 3]"
      ]
     },
     "execution_count": 36,
     "metadata": {},
     "output_type": "execute_result"
    }
   ],
   "source": [
    "# The element is reassigned.\n",
    "l"
   ]
  },
  {
   "cell_type": "code",
   "execution_count": 37,
   "id": "f01dafd3-0d9a-4490-a0ec-6b9fdeb089d5",
   "metadata": {},
   "outputs": [],
   "source": [
    "# Create a tuple.\n",
    "t = (1, 2, 3)"
   ]
  },
  {
   "cell_type": "code",
   "execution_count": 40,
   "id": "21323b5b-8af5-4e0b-bb6b-941fbe22a24e",
   "metadata": {},
   "outputs": [],
   "source": [
    "# Trying to reassign an element in tuple simply won't work.\n",
    "#t[1] = 4"
   ]
  },
  {
   "cell_type": "code",
   "execution_count": 42,
   "id": "e9e22a49-b5d5-44e8-a2c5-95f581378810",
   "metadata": {},
   "outputs": [],
   "source": [
    "# Can't hash a list.\n",
    "# hash(l)"
   ]
  },
  {
   "cell_type": "code",
   "execution_count": 43,
   "id": "bd917de8-d584-4634-8fdb-379a79b24ee6",
   "metadata": {},
   "outputs": [
    {
     "data": {
      "text/plain": [
       "529344067295497451"
      ]
     },
     "execution_count": 43,
     "metadata": {},
     "output_type": "execute_result"
    }
   ],
   "source": [
    "# Can hash a tuple.\n",
    "hash(t)"
   ]
  },
  {
   "cell_type": "code",
   "execution_count": 44,
   "id": "805d4702-bf34-4231-b377-8e03970b08cc",
   "metadata": {},
   "outputs": [
    {
     "data": {
      "text/plain": [
       "'0x7589b9fe71bcceb'"
      ]
     },
     "execution_count": 44,
     "metadata": {},
     "output_type": "execute_result"
    }
   ],
   "source": [
    "# Hex value of a hash.\n",
    "hex(hash(t))"
   ]
  },
  {
   "cell_type": "code",
   "execution_count": 45,
   "id": "1101c26f-2081-4189-8dec-b8fa7996a1a5",
   "metadata": {},
   "outputs": [
    {
     "data": {
      "text/plain": [
       "3"
      ]
     },
     "execution_count": 45,
     "metadata": {},
     "output_type": "execute_result"
    }
   ],
   "source": [
    "# You can use tuples as dictionary keys.\n",
    "D = {(1,2,3): 3, (1,2): 2}\n",
    "D[(1,2,3)]"
   ]
  },
  {
   "cell_type": "code",
   "execution_count": 46,
   "id": "1fafcf15-8b5c-4c51-8e29-ccc7f6a3b45f",
   "metadata": {},
   "outputs": [],
   "source": [
    "# You can't use lists as dictionary keys.\n",
    "# = {[1,2,3]: 3, [1,2]: 2}"
   ]
  },
  {
   "cell_type": "code",
   "execution_count": 54,
   "id": "3a7130bf-ba1d-4e16-80de-d18fbe8967fa",
   "metadata": {},
   "outputs": [
    {
     "name": "stdout",
     "output_type": "stream",
     "text": [
      "a:1\n",
      "b:2\n"
     ]
    }
   ],
   "source": [
    "# Tuples can be used for assignment - you don't have to use round brackets.\n",
    "a, b = 1, 2\n",
    "print('a:{a}'.format(a=a))\n",
    "print('b:{b}'.format(b=b))"
   ]
  },
  {
   "cell_type": "code",
   "execution_count": 55,
   "id": "90079aaa-203c-48d5-b98b-1eb377e23f02",
   "metadata": {},
   "outputs": [
    {
     "data": {
      "text/plain": [
       "{1, 2, 3}"
      ]
     },
     "execution_count": 55,
     "metadata": {},
     "output_type": "execute_result"
    }
   ],
   "source": [
    "# Some contexts require the round brackets.\n",
    "set((1, 2, 3))"
   ]
  },
  {
   "cell_type": "markdown",
   "id": "6aac0c84-4942-4327-a105-9ebe94519f99",
   "metadata": {},
   "source": [
    "***\n",
    "<br>\n",
    "<br>\n"
   ]
  },
  {
   "cell_type": "markdown",
   "id": "15e0bcbd-2975-480d-b3c4-94cbc0bf74b4",
   "metadata": {},
   "source": [
    "# Post Correspondence Problem\n",
    "***\n",
    "https://en.wikipedia.org/wiki/Post_correspondence_problem"
   ]
  },
  {
   "cell_type": "code",
   "execution_count": 1,
   "id": "3b92dd4b-bcc4-4b5e-99af-a1be8bc97dac",
   "metadata": {},
   "outputs": [],
   "source": [
    "A = {'a','b'}\n",
    "L1 = ['a','ab','bba']"
   ]
  },
  {
   "cell_type": "code",
   "execution_count": 2,
   "id": "552a3896-92c5-460b-a078-a4f5cda17337",
   "metadata": {},
   "outputs": [],
   "source": [
    "L2 = ['baa','aa','bb']"
   ]
  },
  {
   "cell_type": "markdown",
   "id": "0e905ba5-febd-4149-8a24-a5cdab7f9b4b",
   "metadata": {},
   "source": [
    "*Two lists correspond with each other when there is a list S containing indexes of the elements in the list*"
   ]
  },
  {
   "cell_type": "code",
   "execution_count": 3,
   "id": "ac327c75-70ec-47b5-bc5e-cfa7cd7ee843",
   "metadata": {},
   "outputs": [],
   "source": [
    "S = [2,1,2,0]"
   ]
  },
  {
   "cell_type": "code",
   "execution_count": 4,
   "id": "6c44fa2a-a79e-45e8-94f3-03559524a35d",
   "metadata": {},
   "outputs": [
    {
     "data": {
      "text/plain": [
       "'bbaabbbaa'"
      ]
     },
     "execution_count": 4,
     "metadata": {},
     "output_type": "execute_result"
    }
   ],
   "source": [
    "# Apply S to L1\n",
    "'bba' + 'ab' +  'bba' + 'a'"
   ]
  },
  {
   "cell_type": "code",
   "execution_count": 5,
   "id": "9967f382-1164-4639-8203-421f09ae36c4",
   "metadata": {},
   "outputs": [
    {
     "data": {
      "text/plain": [
       "'bbaabbbaa'"
      ]
     },
     "execution_count": 5,
     "metadata": {},
     "output_type": "execute_result"
    }
   ],
   "source": [
    "# Apply S to L2\n",
    "'bb' + 'aa' +  'bb' + 'baa'"
   ]
  },
  {
   "cell_type": "markdown",
   "id": "6554b827-ce9b-4ba8-ad6a-1d39da0c4daa",
   "metadata": {},
   "source": [
    "`L1` corresponds to `L2`"
   ]
  },
  {
   "cell_type": "code",
   "execution_count": 6,
   "id": "47855163-ff0b-48fe-aaab-cf6ccec8e109",
   "metadata": {},
   "outputs": [],
   "source": [
    "def apply(S,L):\n",
    "    S_on_L = [L[i] for i in S]\n",
    "    return ''.join(S_on_L)"
   ]
  },
  {
   "cell_type": "code",
   "execution_count": 7,
   "id": "16857504-c2b9-42fd-8639-cb883cb7a603",
   "metadata": {},
   "outputs": [
    {
     "data": {
      "text/plain": [
       "'bbaabbbaa'"
      ]
     },
     "execution_count": 7,
     "metadata": {},
     "output_type": "execute_result"
    }
   ],
   "source": [
    "apply(S,L1)"
   ]
  },
  {
   "cell_type": "code",
   "execution_count": 11,
   "id": "7c399cc0-650f-4dd3-9de2-5eba81019b84",
   "metadata": {},
   "outputs": [
    {
     "data": {
      "text/plain": [
       "['bba', 'ab', 'bba', 'a']"
      ]
     },
     "execution_count": 11,
     "metadata": {},
     "output_type": "execute_result"
    }
   ],
   "source": [
    "[L1[i] for i in S]"
   ]
  },
  {
   "cell_type": "code",
   "execution_count": 12,
   "id": "90023393-9f63-4d29-bfae-7e651f562d3a",
   "metadata": {},
   "outputs": [
    {
     "data": {
      "text/plain": [
       "'bbaabbbaa'"
      ]
     },
     "execution_count": 12,
     "metadata": {},
     "output_type": "execute_result"
    }
   ],
   "source": [
    "apply(S,L2)"
   ]
  },
  {
   "cell_type": "code",
   "execution_count": 13,
   "id": "3f44dfb9-5181-4d31-ac96-b19d0d1eec18",
   "metadata": {},
   "outputs": [
    {
     "data": {
      "text/plain": [
       "True"
      ]
     },
     "execution_count": 13,
     "metadata": {},
     "output_type": "execute_result"
    }
   ],
   "source": [
    "apply(S,L1) == apply(S,L2)"
   ]
  },
  {
   "cell_type": "markdown",
   "id": "a918e6fa-49e5-49c9-840e-e762e8baeded",
   "metadata": {},
   "source": [
    "*Demonstrates that those 2 lists correspond to each other*"
   ]
  },
  {
   "cell_type": "code",
   "execution_count": 14,
   "id": "e735fff7-efa8-4d01-bc57-cd33a9914891",
   "metadata": {},
   "outputs": [
    {
     "data": {
      "text/plain": [
       "'bbaabbbaabbaabbbaa'"
      ]
     },
     "execution_count": 14,
     "metadata": {},
     "output_type": "execute_result"
    }
   ],
   "source": [
    "apply([2,1,2,0,2,1,2,0], L1)"
   ]
  },
  {
   "cell_type": "code",
   "execution_count": 15,
   "id": "07b161e0-d7f4-4ff4-8a39-af8903fee610",
   "metadata": {},
   "outputs": [
    {
     "data": {
      "text/plain": [
       "'bbaabbbaabbaabbbaa'"
      ]
     },
     "execution_count": 15,
     "metadata": {},
     "output_type": "execute_result"
    }
   ],
   "source": [
    "apply([2,1,2,0,2,1,2,0], L2)"
   ]
  },
  {
   "cell_type": "markdown",
   "id": "35e549f4-118f-46d1-b719-05bb6ae6799b",
   "metadata": {},
   "source": [
    "***\n",
    "# No Correspondence"
   ]
  },
  {
   "cell_type": "code",
   "execution_count": 16,
   "id": "686d0dca-a549-4439-a671-b6c5971ba9f2",
   "metadata": {},
   "outputs": [],
   "source": [
    "L1 = ['ab','bba']"
   ]
  },
  {
   "cell_type": "code",
   "execution_count": 18,
   "id": "cc8f2ab3-9733-4a53-a72d-c272df7498e6",
   "metadata": {},
   "outputs": [],
   "source": [
    "L2 = ['aa','bb']"
   ]
  },
  {
   "cell_type": "code",
   "execution_count": 21,
   "id": "2abc4a12-e601-4888-a01a-25b3f19f38d8",
   "metadata": {},
   "outputs": [
    {
     "data": {
      "text/plain": [
       "[2, 1, 2, 0]"
      ]
     },
     "execution_count": 21,
     "metadata": {},
     "output_type": "execute_result"
    }
   ],
   "source": [
    "S "
   ]
  },
  {
   "cell_type": "markdown",
   "id": "6662f1b3-5162-48e3-9aa9-f31600dd06ba",
   "metadata": {},
   "source": [
    "*Two lists correspondence with each other if there is an **'S'** that we can apply*"
   ]
  },
  {
   "cell_type": "markdown",
   "id": "0ef62fa5-4335-4f2c-bcb1-399d5cfec719",
   "metadata": {},
   "source": [
    "$$ (L_1,L_2) \\rightarrow \\{True,False\\} \\qquad |L_1| = |L_2| $$"
   ]
  },
  {
   "cell_type": "markdown",
   "id": "99918029-bdeb-40bb-bb68-70bc4e6c4afd",
   "metadata": {},
   "source": [
    "# Bounded PCP\n",
    "***\n",
    "\n",
    "*One of the variants of Post Correspondence Problem is its **Bounded** version which asks if we can find a match using no more than ***k*** tiles, including repeated tiles.*\n",
    "\n",
    "*However there may be more interpretations of **k** it can also be a max length of a concatenated string*\n",
    "\n",
    "$ [  \\frac{ bba } { bb }] [  \\frac{ ab } { aa }]  [  \\frac{ bba } { bb }]  [  \\frac{ a } { baa }]   $"
   ]
  },
  {
   "cell_type": "markdown",
   "id": "cc2a6380-792b-4477-b761-00e79e8af345",
   "metadata": {},
   "source": [
    "$$ |S| \\leq K \\qquad K  \\in \\mathbb{N} $$\n"
   ]
  },
  {
   "cell_type": "code",
   "execution_count": 42,
   "id": "df8c2442-0225-41ee-a6cb-0b1a1dae57ca",
   "metadata": {},
   "outputs": [],
   "source": [
    "from itertools import product"
   ]
  },
  {
   "cell_type": "markdown",
   "id": "aae5edc0-ed82-4c74-80b3-1c3ef5e22abe",
   "metadata": {},
   "source": [
    "*Suppose that **A** and **B** are non-empty sets. The **Cartesian Product** of sets $A \\times B$ is a set of all possible ordered pairs (a,b) where $A \\in B$ and $b \\in B$*\n",
    "\n",
    "$A \\times B = \\left\\{ {\\left( {a,b} \\right) \\mid a \\in A \\text{ and } b \\in B} \\right\\}$"
   ]
  },
  {
   "cell_type": "code",
   "execution_count": 8,
   "id": "40128f7c-75f2-459b-b0c6-5e4f4e556c19",
   "metadata": {},
   "outputs": [],
   "source": [
    "def cartesian_product(L,K):\n",
    "    L1=[]\n",
    "    # First we need to find a Cartesian Product of a list\n",
    "    for i in range(1, K+1):\n",
    "        for roll in product(L, repeat = i):\n",
    "            joined_roll =''.join(roll)\n",
    "            # Hashing to make computation faster\n",
    "            L1.append(hash(joined_roll))\n",
    "    return L1    "
   ]
  },
  {
   "cell_type": "code",
   "execution_count": 36,
   "id": "d2d7a695-0a1d-4200-aaad-2fe1238e7a42",
   "metadata": {},
   "outputs": [],
   "source": [
    "def bpcp_solver(L1,L2,K):\n",
    "    for x in cartesian_product(L1,K):\n",
    "        for y in cartesian_product(L2,K):\n",
    "            if correspond(x,y):\n",
    "                return True           \n",
    "    return False           "
   ]
  },
  {
   "cell_type": "code",
   "execution_count": 40,
   "id": "b2541e7a-5321-40c6-9998-7875ed51644e",
   "metadata": {},
   "outputs": [],
   "source": [
    "def correspond(L1,L2):\n",
    "    if L1 == L2:\n",
    "        return True\n",
    "    else:\n",
    "        return False       "
   ]
  },
  {
   "cell_type": "code",
   "execution_count": 11,
   "id": "dc35862e-141e-4caa-873e-94195bb7a3f9",
   "metadata": {},
   "outputs": [],
   "source": [
    "L1 = ['a', 'ab', 'bba']"
   ]
  },
  {
   "cell_type": "code",
   "execution_count": 12,
   "id": "fdf09827-13fb-4efb-9810-e6da187a5116",
   "metadata": {},
   "outputs": [],
   "source": [
    "L2 = ['baa', 'aa', 'bb']"
   ]
  },
  {
   "cell_type": "code",
   "execution_count": 41,
   "id": "fa8e7c2f-9469-4912-a0a9-d4695e969027",
   "metadata": {},
   "outputs": [
    {
     "name": "stdout",
     "output_type": "stream",
     "text": [
      "True\n"
     ]
    }
   ],
   "source": [
    "print(bpcp_solver(L1, L2, 3))"
   ]
  },
  {
   "cell_type": "markdown",
   "id": "375f1e97-9736-4847-96bd-b306c18d6d18",
   "metadata": {},
   "source": [
    "## End Bounded PCP"
   ]
  }
 ],
 "metadata": {
  "kernelspec": {
   "display_name": "Python 3",
   "language": "python",
   "name": "python3"
  },
  "language_info": {
   "codemirror_mode": {
    "name": "ipython",
    "version": 3
   },
   "file_extension": ".py",
   "mimetype": "text/x-python",
   "name": "python",
   "nbconvert_exporter": "python",
   "pygments_lexer": "ipython3",
   "version": "3.8.8"
  }
 },
 "nbformat": 4,
 "nbformat_minor": 5
}
