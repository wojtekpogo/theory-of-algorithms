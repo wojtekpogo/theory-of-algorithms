{
 "cells": [
  {
   "cell_type": "markdown",
   "id": "15e0bcbd-2975-480d-b3c4-94cbc0bf74b4",
   "metadata": {},
   "source": [
    "## What you will find in this notebook\n",
    "\n",
    "*This notebook*"
   ]
  },
  {
   "cell_type": "markdown",
   "id": "d6475afa-31eb-4e39-8b03-7b1f35cdd2f0",
   "metadata": {},
   "source": [
    "# [Post Correspondence Problem](https://en.wikipedia.org/wiki/Post_correspondence_problem)\n",
    "***"
   ]
  },
  {
   "cell_type": "markdown",
   "id": "33067bae-c687-4d5f-b28e-fb320fb01d8c",
   "metadata": {},
   "source": [
    "### What is a Post correspondence problem?\n",
    "\n",
    "The Post Correspondence Problem (**PCP**) has been introduced by *Emil Post* in **1946** and is an undecidable decision problem that turns out to be very useful tool for proving problems in logic or in formal language theory to be undecidable. [[1](#section1)]"
   ]
  },
  {
   "cell_type": "markdown",
   "id": "a382fc7e-14b6-4d91-8f9d-040503087a7d",
   "metadata": {},
   "source": [
    "### Example\n",
    "\n",
    "*Let's say, we have two lists, both contains n-words, the goal is to find out the concatenation of these words in some sequence so that both lists yield same results.* [[2](#section2)]\n",
    "\n",
    "**We have two lists, A and B**\n",
    "\n",
    "`A=[aa, bb, abb] and B=[aab, ba, b]`\n",
    "\n",
    "*For the sequence **1,2,1,3** list **A** will yield **aabbaaabb** and list **B** will yield the same string **aabbaaabb***\n",
    "\n",
    "*The solution for this **PCP** becomes **1,2,1,3***\n",
    "\n",
    "\n"
   ]
  },
  {
   "cell_type": "markdown",
   "id": "044b9f44-1ec6-4ddd-9be7-ff4d792938e9",
   "metadata": {},
   "source": [
    "### Ways of representing The Post Correspondence Problem"
   ]
  },
  {
   "cell_type": "markdown",
   "id": "51d83c94-35e6-4e10-b61e-a3e67bdd14ce",
   "metadata": {},
   "source": [
    "*PCP can be represented in two different ways:*\n",
    "\n",
    "`Domino's Form`\n",
    "\n",
    "![image](https://user-images.githubusercontent.com/55446533/165973599-1e0b2ebf-31b5-48e5-971b-1e93be3078fe.png)\n",
    "\n",
    "\n",
    "`Table Form`\n",
    "\n",
    "![image](https://user-images.githubusercontent.com/55446533/165973726-e5d7a46b-dbb4-4e83-bad1-105f32decb0d.png)\n",
    "\n"
   ]
  },
  {
   "cell_type": "markdown",
   "id": "53632ed9-5a97-4f84-b146-eae35c2694d0",
   "metadata": {},
   "source": [
    "### Definition of PCP\n",
    "\n",
    "*The input of the problem consists of two finite lists:*\n",
    "\n",
    "$\\alpha_{1}$, $\\ldots$, $\\alpha_{N}$ and $\\beta_{1}$, $\\ldots$, $\\beta_{N}$ \n",
    "\n",
    "*These lists contain words over some alphabet **A** having at least two symbols.* \n",
    "\n",
    "*A solution to this problem is a sequence of indices:*\n",
    "$(i_k)_{1 \\le k \\le K}$ with $K \\ge 1$ and  1 $\\le i_k \\le$ N for all $k$, \n",
    "such that $\\alpha_{i_1} \\ldots \\alpha_{i_K} = \\beta_{i_1} \\ldots \\beta_{i_K}$.\n",
    "\n",
    "*The decision problem then is to decide whether such a solution exists or not.* [[3](#section3)]"
   ]
  },
  {
   "cell_type": "code",
   "execution_count": null,
   "id": "1f9be86b-8980-4c43-b488-0a955c949a64",
   "metadata": {},
   "outputs": [],
   "source": []
  },
  {
   "cell_type": "markdown",
   "id": "b0ec1e1e-0478-466c-ab24-01925e2eb4b3",
   "metadata": {},
   "source": [
    "\n",
    "\n"
   ]
  },
  {
   "cell_type": "markdown",
   "id": "95870a4a-4cce-4360-945f-55030d3863be",
   "metadata": {},
   "source": [
    "\n"
   ]
  },
  {
   "cell_type": "code",
   "execution_count": null,
   "id": "69884da7-9eee-4bb6-9b72-e742e0d68e35",
   "metadata": {},
   "outputs": [],
   "source": []
  },
  {
   "cell_type": "markdown",
   "id": "43c7a954-fb47-47c8-b0ef-02e49f6920b1",
   "metadata": {},
   "source": [
    "### What is an Undecidable Problem in Computability Theory?"
   ]
  },
  {
   "cell_type": "markdown",
   "id": "57331022-acba-4bb5-8005-f27e240d45bd",
   "metadata": {},
   "source": [
    "#### Undecidable Problem\n",
    "\n",
    "To better understand what an **Undecidable Problem** is, we have to find out what a **Decidable Problem** is - in simple words, the problem is decidable if we can construct a corresponding algorithm that can anwser the problem correctly. \n",
    "\n",
    "*Let's consider this example, suppose we have to compute all the prime numbers in range of 1000 to 2000. In order to find a solutuion to this problem we can easily implement an algorithm that can enumerate all the prime numbers within this range.*"
   ]
  },
  {
   "cell_type": "markdown",
   "id": "55ea50e2-cec6-4099-a7e1-bd9ae1361e7f",
   "metadata": {},
   "source": [
    "### Undecidability of Post Correspondence Problem\n",
    "\n",
    "*Post Correspondence Problem is an **undecidable problem**, here is not a specific algorithm that proves that any Post Correspondence Problem will have a solution. We are all aware of the undecidablitiy of the Turing Machine, if we are able to lower the Turing Machine to the Post Correspondence Problem then we can prove that the Post Correspondence Problem is a basic undecidable problem.*\n",
    "\n",
    "We already know about undecidablitiy of Turing Machine. If we are able to reduce Turing Machine to PCP then we will prove that PCP is undecidable as well.\n",
    "\n",
    "Lets look at an example of this:\n",
    "\n",
    "Lets assume that the Turing machine (TM) simulates the Post Correspondence Problem input string (**S**) can be represented as follows:\n",
    "\n",
    "$M=(Q, \\Sigma, \\Gamma, \\delta, )$"
   ]
  },
  {
   "cell_type": "markdown",
   "id": "b11f808d-a87c-4e64-a7e3-041e9363d426",
   "metadata": {},
   "source": [
    "In regards to Computability Theory, an undecidable problem is a decision problem for which we can't construct an algorithm that can annswer the problem correctly in the infinite time. A problem is *undecidable* if there is no **Turing Machine** that will always halt an infinite amout of time to answer it with either *yes* or *no*"
   ]
  },
  {
   "cell_type": "markdown",
   "id": "d8302415-db0b-4123-9cf3-e171c6ba1a8a",
   "metadata": {},
   "source": [
    "An undecidable problem can be related to many different topics such as:\n",
    "* **Abstract Machines** - *The Halting Problem*\n",
    "* **Logic** - *The Hilbert's Entscheidungsproblem*\n",
    "* **Analysis** - *Richardson's Theorem*\n",
    "* **Formal Languages** - *The Post Correspondence Problem*\n",
    "* **Topology/Matrices** - *The Mortal Matrix Problem*\n",
    "* **Combinatorial Group Theory** - *The Conjugacy Problem*"
   ]
  },
  {
   "cell_type": "code",
   "execution_count": null,
   "id": "4ebc3f7a-1423-4767-8366-3fed05b00338",
   "metadata": {},
   "outputs": [],
   "source": []
  },
  {
   "cell_type": "markdown",
   "id": "99918029-bdeb-40bb-bb68-70bc4e6c4afd",
   "metadata": {},
   "source": [
    "# Bounded PCP\n",
    "***\n",
    "\n",
    "*One of the variants of Post Correspondence Problem is its **Bounded** version which asks if we can find a match using no more than ***k*** tiles, including repeated tiles.*\n",
    "\n",
    "*However there may be more interpretations of **k** it can also be a max length of a concatenated string* [[3](#section3)]\n",
    "\n",
    "$ [  \\frac{ bba } { bb }] [  \\frac{ ab } { aa }]  [  \\frac{ bba } { bb }]  [  \\frac{ a } { baa }]   $"
   ]
  },
  {
   "cell_type": "markdown",
   "id": "cc2a6380-792b-4477-b761-00e79e8af345",
   "metadata": {},
   "source": [
    "$$ |S| \\leq K \\qquad K  \\in \\mathbb{N} $$\n"
   ]
  },
  {
   "cell_type": "markdown",
   "id": "3d0f50f4-ff95-4bed-acbe-f1e7781bf188",
   "metadata": {},
   "source": [
    "### What is Bounded Post Correspondence Problem?\n",
    "\n",
    "In the Bounded Post Correspondence Problem, if a match is found using more than a select number (*k*) of tiles, even including repeated tiles, one form of solution to the problem is the use of brute force search which will solve the problem in time of O($2^k$) but this has been proven difficult to improve on as this is an **NP-complete** problem. Basically, correctness of the problem can be found quickly with the use of *brute force*, however finding a way to find such a solution quickly is unknown. This problem will grow in\n",
    "\n"
   ]
  },
  {
   "cell_type": "markdown",
   "id": "d0340517-7277-4a0e-9b0c-46650174f4e2",
   "metadata": {},
   "source": [
    "<div>\n",
    "    <img src=\"https://user-images.githubusercontent.com/55446533/165979390-514d7f8c-5a2f-4d05-be35-ec457e3ac087.png\" width=500\">\n",
    "</div>\n",
    "                                                                                                                               \n",
    "                                                                                                                               \n"
   ]
  },
  {
   "cell_type": "markdown",
   "id": "e7dea0a5-9d67-4c82-b90b-11023719e8d4",
   "metadata": {},
   "source": [
    "A problem is NP (**Nondeterministic Polynomial**) complete if its solution can be guessed and verified in [polynomial time](https://mathworld.wolfram.com/PolynomialTime.html), in constrast to most NP-complete problems, a small variation of the *Bounded Post Corresponence Problem* was shown to be complete for **RNP**, this means that that it stays hard in the event of inputs chosen randomly as it it hard on average over evenly dispersed inputs."
   ]
  },
  {
   "cell_type": "markdown",
   "id": "60c0e576-f6bc-4199-ba94-0e57c1ba7814",
   "metadata": {},
   "source": [
    "### Definition of NP-Complete\n",
    "\n",
    "1. A problem $\\prod$ is NP-complete if:\n",
    "* $\\prod$ is NP-hard\n",
    "* $\\prod$ is in **NP**\n",
    "2. NP-complete problem $\\prod$ is the hardest problem in NP\n",
    "* if $\\prod$ is in **P**, the $P=NP$\n",
    "* if $P \\neq NP$, then $\\prod$ is not in $P$\n"
   ]
  },
  {
   "cell_type": "markdown",
   "id": "b25a283b-8e01-43d6-b27a-592cd7dd396f",
   "metadata": {},
   "source": [
    "### Solving The Bounded Post Correspondence Problem"
   ]
  },
  {
   "cell_type": "code",
   "execution_count": 1,
   "id": "df8c2442-0225-41ee-a6cb-0b1a1dae57ca",
   "metadata": {},
   "outputs": [],
   "source": [
    "from itertools import product"
   ]
  },
  {
   "cell_type": "markdown",
   "id": "aae5edc0-ed82-4c74-80b3-1c3ef5e22abe",
   "metadata": {},
   "source": [
    "*Suppose that **A** and **B** are non-empty sets. The [**Cartesian Product**](https://math24.net/cartesian-product-sets.html) of sets $A \\times B$ is a set of all possible ordered pairs (a,b) where $A \\in B$ and $b \\in B$*\n",
    "\n",
    "$A \\times B = \\left\\{ {\\left( {a,b} \\right) \\mid a \\in A \\text{ and } b \\in B} \\right\\}$"
   ]
  },
  {
   "cell_type": "code",
   "execution_count": 2,
   "id": "40128f7c-75f2-459b-b0c6-5e4f4e556c19",
   "metadata": {},
   "outputs": [],
   "source": [
    "def cartesian_product(L,K):\n",
    "    L1=[]\n",
    "    # First we need to find a Cartesian Product of a list\n",
    "    for i in range(1, K+1):\n",
    "        for roll in product(L, repeat = i):\n",
    "            joined_roll =''.join(roll)\n",
    "            # Hashing to make computation faster\n",
    "            L1.append(hash(joined_roll))\n",
    "    return L1"
   ]
  },
  {
   "cell_type": "markdown",
   "id": "e6e4b67b-d44f-452b-ae04-cec64d1c9d4d",
   "metadata": {},
   "source": [
    "*Correspond needs to state wheter a solution **S** of maximum length **K** exits*"
   ]
  },
  {
   "cell_type": "code",
   "execution_count": 3,
   "id": "c18ba308-7e9c-47b7-9239-170f326c7057",
   "metadata": {},
   "outputs": [],
   "source": [
    "def correspond(L1,L2,K):\n",
    "    # Check if two lists have the same length, return False if not\n",
    "    if len(L1) != len(L2):\n",
    "        return False \n",
    "    # Loop over the cartesian product of both given lists with use of Python zip function\n",
    "    # Basically zip function takes an iterables, joins them in a tuple and then returns it\n",
    "    for list_one, list_two in zip(cartesian_product(L1,K), cartesian_product(L2,K)):\n",
    "        if list_one == list_two:\n",
    "            print(\"Solution of max length {} found.\".format(K))\n",
    "            return True\n",
    "    print(\"Solution of max length {} not found.\".format(K))\n",
    "    return False "
   ]
  },
  {
   "cell_type": "code",
   "execution_count": 4,
   "id": "9ab565ec-f601-41a8-8440-b623edd0271c",
   "metadata": {},
   "outputs": [
    {
     "name": "stdout",
     "output_type": "stream",
     "text": [
      "[-2468406335249458425, -8772122906197019570, -4850193375645749346, -2389265562787987876, -8433602491537174977, 8147568008601235912, 3505726380094200579, 6378100124863404682, 6478409544851780586, -3430388095908392219, 5801269402926821232, -5061783248809909471, 5221638999639876047, 7184175895088766588, -6049175021827127263, -8945236620980684378, 4354784282701080936, 7522816942741330848, 4006500544706935840, 2263681683633029110, -6038521352102044562, -5500497841282411722, 8258897900300494287, 1918432075273982845, 3787242472288581764, -6858683963988443767, 4252163223455761403, -735238611093476259, 4984014216220413222, -5398786672117635914]\n"
     ]
    }
   ],
   "source": [
    "L3 = ['ab', 'bba']\n",
    "print(cartesian_product(L3,4))"
   ]
  },
  {
   "cell_type": "code",
   "execution_count": 5,
   "id": "d2d7a695-0a1d-4200-aaad-2fe1238e7a42",
   "metadata": {},
   "outputs": [],
   "source": [
    "def bpcp_solver(L1,L2,K):  \n",
    "    if correspond(L1,L2,K):\n",
    "        return True   \n",
    "    else:\n",
    "        return False       "
   ]
  },
  {
   "cell_type": "markdown",
   "id": "7c96fc1a-e032-4856-bcc7-4e1f30116b40",
   "metadata": {},
   "source": [
    "##### Example"
   ]
  },
  {
   "cell_type": "code",
   "execution_count": 6,
   "id": "dc35862e-141e-4caa-873e-94195bb7a3f9",
   "metadata": {},
   "outputs": [],
   "source": [
    "L1 = ['a', 'ab', 'bba']"
   ]
  },
  {
   "cell_type": "code",
   "execution_count": 7,
   "id": "fdf09827-13fb-4efb-9810-e6da187a5116",
   "metadata": {},
   "outputs": [],
   "source": [
    "L2 = ['baa', 'aa', 'bb']"
   ]
  },
  {
   "cell_type": "code",
   "execution_count": 8,
   "id": "fa8e7c2f-9469-4912-a0a9-d4695e969027",
   "metadata": {},
   "outputs": [
    {
     "name": "stdout",
     "output_type": "stream",
     "text": [
      "Solution of max length 4 found.\n",
      "True\n"
     ]
    }
   ],
   "source": [
    "print(bpcp_solver(L1, L2, 4))"
   ]
  },
  {
   "cell_type": "markdown",
   "id": "d64fb2ab-ba6f-4044-b861-bd6159e79ab5",
   "metadata": {},
   "source": [
    "#### Interactive area"
   ]
  },
  {
   "cell_type": "markdown",
   "id": "574bce77-2316-4a16-b4fc-2cce217cb718",
   "metadata": {},
   "source": [
    "*Below you can find an interactive area with two empty lists prepared. Fill them in, to play around with **Bounded Post Corrspondence Problem solver***"
   ]
  },
  {
   "cell_type": "code",
   "execution_count": 11,
   "id": "203d7406-e7fa-4680-9c33-e1404712e722",
   "metadata": {},
   "outputs": [],
   "source": [
    "L1 = [ ]\n",
    "L2 = [ ]\n",
    "K = 1 # Feel free to change the k value\n",
    "\n",
    "if not L1 or L2:\n",
    "    pass\n",
    "else:\n",
    "    print(bpcp_solver(L1,L2,K))"
   ]
  },
  {
   "cell_type": "markdown",
   "id": "375f1e97-9736-4847-96bd-b306c18d6d18",
   "metadata": {},
   "source": [
    "## End Bounded PCP\n",
    "***\n",
    "\n"
   ]
  },
  {
   "cell_type": "markdown",
   "id": "3b03cb8c-1e8c-413c-8bdc-d8e7d768311e",
   "metadata": {},
   "source": [
    "# References"
   ]
  },
  {
   "cell_type": "markdown",
   "id": "fad4b71a-076e-44e2-a890-2ad471cc26ed",
   "metadata": {},
   "source": [
    "<a id='section1'></a>[[1] Post Correspondence Problem](https://www.cis.upenn.edu/~jean/gbooks/PCPh04.pdf)"
   ]
  },
  {
   "cell_type": "markdown",
   "id": "11738401-f1b3-4bef-a892-af531c01f7d9",
   "metadata": {},
   "source": [
    "<a id='section2'></a>[[2] Ways of representing PCP](https://www.geeksforgeeks.org/post-correspondence-problem/#:~:text=Post%20Correspondence%20Problem%20is%20a,as%20string%20made%20by%20Denominators.)"
   ]
  },
  {
   "cell_type": "markdown",
   "id": "fdb1907d-7303-4f4e-9e7a-c0f7aed538d4",
   "metadata": {},
   "source": [
    "<a id='section3'></a>[[3] Bounded PCP](https://cs.stackexchange.com/questions/66023/what-is-k-in-the-bounded-post-correspondence-problem)"
   ]
  },
  {
   "cell_type": "markdown",
   "id": "45c7ba6c-0a49-4941-8357-363f36c93dad",
   "metadata": {},
   "source": [
    "<a id='section4'></a>[[4] Bounded PCP](https://cs.stackexchange.com/questions/66023/what-is-k-in-the-bounded-post-correspondence-problem)"
   ]
  },
  {
   "cell_type": "markdown",
   "id": "32d01504-4dcc-460e-99b3-e674875e1d4c",
   "metadata": {},
   "source": [
    "<a id='section4'></a>[[5] Python Zip()](https://www.programiz.com/python-programming/methods/built-in/zip)"
   ]
  },
  {
   "cell_type": "code",
   "execution_count": null,
   "id": "8de9f5b4-2428-4fff-8b71-bc29c5cff441",
   "metadata": {},
   "outputs": [],
   "source": []
  }
 ],
 "metadata": {
  "kernelspec": {
   "display_name": "Python 3",
   "language": "python",
   "name": "python3"
  },
  "language_info": {
   "codemirror_mode": {
    "name": "ipython",
    "version": 3
   },
   "file_extension": ".py",
   "mimetype": "text/x-python",
   "name": "python",
   "nbconvert_exporter": "python",
   "pygments_lexer": "ipython3",
   "version": "3.8.8"
  }
 },
 "nbformat": 4,
 "nbformat_minor": 5
}
